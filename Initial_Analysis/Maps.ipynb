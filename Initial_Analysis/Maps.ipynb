{
 "cells": [
  {
   "cell_type": "code",
   "execution_count": 2,
   "metadata": {
    "collapsed": true
   },
   "outputs": [],
   "source": [
    "import pandas as pd\n",
    "import numpy as np\n",
    "import matplotlib.pyplot as plt\n",
    "from datetime import datetime \n",
    "import seaborn as sb\n",
    "import scipy.stats as stat\n",
    "%matplotlib inline\n",
    "import random\n",
    "import gmplot\n",
    "from time import sleep"
   ]
  },
  {
   "cell_type": "code",
   "execution_count": 3,
   "metadata": {
    "collapsed": true
   },
   "outputs": [],
   "source": [
    "bikeshare_full = pd.read_csv('less_bikeshare_lat_lon.csv', \n",
    "                        parse_dates=['Start date', 'End date', 'start_date_short', 'end_date_short'])\n",
    "bikeshare_full.drop('Unnamed: 0', 1, inplace=True)\n",
    "bikeshare_full = bikeshare_full.sort_values('start_date_short')"
   ]
  },
  {
   "cell_type": "code",
   "execution_count": 4,
   "metadata": {},
   "outputs": [
    {
     "data": {
      "text/html": [
       "<div>\n",
       "<style>\n",
       "    .dataframe thead tr:only-child th {\n",
       "        text-align: right;\n",
       "    }\n",
       "\n",
       "    .dataframe thead th {\n",
       "        text-align: left;\n",
       "    }\n",
       "\n",
       "    .dataframe tbody tr th {\n",
       "        vertical-align: top;\n",
       "    }\n",
       "</style>\n",
       "<table border=\"1\" class=\"dataframe\">\n",
       "  <thead>\n",
       "    <tr style=\"text-align: right;\">\n",
       "      <th></th>\n",
       "      <th>Start date</th>\n",
       "      <th>End date</th>\n",
       "      <th>start_station</th>\n",
       "      <th>start_station_code</th>\n",
       "      <th>end_station</th>\n",
       "      <th>end_station_code</th>\n",
       "      <th>Member Type</th>\n",
       "      <th>start_date_short</th>\n",
       "      <th>end_date_short</th>\n",
       "      <th>time_diff</th>\n",
       "      <th>...</th>\n",
       "      <th>workingday</th>\n",
       "      <th>weathersit</th>\n",
       "      <th>temp</th>\n",
       "      <th>hum</th>\n",
       "      <th>windspeed</th>\n",
       "      <th>start_lat</th>\n",
       "      <th>start_lon</th>\n",
       "      <th>end_lat</th>\n",
       "      <th>end_lon</th>\n",
       "      <th>miles</th>\n",
       "    </tr>\n",
       "  </thead>\n",
       "  <tbody>\n",
       "    <tr>\n",
       "      <th>280138</th>\n",
       "      <td>2011-04-01 18:30:00</td>\n",
       "      <td>2011-04-01 18:41:00</td>\n",
       "      <td>14th &amp; R St NW</td>\n",
       "      <td>31202.0</td>\n",
       "      <td>21st &amp; I St NW</td>\n",
       "      <td>31205.0</td>\n",
       "      <td>Registered</td>\n",
       "      <td>2011-04-01</td>\n",
       "      <td>2011-04-01</td>\n",
       "      <td>11.0</td>\n",
       "      <td>...</td>\n",
       "      <td>1</td>\n",
       "      <td>2</td>\n",
       "      <td>0.3</td>\n",
       "      <td>0.68625</td>\n",
       "      <td>0.258708</td>\n",
       "      <td>38.912939</td>\n",
       "      <td>-77.032085</td>\n",
       "      <td>38.90080</td>\n",
       "      <td>-77.04700</td>\n",
       "      <td>1.160773</td>\n",
       "    </tr>\n",
       "    <tr>\n",
       "      <th>280266</th>\n",
       "      <td>2011-04-01 17:52:00</td>\n",
       "      <td>2011-04-01 18:09:00</td>\n",
       "      <td>14th &amp; Harvard St NW</td>\n",
       "      <td>31105.0</td>\n",
       "      <td>Florida Ave &amp; R St NW</td>\n",
       "      <td>31503.0</td>\n",
       "      <td>Registered</td>\n",
       "      <td>2011-04-01</td>\n",
       "      <td>2011-04-01</td>\n",
       "      <td>17.0</td>\n",
       "      <td>...</td>\n",
       "      <td>1</td>\n",
       "      <td>2</td>\n",
       "      <td>0.3</td>\n",
       "      <td>0.68625</td>\n",
       "      <td>0.258708</td>\n",
       "      <td>38.926800</td>\n",
       "      <td>-77.032200</td>\n",
       "      <td>38.91260</td>\n",
       "      <td>-77.01350</td>\n",
       "      <td>1.405327</td>\n",
       "    </tr>\n",
       "    <tr>\n",
       "      <th>280267</th>\n",
       "      <td>2011-04-01 17:51:00</td>\n",
       "      <td>2011-04-01 18:11:00</td>\n",
       "      <td>18th &amp; M St NW</td>\n",
       "      <td>31221.0</td>\n",
       "      <td>Columbus Circle / Union Station</td>\n",
       "      <td>31623.0</td>\n",
       "      <td>Registered</td>\n",
       "      <td>2011-04-01</td>\n",
       "      <td>2011-04-01</td>\n",
       "      <td>20.0</td>\n",
       "      <td>...</td>\n",
       "      <td>1</td>\n",
       "      <td>2</td>\n",
       "      <td>0.3</td>\n",
       "      <td>0.68625</td>\n",
       "      <td>0.258708</td>\n",
       "      <td>38.905067</td>\n",
       "      <td>-77.041779</td>\n",
       "      <td>38.89696</td>\n",
       "      <td>-77.00493</td>\n",
       "      <td>2.063461</td>\n",
       "    </tr>\n",
       "    <tr>\n",
       "      <th>280268</th>\n",
       "      <td>2011-04-01 17:51:00</td>\n",
       "      <td>2011-04-01 18:15:00</td>\n",
       "      <td>North Capitol St &amp; F St NW</td>\n",
       "      <td>31624.0</td>\n",
       "      <td>Massachusetts Ave &amp; Dupont Circle NW</td>\n",
       "      <td>31200.0</td>\n",
       "      <td>Registered</td>\n",
       "      <td>2011-04-01</td>\n",
       "      <td>2011-04-01</td>\n",
       "      <td>24.0</td>\n",
       "      <td>...</td>\n",
       "      <td>1</td>\n",
       "      <td>2</td>\n",
       "      <td>0.3</td>\n",
       "      <td>0.68625</td>\n",
       "      <td>0.258708</td>\n",
       "      <td>38.897446</td>\n",
       "      <td>-77.009890</td>\n",
       "      <td>38.91010</td>\n",
       "      <td>-77.04440</td>\n",
       "      <td>2.054714</td>\n",
       "    </tr>\n",
       "    <tr>\n",
       "      <th>280269</th>\n",
       "      <td>2011-04-01 17:50:00</td>\n",
       "      <td>2011-04-01 18:03:00</td>\n",
       "      <td>Connecticut Ave &amp; Newark St NW / Cleveland Park</td>\n",
       "      <td>31305.0</td>\n",
       "      <td>20th St &amp; Florida Ave NW</td>\n",
       "      <td>31110.0</td>\n",
       "      <td>Registered</td>\n",
       "      <td>2011-04-01</td>\n",
       "      <td>2011-04-01</td>\n",
       "      <td>13.0</td>\n",
       "      <td>...</td>\n",
       "      <td>1</td>\n",
       "      <td>2</td>\n",
       "      <td>0.3</td>\n",
       "      <td>0.68625</td>\n",
       "      <td>0.258708</td>\n",
       "      <td>38.934267</td>\n",
       "      <td>-77.057979</td>\n",
       "      <td>38.91540</td>\n",
       "      <td>-77.04460</td>\n",
       "      <td>1.487792</td>\n",
       "    </tr>\n",
       "  </tbody>\n",
       "</table>\n",
       "<p>5 rows × 24 columns</p>\n",
       "</div>"
      ],
      "text/plain": [
       "                Start date            End date  \\\n",
       "280138 2011-04-01 18:30:00 2011-04-01 18:41:00   \n",
       "280266 2011-04-01 17:52:00 2011-04-01 18:09:00   \n",
       "280267 2011-04-01 17:51:00 2011-04-01 18:11:00   \n",
       "280268 2011-04-01 17:51:00 2011-04-01 18:15:00   \n",
       "280269 2011-04-01 17:50:00 2011-04-01 18:03:00   \n",
       "\n",
       "                                          start_station  start_station_code  \\\n",
       "280138                                   14th & R St NW             31202.0   \n",
       "280266                             14th & Harvard St NW             31105.0   \n",
       "280267                                   18th & M St NW             31221.0   \n",
       "280268                       North Capitol St & F St NW             31624.0   \n",
       "280269  Connecticut Ave & Newark St NW / Cleveland Park             31305.0   \n",
       "\n",
       "                                 end_station  end_station_code Member Type  \\\n",
       "280138                        21st & I St NW           31205.0  Registered   \n",
       "280266                 Florida Ave & R St NW           31503.0  Registered   \n",
       "280267       Columbus Circle / Union Station           31623.0  Registered   \n",
       "280268  Massachusetts Ave & Dupont Circle NW           31200.0  Registered   \n",
       "280269              20th St & Florida Ave NW           31110.0  Registered   \n",
       "\n",
       "       start_date_short end_date_short  time_diff    ...     workingday  \\\n",
       "280138       2011-04-01     2011-04-01       11.0    ...              1   \n",
       "280266       2011-04-01     2011-04-01       17.0    ...              1   \n",
       "280267       2011-04-01     2011-04-01       20.0    ...              1   \n",
       "280268       2011-04-01     2011-04-01       24.0    ...              1   \n",
       "280269       2011-04-01     2011-04-01       13.0    ...              1   \n",
       "\n",
       "        weathersit  temp      hum  windspeed  start_lat  start_lon   end_lat  \\\n",
       "280138           2   0.3  0.68625   0.258708  38.912939 -77.032085  38.90080   \n",
       "280266           2   0.3  0.68625   0.258708  38.926800 -77.032200  38.91260   \n",
       "280267           2   0.3  0.68625   0.258708  38.905067 -77.041779  38.89696   \n",
       "280268           2   0.3  0.68625   0.258708  38.897446 -77.009890  38.91010   \n",
       "280269           2   0.3  0.68625   0.258708  38.934267 -77.057979  38.91540   \n",
       "\n",
       "         end_lon     miles  \n",
       "280138 -77.04700  1.160773  \n",
       "280266 -77.01350  1.405327  \n",
       "280267 -77.00493  2.063461  \n",
       "280268 -77.04440  2.054714  \n",
       "280269 -77.04460  1.487792  \n",
       "\n",
       "[5 rows x 24 columns]"
      ]
     },
     "execution_count": 4,
     "metadata": {},
     "output_type": "execute_result"
    }
   ],
   "source": [
    "bikeshare_full.head()"
   ]
  },
  {
   "cell_type": "code",
   "execution_count": 5,
   "metadata": {
    "collapsed": true
   },
   "outputs": [],
   "source": [
    "bikeshare_jan1 = bikeshare_full[bikeshare_full['start_date_short'] == '2011-04-14']"
   ]
  },
  {
   "cell_type": "code",
   "execution_count": 6,
   "metadata": {
    "collapsed": true
   },
   "outputs": [],
   "source": [
    "gmap = gmplot.GoogleMapPlotter.from_geocode(\"Washington, D.C.\")\n",
    "gmap.heatmap(bikeshare_jan1['start_lat'], bikeshare_jan1['start_lon'], opacity=.9, radius=35)\n",
    "gmap.draw(\"2012_map.html\")"
   ]
  },
  {
   "cell_type": "code",
   "execution_count": 7,
   "metadata": {},
   "outputs": [
    {
     "data": {
      "text/plain": [
       "366"
      ]
     },
     "execution_count": 7,
     "metadata": {},
     "output_type": "execute_result"
    }
   ],
   "source": [
    "dates = list(bikeshare_full['start_date_short'].unique())\n",
    "len(dates)"
   ]
  },
  {
   "cell_type": "code",
   "execution_count": 93,
   "metadata": {
    "collapsed": true
   },
   "outputs": [],
   "source": [
    "for i in range(len(dates)):\n",
    "    date = dates[i]\n",
    "    bikeshare_small = bikeshare_full[bikeshare_full['start_date_short'] == date]\n",
    "    gmap = gmplot.GoogleMapPlotter.from_geocode(\"Washington, D.C.\")\n",
    "    gmap.heatmap(bikeshare_small['start_lat'], bikeshare_small['start_lon'], opacity=.6, radius=35)\n",
    "    string = '/Users/matthewcassi/Documents/Bike-Sharing-Dataset/HTML_Files/' + str(date)[:10] + '.html'\n",
    "    gmap.draw(string)\n",
    "    sleep(1)"
   ]
  },
  {
   "cell_type": "code",
   "execution_count": 94,
   "metadata": {
    "collapsed": true
   },
   "outputs": [],
   "source": [
    "from selenium import webdriver\n",
    "DRIVER = '/Users/matthewcassi/Downloads/chromedriver'\n",
    "driver = webdriver.Chrome(DRIVER)\n",
    "\n",
    "for i in range(len(dates)):\n",
    "    date = dates[i]\n",
    "    string = 'File:///Users/matthewcassi/Documents/Bike-Sharing-Dataset/HTML_Files/' + str(date)[:10] + '.html'\n",
    "    png = '/Users/matthewcassi/Documents/Bike-Sharing-Dataset/images/' + str(date)[:10] + '.png'\n",
    "    driver.get(string)\n",
    "    sleep(2)\n",
    "    driver.save_screenshot(png)\n",
    "\n",
    "driver.quit()"
   ]
  },
  {
   "cell_type": "code",
   "execution_count": 8,
   "metadata": {
    "collapsed": true
   },
   "outputs": [],
   "source": [
    "from PIL import Image\n",
    "from PIL import ImageFont\n",
    "from PIL import ImageDraw "
   ]
  },
  {
   "cell_type": "code",
   "execution_count": 95,
   "metadata": {
    "collapsed": true
   },
   "outputs": [],
   "source": [
    "for i in range(len(dates)):\n",
    "    date = str(dates[i])[:10]\n",
    "    file = '/Users/matthewcassi/Documents/Bike-Sharing-Dataset/images/' + date + '.png'\n",
    "    text = date\n",
    "    png = '/Users/matthewcassi/Documents/Bike-Sharing-Dataset/images/' + date + '.png'\n",
    "\n",
    "    img = Image.open(file)\n",
    "    draw = ImageDraw.Draw(img)\n",
    "    font = ImageFont.truetype(\"ArialHB.ttc\",35)\n",
    "    draw.text((40, 1550),text,(0,0,0),font=font)\n",
    "    img.save(png)"
   ]
  },
  {
   "cell_type": "code",
   "execution_count": 9,
   "metadata": {
    "collapsed": true
   },
   "outputs": [],
   "source": [
    "import imageio"
   ]
  },
  {
   "cell_type": "code",
   "execution_count": 96,
   "metadata": {
    "collapsed": true
   },
   "outputs": [],
   "source": [
    "images = []\n",
    "for i in range(len(dates)):\n",
    "    date = dates[i]\n",
    "    pictures = '/Users/matthewcassi/Documents/Bike-Sharing-Dataset/images/' + str(date)[:10] + '.png'\n",
    "    images.append(imageio.imread(pictures))\n",
    "imageio.mimsave('/Users/matthewcassi/Documents/Bike-Sharing-Dataset/images/bikeshare_2011_2012.gif', images, 'GIF', duration=.5)"
   ]
  },
  {
   "cell_type": "code",
   "execution_count": 10,
   "metadata": {},
   "outputs": [
    {
     "data": {
      "text/plain": [
       "numpy.datetime64('2011-05-01T00:00:00.000000000')"
      ]
     },
     "execution_count": 10,
     "metadata": {},
     "output_type": "execute_result"
    }
   ],
   "source": [
    "dates[30]"
   ]
  },
  {
   "cell_type": "code",
   "execution_count": 37,
   "metadata": {
    "collapsed": true
   },
   "outputs": [],
   "source": [
    "april = dates[0:29]\n",
    "images = []\n",
    "for i in range(len(april)):\n",
    "    date = april[i]\n",
    "    pictures = '/Users/matthewcassi/Documents/Bike-Sharing-Dataset/images/' + str(date)[:10] + '.png'\n",
    "    images.append(imageio.imread(pictures))\n",
    "imageio.mimsave('/Users/matthewcassi/Documents/Bike-Sharing-Dataset/images/april_2011.gif', images, 'GIF', duration=.5)\n"
   ]
  },
  {
   "cell_type": "code",
   "execution_count": 38,
   "metadata": {},
   "outputs": [],
   "source": [
    "may = dates[30:60]\n",
    "images = []\n",
    "for i in range(len(may)):\n",
    "    date = may[i]\n",
    "    pictures = '/Users/matthewcassi/Documents/Bike-Sharing-Dataset/images/' + str(date)[:10] + '.png'\n",
    "    images.append(imageio.imread(pictures))\n",
    "imageio.mimsave('/Users/matthewcassi/Documents/Bike-Sharing-Dataset/images/may_2011.gif', images, 'GIF', duration=.5)\n"
   ]
  },
  {
   "cell_type": "code",
   "execution_count": 39,
   "metadata": {},
   "outputs": [],
   "source": [
    "june = dates[61:90]\n",
    "images = []\n",
    "for i in range(len(june)):\n",
    "    date = june[i]\n",
    "    pictures = '/Users/matthewcassi/Documents/Bike-Sharing-Dataset/images/' + str(date)[:10] + '.png'\n",
    "    images.append(imageio.imread(pictures))\n",
    "imageio.mimsave('/Users/matthewcassi/Documents/Bike-Sharing-Dataset/images/june_2011.gif', images, 'GIF', duration=.5)\n"
   ]
  },
  {
   "cell_type": "code",
   "execution_count": 40,
   "metadata": {},
   "outputs": [],
   "source": [
    "july = dates[91:121]\n",
    "images = []\n",
    "for i in range(len(july)):\n",
    "    date = july[i]\n",
    "    pictures = '/Users/matthewcassi/Documents/Bike-Sharing-Dataset/images/' + str(date)[:10] + '.png'\n",
    "    images.append(imageio.imread(pictures))\n",
    "imageio.mimsave('/Users/matthewcassi/Documents/Bike-Sharing-Dataset/images/july_2011.gif', images, 'GIF', duration=.5)\n"
   ]
  },
  {
   "cell_type": "code",
   "execution_count": 41,
   "metadata": {
    "collapsed": true
   },
   "outputs": [],
   "source": [
    "august = dates[122:152]\n",
    "images = []\n",
    "for i in range(len(july)):\n",
    "    date = july[i]\n",
    "    pictures = '/Users/matthewcassi/Documents/Bike-Sharing-Dataset/images/' + str(date)[:10] + '.png'\n",
    "    images.append(imageio.imread(pictures))\n",
    "imageio.mimsave('/Users/matthewcassi/Documents/Bike-Sharing-Dataset/images/july_2011.gif', images, 'GIF', duration=.5)\n"
   ]
  },
  {
   "cell_type": "code",
   "execution_count": 42,
   "metadata": {},
   "outputs": [],
   "source": [
    "sept = dates[153:182]\n",
    "images = []\n",
    "for i in range(len(sept)):\n",
    "    date = sept[i]\n",
    "    pictures = '/Users/matthewcassi/Documents/Bike-Sharing-Dataset/images/' + str(date)[:10] + '.png'\n",
    "    images.append(imageio.imread(pictures))\n",
    "imageio.mimsave('/Users/matthewcassi/Documents/Bike-Sharing-Dataset/images/sept_2011.gif', images, 'GIF', duration=.5)\n"
   ]
  },
  {
   "cell_type": "code",
   "execution_count": 43,
   "metadata": {
    "collapsed": true
   },
   "outputs": [],
   "source": [
    "octo = dates[183:213]\n",
    "images = []\n",
    "for i in range(len(octo)):\n",
    "    date = octo[i]\n",
    "    pictures = '/Users/matthewcassi/Documents/Bike-Sharing-Dataset/images/' + str(date)[:10] + '.png'\n",
    "    images.append(imageio.imread(pictures))\n",
    "imageio.mimsave('/Users/matthewcassi/Documents/Bike-Sharing-Dataset/images/oct_2011.gif', images, 'GIF', duration=.5)\n"
   ]
  },
  {
   "cell_type": "code",
   "execution_count": 44,
   "metadata": {},
   "outputs": [],
   "source": [
    "nov = dates[214:243]\n",
    "images = []\n",
    "for i in range(len(nov)):\n",
    "    date = nov[i]\n",
    "    pictures = '/Users/matthewcassi/Documents/Bike-Sharing-Dataset/images/' + str(date)[:10] + '.png'\n",
    "    images.append(imageio.imread(pictures))\n",
    "imageio.mimsave('/Users/matthewcassi/Documents/Bike-Sharing-Dataset/images/nov_2011.gif', images, 'GIF', duration=.5)\n"
   ]
  },
  {
   "cell_type": "code",
   "execution_count": 45,
   "metadata": {},
   "outputs": [],
   "source": [
    "dec = dates[244:274]\n",
    "images = []\n",
    "for i in range(len(dec)):\n",
    "    date = dec[i]\n",
    "    pictures = '/Users/matthewcassi/Documents/Bike-Sharing-Dataset/images/' + str(date)[:10] + '.png'\n",
    "    images.append(imageio.imread(pictures))\n",
    "imageio.mimsave('/Users/matthewcassi/Documents/Bike-Sharing-Dataset/images/dec_2011.gif', images, 'GIF', duration=.5)\n"
   ]
  },
  {
   "cell_type": "code",
   "execution_count": 46,
   "metadata": {},
   "outputs": [],
   "source": [
    "jan = dates[275:305]\n",
    "images = []\n",
    "for i in range(len(jan)):\n",
    "    date = jan[i]\n",
    "    pictures = '/Users/matthewcassi/Documents/Bike-Sharing-Dataset/images/' + str(date)[:10] + '.png'\n",
    "    images.append(imageio.imread(pictures))\n",
    "imageio.mimsave('/Users/matthewcassi/Documents/Bike-Sharing-Dataset/images/jan_2011.gif', images, 'GIF', duration=.5)\n"
   ]
  },
  {
   "cell_type": "code",
   "execution_count": 47,
   "metadata": {},
   "outputs": [],
   "source": [
    "feb = dates[306:334]\n",
    "images = []\n",
    "for i in range(len(feb)):\n",
    "    date = feb[i]\n",
    "    pictures = '/Users/matthewcassi/Documents/Bike-Sharing-Dataset/images/' + str(date)[:10] + '.png'\n",
    "    images.append(imageio.imread(pictures))\n",
    "imageio.mimsave('/Users/matthewcassi/Documents/Bike-Sharing-Dataset/images/feb_2011.gif', images, 'GIF', duration=.5)\n"
   ]
  },
  {
   "cell_type": "code",
   "execution_count": 48,
   "metadata": {
    "collapsed": true
   },
   "outputs": [],
   "source": [
    "mar = dates[335:]\n",
    "images = []\n",
    "for i in range(len(mar)):\n",
    "    date = mar[i]\n",
    "    pictures = '/Users/matthewcassi/Documents/Bike-Sharing-Dataset/images/' + str(date)[:10] + '.png'\n",
    "    images.append(imageio.imread(pictures))\n",
    "imageio.mimsave('/Users/matthewcassi/Documents/Bike-Sharing-Dataset/images/mar_2012.gif', images, 'GIF', duration=.5)\n"
   ]
  },
  {
   "cell_type": "code",
   "execution_count": null,
   "metadata": {
    "collapsed": true
   },
   "outputs": [],
   "source": []
  }
 ],
 "metadata": {
  "kernelspec": {
   "display_name": "Python 3",
   "language": "python",
   "name": "python3"
  },
  "language_info": {
   "codemirror_mode": {
    "name": "ipython",
    "version": 3
   },
   "file_extension": ".py",
   "mimetype": "text/x-python",
   "name": "python",
   "nbconvert_exporter": "python",
   "pygments_lexer": "ipython3",
   "version": "3.6.1"
  }
 },
 "nbformat": 4,
 "nbformat_minor": 2
}
