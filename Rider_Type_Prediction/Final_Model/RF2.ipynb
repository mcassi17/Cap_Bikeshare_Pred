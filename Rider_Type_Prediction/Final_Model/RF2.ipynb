{
 "cells": [
  {
   "cell_type": "code",
   "execution_count": 1,
   "metadata": {
    "collapsed": true
   },
   "outputs": [],
   "source": [
    "import pandas as pd\n",
    "import numpy as np\n",
    "from sklearn.model_selection import train_test_split\n",
    "from sklearn.ensemble import RandomForestClassifier\n",
    "from sklearn.metrics import accuracy_score\n",
    "from sklearn.model_selection import GridSearchCV\n",
    "from sklearn.metrics import classification_report\n",
    "from sklearn.metrics import confusion_matrix\n",
    "from sklearn.utils import shuffle\n",
    "from sklearn.model_selection import cross_val_score\n",
    "from sklearn.metrics import roc_auc_score\n",
    "from sklearn.model_selection import RandomizedSearchCV"
   ]
  },
  {
   "cell_type": "code",
   "execution_count": 2,
   "metadata": {
    "collapsed": true
   },
   "outputs": [],
   "source": [
    "def set_data(file):\n",
    "    bikeshare_machine = pd.read_csv(file, \n",
    "                        parse_dates=['Start date', 'End date'])\n",
    "    bikeshare_machine.drop('Unnamed: 0', 1, inplace=True)\n",
    "    included_cols = ['start_station','end_station','Member Type','time_diff','season','mnth','holiday',\n",
    "                     'weekday','workingday','weathersit','temp','hum','windspeed','miles',\n",
    "                     'rush_hour','metro_dist','landmark_dist_start','landmark_dist_end']\n",
    "    bikeshare_machine = bikeshare_machine[included_cols]\n",
    "    bikeshare_machine['season'] = bikeshare_machine['season'].astype('category')\n",
    "    bikeshare_machine['mnth'] = bikeshare_machine['mnth'].astype('category')\n",
    "    bikeshare_machine['holiday'] = bikeshare_machine['holiday'].astype('category')\n",
    "    bikeshare_machine['weekday'] = bikeshare_machine['weekday'].astype('category')\n",
    "    bikeshare_machine['workingday'] = bikeshare_machine['workingday'].astype('category')\n",
    "    bikeshare_machine['weathersit'] = bikeshare_machine['weathersit'].astype('category')\n",
    "    bikeshare_machine['Member Type'] = bikeshare_machine['Member Type'].astype('category')\n",
    "    bikeshare_machine['start_station'] = bikeshare_machine['start_station'].astype('category')\n",
    "    bikeshare_machine['end_station'] = bikeshare_machine['end_station'].astype('category')\n",
    "    bikeshare_machine['rush_hour'] = bikeshare_machine['rush_hour'].astype('category')\n",
    "    col_names = ['start_station', 'end_station','member_type','time_diff','season','month','holiday',\n",
    "             'weekday','work_day','weather_cat','temperature','humidity','windspeed','miles','rush_hour',\n",
    "                'metro_dist','landmark_dist_start','landmark_dist_end']\n",
    "    bikeshare_machine.columns = col_names\n",
    "    tmin = -8\n",
    "    tmax = 39\n",
    "    hum_max = 100\n",
    "    wind_max = 67\n",
    "    bikeshare_machine['temp'] = bikeshare_machine['temperature'] * (tmax - tmin) + tmin\n",
    "    bikeshare_machine['hum'] = bikeshare_machine['humidity'] * 100\n",
    "    bikeshare_machine['wind'] = bikeshare_machine['windspeed'] * 67\n",
    "    bikeshare_machine = pd.get_dummies(bikeshare_machine, \n",
    "                                 columns=['rush_hour','member_type','holiday','work_day'], drop_first=True)\n",
    "    bikeshare_machine = pd.get_dummies(bikeshare_machine, \n",
    "                                 columns=['start_station','end_station','season','month','weekday','weather_cat'])\n",
    "    bikeshare_machine = shuffle(bikeshare_machine)\n",
    "    return bikeshare_machine"
   ]
  },
  {
   "cell_type": "code",
   "execution_count": 3,
   "metadata": {
    "collapsed": true
   },
   "outputs": [],
   "source": [
    "file = '/Users/matthewcassi/Documents/Bike-Sharing-Dataset/Bikeshare_Time_Prediction/Casual_RushMetro/landmarks.csv'\n",
    "bs = set_data(file)"
   ]
  },
  {
   "cell_type": "code",
   "execution_count": 4,
   "metadata": {},
   "outputs": [
    {
     "data": {
      "text/plain": [
       "Index(['time_diff', 'temperature', 'humidity', 'windspeed', 'miles',\n",
       "       'metro_dist', 'landmark_dist_start', 'landmark_dist_end', 'temp', 'hum',\n",
       "       ...\n",
       "       'weekday_0', 'weekday_1', 'weekday_2', 'weekday_3', 'weekday_4',\n",
       "       'weekday_5', 'weekday_6', 'weather_cat_1', 'weather_cat_2',\n",
       "       'weather_cat_3'],\n",
       "      dtype='object', length=303)"
      ]
     },
     "execution_count": 4,
     "metadata": {},
     "output_type": "execute_result"
    }
   ],
   "source": [
    "bs.columns"
   ]
  },
  {
   "cell_type": "code",
   "execution_count": 5,
   "metadata": {},
   "outputs": [
    {
     "data": {
      "text/html": [
       "<div>\n",
       "<style>\n",
       "    .dataframe thead tr:only-child th {\n",
       "        text-align: right;\n",
       "    }\n",
       "\n",
       "    .dataframe thead th {\n",
       "        text-align: left;\n",
       "    }\n",
       "\n",
       "    .dataframe tbody tr th {\n",
       "        vertical-align: top;\n",
       "    }\n",
       "</style>\n",
       "<table border=\"1\" class=\"dataframe\">\n",
       "  <thead>\n",
       "    <tr style=\"text-align: right;\">\n",
       "      <th></th>\n",
       "      <th>time_diff</th>\n",
       "      <th>miles</th>\n",
       "      <th>metro_dist</th>\n",
       "      <th>landmark_dist_start</th>\n",
       "      <th>landmark_dist_end</th>\n",
       "      <th>temp</th>\n",
       "      <th>hum</th>\n",
       "      <th>wind</th>\n",
       "      <th>rush_hour_1</th>\n",
       "      <th>member_type</th>\n",
       "      <th>...</th>\n",
       "      <th>weekday_0</th>\n",
       "      <th>weekday_1</th>\n",
       "      <th>weekday_2</th>\n",
       "      <th>weekday_3</th>\n",
       "      <th>weekday_4</th>\n",
       "      <th>weekday_5</th>\n",
       "      <th>weekday_6</th>\n",
       "      <th>weather_cat_1</th>\n",
       "      <th>weather_cat_2</th>\n",
       "      <th>weather_cat_3</th>\n",
       "    </tr>\n",
       "  </thead>\n",
       "  <tbody>\n",
       "    <tr>\n",
       "      <th>1110598</th>\n",
       "      <td>4.850</td>\n",
       "      <td>0.619956</td>\n",
       "      <td>0.125465</td>\n",
       "      <td>1.329181</td>\n",
       "      <td>0.916964</td>\n",
       "      <td>4.141651</td>\n",
       "      <td>45.6667</td>\n",
       "      <td>13.458625</td>\n",
       "      <td>0</td>\n",
       "      <td>1</td>\n",
       "      <td>...</td>\n",
       "      <td>0</td>\n",
       "      <td>0</td>\n",
       "      <td>1</td>\n",
       "      <td>0</td>\n",
       "      <td>0</td>\n",
       "      <td>0</td>\n",
       "      <td>0</td>\n",
       "      <td>1</td>\n",
       "      <td>0</td>\n",
       "      <td>0</td>\n",
       "    </tr>\n",
       "    <tr>\n",
       "      <th>585262</th>\n",
       "      <td>15.517</td>\n",
       "      <td>1.882613</td>\n",
       "      <td>0.007178</td>\n",
       "      <td>2.592814</td>\n",
       "      <td>0.916964</td>\n",
       "      <td>25.370000</td>\n",
       "      <td>75.7500</td>\n",
       "      <td>13.209050</td>\n",
       "      <td>0</td>\n",
       "      <td>1</td>\n",
       "      <td>...</td>\n",
       "      <td>0</td>\n",
       "      <td>0</td>\n",
       "      <td>0</td>\n",
       "      <td>0</td>\n",
       "      <td>1</td>\n",
       "      <td>0</td>\n",
       "      <td>0</td>\n",
       "      <td>0</td>\n",
       "      <td>1</td>\n",
       "      <td>0</td>\n",
       "    </tr>\n",
       "    <tr>\n",
       "      <th>1077200</th>\n",
       "      <td>11.983</td>\n",
       "      <td>1.144273</td>\n",
       "      <td>0.450642</td>\n",
       "      <td>0.987390</td>\n",
       "      <td>0.485473</td>\n",
       "      <td>13.345849</td>\n",
       "      <td>55.4583</td>\n",
       "      <td>12.791171</td>\n",
       "      <td>0</td>\n",
       "      <td>1</td>\n",
       "      <td>...</td>\n",
       "      <td>0</td>\n",
       "      <td>0</td>\n",
       "      <td>0</td>\n",
       "      <td>0</td>\n",
       "      <td>1</td>\n",
       "      <td>0</td>\n",
       "      <td>0</td>\n",
       "      <td>1</td>\n",
       "      <td>0</td>\n",
       "      <td>0</td>\n",
       "    </tr>\n",
       "    <tr>\n",
       "      <th>977815</th>\n",
       "      <td>3.633</td>\n",
       "      <td>0.277219</td>\n",
       "      <td>0.328093</td>\n",
       "      <td>0.306432</td>\n",
       "      <td>0.485473</td>\n",
       "      <td>9.533021</td>\n",
       "      <td>71.6087</td>\n",
       "      <td>23.391710</td>\n",
       "      <td>0</td>\n",
       "      <td>1</td>\n",
       "      <td>...</td>\n",
       "      <td>0</td>\n",
       "      <td>0</td>\n",
       "      <td>1</td>\n",
       "      <td>0</td>\n",
       "      <td>0</td>\n",
       "      <td>0</td>\n",
       "      <td>0</td>\n",
       "      <td>0</td>\n",
       "      <td>1</td>\n",
       "      <td>0</td>\n",
       "    </tr>\n",
       "    <tr>\n",
       "      <th>551683</th>\n",
       "      <td>12.667</td>\n",
       "      <td>0.585465</td>\n",
       "      <td>0.586599</td>\n",
       "      <td>1.082599</td>\n",
       "      <td>0.839915</td>\n",
       "      <td>23.803349</td>\n",
       "      <td>81.7500</td>\n",
       "      <td>14.916411</td>\n",
       "      <td>0</td>\n",
       "      <td>1</td>\n",
       "      <td>...</td>\n",
       "      <td>1</td>\n",
       "      <td>0</td>\n",
       "      <td>0</td>\n",
       "      <td>0</td>\n",
       "      <td>0</td>\n",
       "      <td>0</td>\n",
       "      <td>0</td>\n",
       "      <td>0</td>\n",
       "      <td>1</td>\n",
       "      <td>0</td>\n",
       "    </tr>\n",
       "  </tbody>\n",
       "</table>\n",
       "<p>5 rows × 300 columns</p>\n",
       "</div>"
      ],
      "text/plain": [
       "         time_diff     miles  metro_dist  landmark_dist_start  \\\n",
       "1110598      4.850  0.619956    0.125465             1.329181   \n",
       "585262      15.517  1.882613    0.007178             2.592814   \n",
       "1077200     11.983  1.144273    0.450642             0.987390   \n",
       "977815       3.633  0.277219    0.328093             0.306432   \n",
       "551683      12.667  0.585465    0.586599             1.082599   \n",
       "\n",
       "         landmark_dist_end       temp      hum       wind  rush_hour_1  \\\n",
       "1110598           0.916964   4.141651  45.6667  13.458625            0   \n",
       "585262            0.916964  25.370000  75.7500  13.209050            0   \n",
       "1077200           0.485473  13.345849  55.4583  12.791171            0   \n",
       "977815            0.485473   9.533021  71.6087  23.391710            0   \n",
       "551683            0.839915  23.803349  81.7500  14.916411            0   \n",
       "\n",
       "         member_type      ...        weekday_0  weekday_1  weekday_2  \\\n",
       "1110598            1      ...                0          0          1   \n",
       "585262             1      ...                0          0          0   \n",
       "1077200            1      ...                0          0          0   \n",
       "977815             1      ...                0          0          1   \n",
       "551683             1      ...                1          0          0   \n",
       "\n",
       "         weekday_3  weekday_4  weekday_5  weekday_6  weather_cat_1  \\\n",
       "1110598          0          0          0          0              1   \n",
       "585262           0          1          0          0              0   \n",
       "1077200          0          1          0          0              1   \n",
       "977815           0          0          0          0              0   \n",
       "551683           0          0          0          0              0   \n",
       "\n",
       "         weather_cat_2  weather_cat_3  \n",
       "1110598              0              0  \n",
       "585262               1              0  \n",
       "1077200              0              0  \n",
       "977815               1              0  \n",
       "551683               1              0  \n",
       "\n",
       "[5 rows x 300 columns]"
      ]
     },
     "execution_count": 5,
     "metadata": {},
     "output_type": "execute_result"
    }
   ],
   "source": [
    "bs=bs.rename(columns = {'member_type_Registered':'member_type'})\n",
    "bs = bs.drop(['temperature','windspeed','humidity'], 1)\n",
    "bs.head()"
   ]
  },
  {
   "cell_type": "code",
   "execution_count": 6,
   "metadata": {},
   "outputs": [
    {
     "data": {
      "text/plain": [
       "((914885, 299), (304962, 299), (914885,), (304962,))"
      ]
     },
     "execution_count": 6,
     "metadata": {},
     "output_type": "execute_result"
    }
   ],
   "source": [
    "X = bs.drop('member_type', 1)\n",
    "y = bs['member_type']\n",
    "\n",
    "X_train, X_test, y_train, y_test = train_test_split(X, y, test_size=.25)\n",
    "X_train.shape, X_test.shape, y_train.shape, y_test.shape"
   ]
  },
  {
   "cell_type": "markdown",
   "metadata": {},
   "source": [
    "### GridSearch Logistic Regression"
   ]
  },
  {
   "cell_type": "code",
   "execution_count": 7,
   "metadata": {},
   "outputs": [
    {
     "data": {
      "text/plain": [
       "RandomizedSearchCV(cv=3, error_score='raise',\n",
       "          estimator=RandomForestClassifier(bootstrap=True, class_weight=None, criterion='gini',\n",
       "            max_depth=None, max_features='auto', max_leaf_nodes=None,\n",
       "            min_impurity_split=1e-07, min_samples_leaf=1,\n",
       "            min_samples_split=2, min_weight_fraction_leaf=0.0,\n",
       "            n_estimators=125, n_jobs=-1, oob_score=False,\n",
       "            random_state=None, verbose=0, warm_start=False),\n",
       "          fit_params={}, iid=True, n_iter=15, n_jobs=1,\n",
       "          param_distributions={'class_weight': [{0: 0.675, 1: 0.325}, {0: 0.7, 1: 0.3}, {0: 0.68, 1: 0.32}], 'max_features': ['sqrt', 'log2', 20, 30, 40], 'min_samples_leaf': [50, 75, 100, 125, 150]},\n",
       "          pre_dispatch='2*n_jobs', random_state=None, refit=True,\n",
       "          return_train_score=True, scoring='roc_auc', verbose=0)"
      ]
     },
     "execution_count": 7,
     "metadata": {},
     "output_type": "execute_result"
    }
   ],
   "source": [
    "n_estimators = 125\n",
    "class_weight = [{0:.675, 1:.325}, {0:.7, 1:.3}, {0:.68, 1:.32}]\n",
    "features = ['sqrt','log2',20,30,40]\n",
    "min_leaf_samples = [50,75,100,125,150]\n",
    "param_grid = {'class_weight':class_weight, 'max_features': features, 'min_samples_leaf':min_leaf_samples}\n",
    "\n",
    "rf1 = RandomForestClassifier(n_estimators, n_jobs=-1)\n",
    "rf_gs1 = RandomizedSearchCV(rf1, param_grid, n_iter=15, cv=3, scoring='roc_auc')\n",
    "rf_gs1.fit(X_train, y_train)"
   ]
  },
  {
   "cell_type": "code",
   "execution_count": 8,
   "metadata": {
    "collapsed": true
   },
   "outputs": [],
   "source": [
    "pred1 = rf_gs1.predict(X_test)\n",
    "score1 = rf_gs1.score(X_test, y_test)\n",
    "train_score1 = rf_gs1.score(X_train, y_train)"
   ]
  },
  {
   "cell_type": "code",
   "execution_count": 9,
   "metadata": {},
   "outputs": [
    {
     "data": {
      "text/plain": [
       "(0.86111110693796611, 0.8875662318422719)"
      ]
     },
     "execution_count": 9,
     "metadata": {},
     "output_type": "execute_result"
    }
   ],
   "source": [
    "score1, train_score1"
   ]
  },
  {
   "cell_type": "code",
   "execution_count": 10,
   "metadata": {},
   "outputs": [
    {
     "data": {
      "text/plain": [
       "array([[ 27967,  22973],\n",
       "       [ 14462, 239560]])"
      ]
     },
     "execution_count": 10,
     "metadata": {},
     "output_type": "execute_result"
    }
   ],
   "source": [
    "confusion_matrix(y_test, pred1)"
   ]
  },
  {
   "cell_type": "code",
   "execution_count": 11,
   "metadata": {},
   "outputs": [
    {
     "name": "stdout",
     "output_type": "stream",
     "text": [
      "             precision    recall  f1-score   support\n",
      "\n",
      "          0       0.66      0.55      0.60     50940\n",
      "          1       0.91      0.94      0.93    254022\n",
      "\n",
      "avg / total       0.87      0.88      0.87    304962\n",
      "\n"
     ]
    }
   ],
   "source": [
    "print(classification_report(y_test, pred1))"
   ]
  },
  {
   "cell_type": "code",
   "execution_count": 12,
   "metadata": {},
   "outputs": [
    {
     "data": {
      "text/plain": [
       "{'class_weight': {0: 0.68, 1: 0.32},\n",
       " 'max_features': 40,\n",
       " 'min_samples_leaf': 50}"
      ]
     },
     "execution_count": 12,
     "metadata": {},
     "output_type": "execute_result"
    }
   ],
   "source": [
    "rf_gs1.best_params_"
   ]
  },
  {
   "cell_type": "code",
   "execution_count": 13,
   "metadata": {},
   "outputs": [
    {
     "data": {
      "text/plain": [
       "0.74604318816639981"
      ]
     },
     "execution_count": 13,
     "metadata": {},
     "output_type": "execute_result"
    }
   ],
   "source": [
    "roc_auc_score(y_test, pred1)"
   ]
  },
  {
   "cell_type": "code",
   "execution_count": null,
   "metadata": {
    "collapsed": true
   },
   "outputs": [],
   "source": []
  }
 ],
 "metadata": {
  "kernelspec": {
   "display_name": "Python 3",
   "language": "python",
   "name": "python3"
  },
  "language_info": {
   "codemirror_mode": {
    "name": "ipython",
    "version": 3
   },
   "file_extension": ".py",
   "mimetype": "text/x-python",
   "name": "python",
   "nbconvert_exporter": "python",
   "pygments_lexer": "ipython3",
   "version": "3.6.1"
  }
 },
 "nbformat": 4,
 "nbformat_minor": 2
}
