{
 "cells": [
  {
   "cell_type": "code",
   "execution_count": 1,
   "metadata": {
    "collapsed": true
   },
   "outputs": [],
   "source": [
    "import pandas as pd\n",
    "import numpy as np\n",
    "from sklearn.model_selection import train_test_split\n",
    "from sklearn.linear_model import LogisticRegression\n",
    "from sklearn.metrics import accuracy_score\n",
    "from sklearn.model_selection import GridSearchCV\n",
    "from sklearn.metrics import classification_report\n",
    "from sklearn.metrics import confusion_matrix\n",
    "from sklearn.utils import shuffle\n",
    "from sklearn.model_selection import cross_val_score\n",
    "from sklearn.metrics import roc_auc_score"
   ]
  },
  {
   "cell_type": "code",
   "execution_count": 2,
   "metadata": {
    "collapsed": true
   },
   "outputs": [],
   "source": [
    "def set_data(file):\n",
    "    bikeshare_machine = pd.read_csv(file, \n",
    "                        parse_dates=['Start date', 'End date'])\n",
    "    bikeshare_machine.drop('Unnamed: 0', 1, inplace=True)\n",
    "    included_cols = ['start_station','end_station','Member Type','time_diff','season','mnth','holiday',\n",
    "                     'weekday','workingday','weathersit','temp','hum','windspeed','miles',\n",
    "                     'rush_hour','metro_dist','landmark_dist_start','landmark_dist_end']\n",
    "    bikeshare_machine = bikeshare_machine[included_cols]\n",
    "    bikeshare_machine['season'] = bikeshare_machine['season'].astype('category')\n",
    "    bikeshare_machine['mnth'] = bikeshare_machine['mnth'].astype('category')\n",
    "    bikeshare_machine['holiday'] = bikeshare_machine['holiday'].astype('category')\n",
    "    bikeshare_machine['weekday'] = bikeshare_machine['weekday'].astype('category')\n",
    "    bikeshare_machine['workingday'] = bikeshare_machine['workingday'].astype('category')\n",
    "    bikeshare_machine['weathersit'] = bikeshare_machine['weathersit'].astype('category')\n",
    "    bikeshare_machine['Member Type'] = bikeshare_machine['Member Type'].astype('category')\n",
    "    bikeshare_machine['start_station'] = bikeshare_machine['start_station'].astype('category')\n",
    "    bikeshare_machine['end_station'] = bikeshare_machine['end_station'].astype('category')\n",
    "    bikeshare_machine['rush_hour'] = bikeshare_machine['rush_hour'].astype('category')\n",
    "    col_names = ['start_station', 'end_station','member_type','time_diff','season','month','holiday',\n",
    "             'weekday','work_day','weather_cat','temperature','humidity','windspeed','miles','rush_hour',\n",
    "                'metro_dist','landmark_dist_start','landmark_dist_end']\n",
    "    bikeshare_machine.columns = col_names\n",
    "    tmin = -8\n",
    "    tmax = 39\n",
    "    hum_max = 100\n",
    "    wind_max = 67\n",
    "    bikeshare_machine['temp'] = bikeshare_machine['temperature'] * (tmax - tmin) + tmin\n",
    "    bikeshare_machine['hum'] = bikeshare_machine['humidity'] * 100\n",
    "    bikeshare_machine['wind'] = bikeshare_machine['windspeed'] * 67\n",
    "    bikeshare_machine = pd.get_dummies(bikeshare_machine, \n",
    "                                 columns=['rush_hour','member_type','holiday','work_day'], drop_first=True)\n",
    "    bikeshare_machine = pd.get_dummies(bikeshare_machine, \n",
    "                                 columns=['start_station','end_station','season','month','weekday','weather_cat'])\n",
    "    bikeshare_machine = shuffle(bikeshare_machine)\n",
    "    return bikeshare_machine"
   ]
  },
  {
   "cell_type": "code",
   "execution_count": 3,
   "metadata": {
    "collapsed": true
   },
   "outputs": [],
   "source": [
    "file = '/Users/matthewcassi/Documents/Bike-Sharing-Dataset/Bikeshare_Time_Prediction/Casual_RushMetro/landmarks.csv'\n",
    "bs = set_data(file)"
   ]
  },
  {
   "cell_type": "code",
   "execution_count": 4,
   "metadata": {},
   "outputs": [
    {
     "data": {
      "text/plain": [
       "Index(['time_diff', 'temperature', 'humidity', 'windspeed', 'miles',\n",
       "       'metro_dist', 'landmark_dist_start', 'landmark_dist_end', 'temp', 'hum',\n",
       "       ...\n",
       "       'weekday_0', 'weekday_1', 'weekday_2', 'weekday_3', 'weekday_4',\n",
       "       'weekday_5', 'weekday_6', 'weather_cat_1', 'weather_cat_2',\n",
       "       'weather_cat_3'],\n",
       "      dtype='object', length=303)"
      ]
     },
     "execution_count": 4,
     "metadata": {},
     "output_type": "execute_result"
    }
   ],
   "source": [
    "bs.columns"
   ]
  },
  {
   "cell_type": "code",
   "execution_count": 5,
   "metadata": {},
   "outputs": [
    {
     "data": {
      "text/html": [
       "<div>\n",
       "<style>\n",
       "    .dataframe thead tr:only-child th {\n",
       "        text-align: right;\n",
       "    }\n",
       "\n",
       "    .dataframe thead th {\n",
       "        text-align: left;\n",
       "    }\n",
       "\n",
       "    .dataframe tbody tr th {\n",
       "        vertical-align: top;\n",
       "    }\n",
       "</style>\n",
       "<table border=\"1\" class=\"dataframe\">\n",
       "  <thead>\n",
       "    <tr style=\"text-align: right;\">\n",
       "      <th></th>\n",
       "      <th>time_diff</th>\n",
       "      <th>temperature</th>\n",
       "      <th>humidity</th>\n",
       "      <th>windspeed</th>\n",
       "      <th>miles</th>\n",
       "      <th>metro_dist</th>\n",
       "      <th>landmark_dist_start</th>\n",
       "      <th>landmark_dist_end</th>\n",
       "      <th>temp</th>\n",
       "      <th>hum</th>\n",
       "      <th>...</th>\n",
       "      <th>weekday_0</th>\n",
       "      <th>weekday_1</th>\n",
       "      <th>weekday_2</th>\n",
       "      <th>weekday_3</th>\n",
       "      <th>weekday_4</th>\n",
       "      <th>weekday_5</th>\n",
       "      <th>weekday_6</th>\n",
       "      <th>weather_cat_1</th>\n",
       "      <th>weather_cat_2</th>\n",
       "      <th>weather_cat_3</th>\n",
       "    </tr>\n",
       "  </thead>\n",
       "  <tbody>\n",
       "    <tr>\n",
       "      <th>1068101</th>\n",
       "      <td>11.200</td>\n",
       "      <td>0.280000</td>\n",
       "      <td>0.507826</td>\n",
       "      <td>0.229083</td>\n",
       "      <td>1.330579</td>\n",
       "      <td>0.082398</td>\n",
       "      <td>0.075027</td>\n",
       "      <td>0.088511</td>\n",
       "      <td>5.160000</td>\n",
       "      <td>50.7826</td>\n",
       "      <td>...</td>\n",
       "      <td>0</td>\n",
       "      <td>1</td>\n",
       "      <td>0</td>\n",
       "      <td>0</td>\n",
       "      <td>0</td>\n",
       "      <td>0</td>\n",
       "      <td>0</td>\n",
       "      <td>1</td>\n",
       "      <td>0</td>\n",
       "      <td>0</td>\n",
       "    </tr>\n",
       "    <tr>\n",
       "      <th>310700</th>\n",
       "      <td>12.050</td>\n",
       "      <td>0.479167</td>\n",
       "      <td>0.590000</td>\n",
       "      <td>0.228246</td>\n",
       "      <td>1.457404</td>\n",
       "      <td>0.065011</td>\n",
       "      <td>0.298604</td>\n",
       "      <td>0.916964</td>\n",
       "      <td>14.520849</td>\n",
       "      <td>59.0000</td>\n",
       "      <td>...</td>\n",
       "      <td>0</td>\n",
       "      <td>0</td>\n",
       "      <td>0</td>\n",
       "      <td>0</td>\n",
       "      <td>0</td>\n",
       "      <td>1</td>\n",
       "      <td>0</td>\n",
       "      <td>1</td>\n",
       "      <td>0</td>\n",
       "      <td>0</td>\n",
       "    </tr>\n",
       "    <tr>\n",
       "      <th>790867</th>\n",
       "      <td>3.467</td>\n",
       "      <td>0.463333</td>\n",
       "      <td>0.684583</td>\n",
       "      <td>0.185950</td>\n",
       "      <td>0.407165</td>\n",
       "      <td>0.250981</td>\n",
       "      <td>0.661659</td>\n",
       "      <td>0.595943</td>\n",
       "      <td>13.776651</td>\n",
       "      <td>68.4583</td>\n",
       "      <td>...</td>\n",
       "      <td>1</td>\n",
       "      <td>0</td>\n",
       "      <td>0</td>\n",
       "      <td>0</td>\n",
       "      <td>0</td>\n",
       "      <td>0</td>\n",
       "      <td>0</td>\n",
       "      <td>0</td>\n",
       "      <td>1</td>\n",
       "      <td>0</td>\n",
       "    </tr>\n",
       "    <tr>\n",
       "      <th>817302</th>\n",
       "      <td>9.950</td>\n",
       "      <td>0.380000</td>\n",
       "      <td>0.813333</td>\n",
       "      <td>0.189067</td>\n",
       "      <td>0.999676</td>\n",
       "      <td>0.129048</td>\n",
       "      <td>0.086349</td>\n",
       "      <td>1.082599</td>\n",
       "      <td>9.860000</td>\n",
       "      <td>81.3333</td>\n",
       "      <td>...</td>\n",
       "      <td>0</td>\n",
       "      <td>0</td>\n",
       "      <td>0</td>\n",
       "      <td>0</td>\n",
       "      <td>1</td>\n",
       "      <td>0</td>\n",
       "      <td>0</td>\n",
       "      <td>0</td>\n",
       "      <td>1</td>\n",
       "      <td>0</td>\n",
       "    </tr>\n",
       "    <tr>\n",
       "      <th>1126929</th>\n",
       "      <td>4.050</td>\n",
       "      <td>0.361739</td>\n",
       "      <td>0.476957</td>\n",
       "      <td>0.222587</td>\n",
       "      <td>0.495135</td>\n",
       "      <td>0.346597</td>\n",
       "      <td>0.882642</td>\n",
       "      <td>0.405266</td>\n",
       "      <td>9.001733</td>\n",
       "      <td>47.6957</td>\n",
       "      <td>...</td>\n",
       "      <td>1</td>\n",
       "      <td>0</td>\n",
       "      <td>0</td>\n",
       "      <td>0</td>\n",
       "      <td>0</td>\n",
       "      <td>0</td>\n",
       "      <td>0</td>\n",
       "      <td>1</td>\n",
       "      <td>0</td>\n",
       "      <td>0</td>\n",
       "    </tr>\n",
       "  </tbody>\n",
       "</table>\n",
       "<p>5 rows × 303 columns</p>\n",
       "</div>"
      ],
      "text/plain": [
       "         time_diff  temperature  humidity  windspeed     miles  metro_dist  \\\n",
       "1068101     11.200     0.280000  0.507826   0.229083  1.330579    0.082398   \n",
       "310700      12.050     0.479167  0.590000   0.228246  1.457404    0.065011   \n",
       "790867       3.467     0.463333  0.684583   0.185950  0.407165    0.250981   \n",
       "817302       9.950     0.380000  0.813333   0.189067  0.999676    0.129048   \n",
       "1126929      4.050     0.361739  0.476957   0.222587  0.495135    0.346597   \n",
       "\n",
       "         landmark_dist_start  landmark_dist_end       temp      hum  \\\n",
       "1068101             0.075027           0.088511   5.160000  50.7826   \n",
       "310700              0.298604           0.916964  14.520849  59.0000   \n",
       "790867              0.661659           0.595943  13.776651  68.4583   \n",
       "817302              0.086349           1.082599   9.860000  81.3333   \n",
       "1126929             0.882642           0.405266   9.001733  47.6957   \n",
       "\n",
       "             ...        weekday_0  weekday_1  weekday_2  weekday_3  weekday_4  \\\n",
       "1068101      ...                0          1          0          0          0   \n",
       "310700       ...                0          0          0          0          0   \n",
       "790867       ...                1          0          0          0          0   \n",
       "817302       ...                0          0          0          0          1   \n",
       "1126929      ...                1          0          0          0          0   \n",
       "\n",
       "         weekday_5  weekday_6  weather_cat_1  weather_cat_2  weather_cat_3  \n",
       "1068101          0          0              1              0              0  \n",
       "310700           1          0              1              0              0  \n",
       "790867           0          0              0              1              0  \n",
       "817302           0          0              0              1              0  \n",
       "1126929          0          0              1              0              0  \n",
       "\n",
       "[5 rows x 303 columns]"
      ]
     },
     "execution_count": 5,
     "metadata": {},
     "output_type": "execute_result"
    }
   ],
   "source": [
    "bs=bs.rename(columns = {'member_type_Registered':'member_type'})\n",
    "bs.head()"
   ]
  },
  {
   "cell_type": "markdown",
   "metadata": {
    "collapsed": true
   },
   "source": [
    "### Model 1"
   ]
  },
  {
   "cell_type": "code",
   "execution_count": 6,
   "metadata": {
    "collapsed": true
   },
   "outputs": [],
   "source": [
    "remove_cols = ['work_day_1','season_1', 'season_2', 'season_3', 'season_4','member_type']\n",
    "X1 = np.matrix(bs.drop(remove_cols, 1))\n",
    "y1 = bs['member_type']"
   ]
  },
  {
   "cell_type": "code",
   "execution_count": 7,
   "metadata": {},
   "outputs": [
    {
     "data": {
      "text/plain": [
       "((914885, 297), (304962, 297), (914885,), (304962,))"
      ]
     },
     "execution_count": 7,
     "metadata": {},
     "output_type": "execute_result"
    }
   ],
   "source": [
    "X1_train, X1_test, y1_train, y1_test = train_test_split(X1, y1, test_size = 0.25)\n",
    "X1_train.shape, X1_test.shape, y1_train.shape, y1_test.shape"
   ]
  },
  {
   "cell_type": "code",
   "execution_count": 9,
   "metadata": {},
   "outputs": [
    {
     "data": {
      "text/plain": [
       "GridSearchCV(cv=3, error_score='raise',\n",
       "       estimator=LogisticRegression(C=1.0, class_weight=None, dual=False, fit_intercept=True,\n",
       "          intercept_scaling=1, max_iter=100, multi_class='ovr', n_jobs=1,\n",
       "          penalty='l2', random_state=None, solver='liblinear', tol=0.0001,\n",
       "          verbose=0, warm_start=False),\n",
       "       fit_params={}, iid=True, n_jobs=1,\n",
       "       param_grid={'C': array([  1.00000e-04,   2.63167e+00,   5.26325e+00,   7.89482e+00,\n",
       "         1.05264e+01,   1.31580e+01,   1.57895e+01,   1.84211e+01,\n",
       "         2.10527e+01,   2.36843e+01,   2.63158e+01,   2.89474e+01,\n",
       "         3.15790e+01,   3.42106e+01,   3.68421e+01,   3.94737e+01,\n",
       "         4.21053e+01,   4.47369e+01,   4.73684e+01,   5.00000e+01])},\n",
       "       pre_dispatch='2*n_jobs', refit=True, return_train_score=True,\n",
       "       scoring=None, verbose=0)"
      ]
     },
     "execution_count": 9,
     "metadata": {},
     "output_type": "execute_result"
    }
   ],
   "source": [
    "c_space = np.linspace(0.0001, 50, 20)\n",
    "param_grid = {'C': c_space}\n",
    "\n",
    "log3 = LogisticRegression()\n",
    "log_gs2 = GridSearchCV(log3, param_grid, cv=3)\n",
    "log_gs2.fit(X1_train, y1_train)"
   ]
  },
  {
   "cell_type": "code",
   "execution_count": 10,
   "metadata": {
    "collapsed": true
   },
   "outputs": [],
   "source": [
    "pred3 = log_gs2.predict(X1_test)\n",
    "score3 = log_gs2.score(X1_test, y1_test)\n",
    "train_score3 = log_gs2.score(X1_train, y1_train)"
   ]
  },
  {
   "cell_type": "code",
   "execution_count": 11,
   "metadata": {},
   "outputs": [
    {
     "data": {
      "text/plain": [
       "(0.87702402266511892, 0.87764691737212874)"
      ]
     },
     "execution_count": 11,
     "metadata": {},
     "output_type": "execute_result"
    }
   ],
   "source": [
    "score3, train_score3"
   ]
  },
  {
   "cell_type": "code",
   "execution_count": 12,
   "metadata": {},
   "outputs": [
    {
     "data": {
      "text/plain": [
       "array([[ 19083,  31692],\n",
       "       [  5811, 248376]])"
      ]
     },
     "execution_count": 12,
     "metadata": {},
     "output_type": "execute_result"
    }
   ],
   "source": [
    "confusion_matrix(y1_test, pred3)"
   ]
  },
  {
   "cell_type": "code",
   "execution_count": 13,
   "metadata": {},
   "outputs": [
    {
     "name": "stdout",
     "output_type": "stream",
     "text": [
      "             precision    recall  f1-score   support\n",
      "\n",
      "          0       0.77      0.38      0.50     50775\n",
      "          1       0.89      0.98      0.93    254187\n",
      "\n",
      "avg / total       0.87      0.88      0.86    304962\n",
      "\n"
     ]
    }
   ],
   "source": [
    "print(classification_report(y1_test, pred3))"
   ]
  },
  {
   "cell_type": "code",
   "execution_count": null,
   "metadata": {
    "collapsed": true
   },
   "outputs": [],
   "source": []
  }
 ],
 "metadata": {
  "kernelspec": {
   "display_name": "Python 3",
   "language": "python",
   "name": "python3"
  },
  "language_info": {
   "codemirror_mode": {
    "name": "ipython",
    "version": 3
   },
   "file_extension": ".py",
   "mimetype": "text/x-python",
   "name": "python",
   "nbconvert_exporter": "python",
   "pygments_lexer": "ipython3",
   "version": "3.6.1"
  }
 },
 "nbformat": 4,
 "nbformat_minor": 2
}
