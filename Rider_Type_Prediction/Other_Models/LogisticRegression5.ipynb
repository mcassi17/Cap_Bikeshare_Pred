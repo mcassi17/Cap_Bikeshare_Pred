{
 "cells": [
  {
   "cell_type": "code",
   "execution_count": 2,
   "metadata": {
    "collapsed": true
   },
   "outputs": [],
   "source": [
    "import pandas as pd\n",
    "import numpy as np\n",
    "from sklearn.model_selection import train_test_split\n",
    "from sklearn.linear_model import LogisticRegression\n",
    "from sklearn.metrics import accuracy_score\n",
    "from sklearn.model_selection import GridSearchCV\n",
    "from sklearn.metrics import classification_report\n",
    "from sklearn.metrics import confusion_matrix\n",
    "from sklearn.utils import shuffle\n",
    "from sklearn.model_selection import cross_val_score\n",
    "from sklearn.metrics import roc_auc_score"
   ]
  },
  {
   "cell_type": "code",
   "execution_count": 3,
   "metadata": {
    "collapsed": true
   },
   "outputs": [],
   "source": [
    "def set_data(file):\n",
    "    bikeshare_machine = pd.read_csv(file, \n",
    "                        parse_dates=['Start date', 'End date'])\n",
    "    bikeshare_machine.drop('Unnamed: 0', 1, inplace=True)\n",
    "    included_cols = ['start_station','end_station','Member Type','time_diff','season','mnth','holiday',\n",
    "                     'weekday','workingday','weathersit','temp','hum','windspeed','miles',\n",
    "                     'rush_hour','metro_dist','landmark_dist_start','landmark_dist_end']\n",
    "    bikeshare_machine = bikeshare_machine[included_cols]\n",
    "    bikeshare_machine['season'] = bikeshare_machine['season'].astype('category')\n",
    "    bikeshare_machine['mnth'] = bikeshare_machine['mnth'].astype('category')\n",
    "    bikeshare_machine['holiday'] = bikeshare_machine['holiday'].astype('category')\n",
    "    bikeshare_machine['weekday'] = bikeshare_machine['weekday'].astype('category')\n",
    "    bikeshare_machine['workingday'] = bikeshare_machine['workingday'].astype('category')\n",
    "    bikeshare_machine['weathersit'] = bikeshare_machine['weathersit'].astype('category')\n",
    "    bikeshare_machine['Member Type'] = bikeshare_machine['Member Type'].astype('category')\n",
    "    bikeshare_machine['start_station'] = bikeshare_machine['start_station'].astype('category')\n",
    "    bikeshare_machine['end_station'] = bikeshare_machine['end_station'].astype('category')\n",
    "    bikeshare_machine['rush_hour'] = bikeshare_machine['rush_hour'].astype('category')\n",
    "    col_names = ['start_station', 'end_station','member_type','time_diff','season','month','holiday',\n",
    "             'weekday','work_day','weather_cat','temperature','humidity','windspeed','miles','rush_hour',\n",
    "                'metro_dist','landmark_dist_start','landmark_dist_end']\n",
    "    bikeshare_machine.columns = col_names\n",
    "    tmin = -8\n",
    "    tmax = 39\n",
    "    hum_max = 100\n",
    "    wind_max = 67\n",
    "    bikeshare_machine['temp'] = bikeshare_machine['temperature'] * (tmax - tmin) + tmin\n",
    "    bikeshare_machine['hum'] = bikeshare_machine['humidity'] * 100\n",
    "    bikeshare_machine['wind'] = bikeshare_machine['windspeed'] * 67\n",
    "    bikeshare_machine = pd.get_dummies(bikeshare_machine, \n",
    "                                 columns=['rush_hour','member_type','holiday','work_day'], drop_first=True)\n",
    "    bikeshare_machine = pd.get_dummies(bikeshare_machine, \n",
    "                                 columns=['start_station','end_station','season','month','weekday','weather_cat'])\n",
    "    bikeshare_machine = shuffle(bikeshare_machine)\n",
    "    return bikeshare_machine"
   ]
  },
  {
   "cell_type": "code",
   "execution_count": 4,
   "metadata": {
    "collapsed": true
   },
   "outputs": [],
   "source": [
    "file = '/Users/matthewcassi/Documents/Bike-Sharing-Dataset/Bikeshare_Time_Prediction/Casual_RushMetro/landmarks.csv'\n",
    "bs = set_data(file)"
   ]
  },
  {
   "cell_type": "code",
   "execution_count": 5,
   "metadata": {},
   "outputs": [
    {
     "data": {
      "text/plain": [
       "Index(['time_diff', 'temperature', 'humidity', 'windspeed', 'miles',\n",
       "       'metro_dist', 'landmark_dist_start', 'landmark_dist_end', 'temp', 'hum',\n",
       "       ...\n",
       "       'weekday_0', 'weekday_1', 'weekday_2', 'weekday_3', 'weekday_4',\n",
       "       'weekday_5', 'weekday_6', 'weather_cat_1', 'weather_cat_2',\n",
       "       'weather_cat_3'],\n",
       "      dtype='object', length=303)"
      ]
     },
     "execution_count": 5,
     "metadata": {},
     "output_type": "execute_result"
    }
   ],
   "source": [
    "bs.columns"
   ]
  },
  {
   "cell_type": "code",
   "execution_count": 6,
   "metadata": {},
   "outputs": [
    {
     "data": {
      "text/html": [
       "<div>\n",
       "<style>\n",
       "    .dataframe thead tr:only-child th {\n",
       "        text-align: right;\n",
       "    }\n",
       "\n",
       "    .dataframe thead th {\n",
       "        text-align: left;\n",
       "    }\n",
       "\n",
       "    .dataframe tbody tr th {\n",
       "        vertical-align: top;\n",
       "    }\n",
       "</style>\n",
       "<table border=\"1\" class=\"dataframe\">\n",
       "  <thead>\n",
       "    <tr style=\"text-align: right;\">\n",
       "      <th></th>\n",
       "      <th>time_diff</th>\n",
       "      <th>temperature</th>\n",
       "      <th>humidity</th>\n",
       "      <th>windspeed</th>\n",
       "      <th>miles</th>\n",
       "      <th>metro_dist</th>\n",
       "      <th>landmark_dist_start</th>\n",
       "      <th>landmark_dist_end</th>\n",
       "      <th>temp</th>\n",
       "      <th>hum</th>\n",
       "      <th>...</th>\n",
       "      <th>weekday_0</th>\n",
       "      <th>weekday_1</th>\n",
       "      <th>weekday_2</th>\n",
       "      <th>weekday_3</th>\n",
       "      <th>weekday_4</th>\n",
       "      <th>weekday_5</th>\n",
       "      <th>weekday_6</th>\n",
       "      <th>weather_cat_1</th>\n",
       "      <th>weather_cat_2</th>\n",
       "      <th>weather_cat_3</th>\n",
       "    </tr>\n",
       "  </thead>\n",
       "  <tbody>\n",
       "    <tr>\n",
       "      <th>385150</th>\n",
       "      <td>17.267</td>\n",
       "      <td>0.437500</td>\n",
       "      <td>0.602917</td>\n",
       "      <td>0.162312</td>\n",
       "      <td>1.148545</td>\n",
       "      <td>0.441819</td>\n",
       "      <td>0.424481</td>\n",
       "      <td>0.075027</td>\n",
       "      <td>12.562500</td>\n",
       "      <td>60.2917</td>\n",
       "      <td>...</td>\n",
       "      <td>0</td>\n",
       "      <td>0</td>\n",
       "      <td>0</td>\n",
       "      <td>0</td>\n",
       "      <td>1</td>\n",
       "      <td>0</td>\n",
       "      <td>0</td>\n",
       "      <td>1</td>\n",
       "      <td>0</td>\n",
       "      <td>0</td>\n",
       "    </tr>\n",
       "    <tr>\n",
       "      <th>488295</th>\n",
       "      <td>0.833</td>\n",
       "      <td>0.643333</td>\n",
       "      <td>0.727083</td>\n",
       "      <td>0.139929</td>\n",
       "      <td>0.000000</td>\n",
       "      <td>0.096430</td>\n",
       "      <td>0.218430</td>\n",
       "      <td>0.218430</td>\n",
       "      <td>22.236651</td>\n",
       "      <td>72.7083</td>\n",
       "      <td>...</td>\n",
       "      <td>0</td>\n",
       "      <td>0</td>\n",
       "      <td>0</td>\n",
       "      <td>0</td>\n",
       "      <td>0</td>\n",
       "      <td>1</td>\n",
       "      <td>0</td>\n",
       "      <td>0</td>\n",
       "      <td>1</td>\n",
       "      <td>0</td>\n",
       "    </tr>\n",
       "    <tr>\n",
       "      <th>674350</th>\n",
       "      <td>6.233</td>\n",
       "      <td>0.709167</td>\n",
       "      <td>0.757917</td>\n",
       "      <td>0.225129</td>\n",
       "      <td>0.630350</td>\n",
       "      <td>0.094222</td>\n",
       "      <td>0.482777</td>\n",
       "      <td>0.257095</td>\n",
       "      <td>25.330849</td>\n",
       "      <td>75.7917</td>\n",
       "      <td>...</td>\n",
       "      <td>0</td>\n",
       "      <td>0</td>\n",
       "      <td>0</td>\n",
       "      <td>0</td>\n",
       "      <td>0</td>\n",
       "      <td>1</td>\n",
       "      <td>0</td>\n",
       "      <td>0</td>\n",
       "      <td>1</td>\n",
       "      <td>0</td>\n",
       "    </tr>\n",
       "    <tr>\n",
       "      <th>692854</th>\n",
       "      <td>14.550</td>\n",
       "      <td>0.716667</td>\n",
       "      <td>0.682500</td>\n",
       "      <td>0.228858</td>\n",
       "      <td>2.269004</td>\n",
       "      <td>0.179499</td>\n",
       "      <td>2.602752</td>\n",
       "      <td>1.329181</td>\n",
       "      <td>25.683349</td>\n",
       "      <td>68.2500</td>\n",
       "      <td>...</td>\n",
       "      <td>1</td>\n",
       "      <td>0</td>\n",
       "      <td>0</td>\n",
       "      <td>0</td>\n",
       "      <td>0</td>\n",
       "      <td>0</td>\n",
       "      <td>0</td>\n",
       "      <td>0</td>\n",
       "      <td>1</td>\n",
       "      <td>0</td>\n",
       "    </tr>\n",
       "    <tr>\n",
       "      <th>215215</th>\n",
       "      <td>20.733</td>\n",
       "      <td>0.620000</td>\n",
       "      <td>0.354167</td>\n",
       "      <td>0.253121</td>\n",
       "      <td>1.588125</td>\n",
       "      <td>0.048442</td>\n",
       "      <td>0.060280</td>\n",
       "      <td>1.594631</td>\n",
       "      <td>21.140000</td>\n",
       "      <td>35.4167</td>\n",
       "      <td>...</td>\n",
       "      <td>0</td>\n",
       "      <td>0</td>\n",
       "      <td>0</td>\n",
       "      <td>0</td>\n",
       "      <td>0</td>\n",
       "      <td>1</td>\n",
       "      <td>0</td>\n",
       "      <td>1</td>\n",
       "      <td>0</td>\n",
       "      <td>0</td>\n",
       "    </tr>\n",
       "  </tbody>\n",
       "</table>\n",
       "<p>5 rows × 303 columns</p>\n",
       "</div>"
      ],
      "text/plain": [
       "        time_diff  temperature  humidity  windspeed     miles  metro_dist  \\\n",
       "385150     17.267     0.437500  0.602917   0.162312  1.148545    0.441819   \n",
       "488295      0.833     0.643333  0.727083   0.139929  0.000000    0.096430   \n",
       "674350      6.233     0.709167  0.757917   0.225129  0.630350    0.094222   \n",
       "692854     14.550     0.716667  0.682500   0.228858  2.269004    0.179499   \n",
       "215215     20.733     0.620000  0.354167   0.253121  1.588125    0.048442   \n",
       "\n",
       "        landmark_dist_start  landmark_dist_end       temp      hum  \\\n",
       "385150             0.424481           0.075027  12.562500  60.2917   \n",
       "488295             0.218430           0.218430  22.236651  72.7083   \n",
       "674350             0.482777           0.257095  25.330849  75.7917   \n",
       "692854             2.602752           1.329181  25.683349  68.2500   \n",
       "215215             0.060280           1.594631  21.140000  35.4167   \n",
       "\n",
       "            ...        weekday_0  weekday_1  weekday_2  weekday_3  weekday_4  \\\n",
       "385150      ...                0          0          0          0          1   \n",
       "488295      ...                0          0          0          0          0   \n",
       "674350      ...                0          0          0          0          0   \n",
       "692854      ...                1          0          0          0          0   \n",
       "215215      ...                0          0          0          0          0   \n",
       "\n",
       "        weekday_5  weekday_6  weather_cat_1  weather_cat_2  weather_cat_3  \n",
       "385150          0          0              1              0              0  \n",
       "488295          1          0              0              1              0  \n",
       "674350          1          0              0              1              0  \n",
       "692854          0          0              0              1              0  \n",
       "215215          1          0              1              0              0  \n",
       "\n",
       "[5 rows x 303 columns]"
      ]
     },
     "execution_count": 6,
     "metadata": {},
     "output_type": "execute_result"
    }
   ],
   "source": [
    "bs=bs.rename(columns = {'member_type_Registered':'member_type'})\n",
    "bs.head()"
   ]
  },
  {
   "cell_type": "markdown",
   "metadata": {
    "collapsed": true
   },
   "source": [
    "### Model 1"
   ]
  },
  {
   "cell_type": "code",
   "execution_count": 7,
   "metadata": {},
   "outputs": [],
   "source": [
    "X1 = np.matrix(bs[['time_diff', 'miles', 'metro_dist', 'landmark_dist_start', 'landmark_dist_end']])\n",
    "y1 = bs['member_type']"
   ]
  },
  {
   "cell_type": "code",
   "execution_count": 8,
   "metadata": {},
   "outputs": [
    {
     "data": {
      "text/plain": [
       "((914885, 5), (304962, 5), (914885,), (304962,))"
      ]
     },
     "execution_count": 8,
     "metadata": {},
     "output_type": "execute_result"
    }
   ],
   "source": [
    "X1_train, X1_test, y1_train, y1_test = train_test_split(X1, y1, test_size = 0.25)\n",
    "X1_train.shape, X1_test.shape, y1_train.shape, y1_test.shape"
   ]
  },
  {
   "cell_type": "code",
   "execution_count": 9,
   "metadata": {
    "scrolled": true
   },
   "outputs": [
    {
     "data": {
      "text/plain": [
       "GridSearchCV(cv=3, error_score='raise',\n",
       "       estimator=LogisticRegression(C=1.0, class_weight=None, dual=False, fit_intercept=True,\n",
       "          intercept_scaling=1, max_iter=100, multi_class='ovr', n_jobs=1,\n",
       "          penalty='l2', random_state=None, solver='liblinear', tol=0.0001,\n",
       "          verbose=0, warm_start=False),\n",
       "       fit_params={}, iid=True, n_jobs=1,\n",
       "       param_grid={'C': array([  1.00000e-04,   2.63167e+00,   5.26325e+00,   7.89482e+00,\n",
       "         1.05264e+01,   1.31580e+01,   1.57895e+01,   1.84211e+01,\n",
       "         2.10527e+01,   2.36843e+01,   2.63158e+01,   2.89474e+01,\n",
       "         3.15790e+01,   3.42106e+01,   3.68421e+01,   3.94737e+01,\n",
       "         4.21053e+01,   4.47369e+01,   4.73684e+01,   5.00000e+01])},\n",
       "       pre_dispatch='2*n_jobs', refit=True, return_train_score=True,\n",
       "       scoring=None, verbose=0)"
      ]
     },
     "execution_count": 9,
     "metadata": {},
     "output_type": "execute_result"
    }
   ],
   "source": [
    "c_space = np.linspace(0.0001, 50, 20)\n",
    "param_grid = {'C': c_space}\n",
    "\n",
    "log3 = LogisticRegression()\n",
    "log_gs2 = GridSearchCV(log3, param_grid, cv=3)\n",
    "log_gs2.fit(X1_train, y1_train)"
   ]
  },
  {
   "cell_type": "code",
   "execution_count": 10,
   "metadata": {
    "collapsed": true
   },
   "outputs": [],
   "source": [
    "pred3 = log_gs2.predict(X1_test)\n",
    "score3 = log_gs2.score(X1_test, y1_test)\n",
    "train_score3 = log_gs2.score(X1_train, y1_train)"
   ]
  },
  {
   "cell_type": "code",
   "execution_count": 11,
   "metadata": {
    "scrolled": true
   },
   "outputs": [
    {
     "data": {
      "text/plain": [
       "(0.86499957371738123, 0.86578750334741528)"
      ]
     },
     "execution_count": 11,
     "metadata": {},
     "output_type": "execute_result"
    }
   ],
   "source": [
    "score3, train_score3"
   ]
  },
  {
   "cell_type": "code",
   "execution_count": 12,
   "metadata": {},
   "outputs": [
    {
     "data": {
      "text/plain": [
       "array([[ 14839,  36163],\n",
       "       [  5007, 248953]])"
      ]
     },
     "execution_count": 12,
     "metadata": {},
     "output_type": "execute_result"
    }
   ],
   "source": [
    "confusion_matrix(y1_test, pred3)"
   ]
  },
  {
   "cell_type": "code",
   "execution_count": 13,
   "metadata": {
    "scrolled": true
   },
   "outputs": [
    {
     "name": "stdout",
     "output_type": "stream",
     "text": [
      "             precision    recall  f1-score   support\n",
      "\n",
      "          0       0.75      0.29      0.42     51002\n",
      "          1       0.87      0.98      0.92    253960\n",
      "\n",
      "avg / total       0.85      0.86      0.84    304962\n",
      "\n"
     ]
    }
   ],
   "source": [
    "print(classification_report(y1_test, pred3))"
   ]
  },
  {
   "cell_type": "code",
   "execution_count": 14,
   "metadata": {},
   "outputs": [
    {
     "data": {
      "text/plain": [
       "0.63561683563698801"
      ]
     },
     "execution_count": 14,
     "metadata": {},
     "output_type": "execute_result"
    }
   ],
   "source": [
    "roc_auc_score(y1_test, pred3)"
   ]
  },
  {
   "cell_type": "markdown",
   "metadata": {
    "collapsed": true
   },
   "source": [
    "### Model 2"
   ]
  },
  {
   "cell_type": "code",
   "execution_count": 15,
   "metadata": {
    "collapsed": true
   },
   "outputs": [],
   "source": [
    "X1 = np.matrix(bs[['time_diff', 'miles','landmark_dist_start', 'landmark_dist_end']])\n",
    "y1 = bs['member_type']"
   ]
  },
  {
   "cell_type": "code",
   "execution_count": 16,
   "metadata": {},
   "outputs": [
    {
     "data": {
      "text/plain": [
       "((914885, 4), (304962, 4), (914885,), (304962,))"
      ]
     },
     "execution_count": 16,
     "metadata": {},
     "output_type": "execute_result"
    }
   ],
   "source": [
    "X1_train, X1_test, y1_train, y1_test = train_test_split(X1, y1, test_size = 0.25)\n",
    "X1_train.shape, X1_test.shape, y1_train.shape, y1_test.shape"
   ]
  },
  {
   "cell_type": "code",
   "execution_count": 17,
   "metadata": {
    "scrolled": true
   },
   "outputs": [
    {
     "data": {
      "text/plain": [
       "GridSearchCV(cv=3, error_score='raise',\n",
       "       estimator=LogisticRegression(C=1.0, class_weight=None, dual=False, fit_intercept=True,\n",
       "          intercept_scaling=1, max_iter=100, multi_class='ovr', n_jobs=1,\n",
       "          penalty='l2', random_state=None, solver='liblinear', tol=0.0001,\n",
       "          verbose=0, warm_start=False),\n",
       "       fit_params={}, iid=True, n_jobs=1,\n",
       "       param_grid={'C': array([  1.00000e-04,   2.63167e+00,   5.26325e+00,   7.89482e+00,\n",
       "         1.05264e+01,   1.31580e+01,   1.57895e+01,   1.84211e+01,\n",
       "         2.10527e+01,   2.36843e+01,   2.63158e+01,   2.89474e+01,\n",
       "         3.15790e+01,   3.42106e+01,   3.68421e+01,   3.94737e+01,\n",
       "         4.21053e+01,   4.47369e+01,   4.73684e+01,   5.00000e+01])},\n",
       "       pre_dispatch='2*n_jobs', refit=True, return_train_score=True,\n",
       "       scoring=None, verbose=0)"
      ]
     },
     "execution_count": 17,
     "metadata": {},
     "output_type": "execute_result"
    }
   ],
   "source": [
    "c_space = np.linspace(0.0001, 50, 20)\n",
    "param_grid = {'C': c_space}\n",
    "\n",
    "log3 = LogisticRegression()\n",
    "log_gs2 = GridSearchCV(log3, param_grid, cv=3)\n",
    "log_gs2.fit(X1_train, y1_train)"
   ]
  },
  {
   "cell_type": "code",
   "execution_count": 18,
   "metadata": {
    "collapsed": true
   },
   "outputs": [],
   "source": [
    "pred3 = log_gs2.predict(X1_test)\n",
    "score3 = log_gs2.score(X1_test, y1_test)\n",
    "train_score3 = log_gs2.score(X1_train, y1_train)"
   ]
  },
  {
   "cell_type": "code",
   "execution_count": 19,
   "metadata": {
    "scrolled": true
   },
   "outputs": [
    {
     "data": {
      "text/plain": [
       "(0.86539306536552096, 0.8656760139252474)"
      ]
     },
     "execution_count": 19,
     "metadata": {},
     "output_type": "execute_result"
    }
   ],
   "source": [
    "score3, train_score3"
   ]
  },
  {
   "cell_type": "code",
   "execution_count": 20,
   "metadata": {
    "scrolled": true
   },
   "outputs": [
    {
     "data": {
      "text/plain": [
       "array([[ 15074,  35952],\n",
       "       [  5098, 248838]])"
      ]
     },
     "execution_count": 20,
     "metadata": {},
     "output_type": "execute_result"
    }
   ],
   "source": [
    "confusion_matrix(y1_test, pred3)"
   ]
  },
  {
   "cell_type": "code",
   "execution_count": 21,
   "metadata": {
    "scrolled": true
   },
   "outputs": [
    {
     "name": "stdout",
     "output_type": "stream",
     "text": [
      "             precision    recall  f1-score   support\n",
      "\n",
      "          0       0.75      0.30      0.42     51026\n",
      "          1       0.87      0.98      0.92    253936\n",
      "\n",
      "avg / total       0.85      0.87      0.84    304962\n",
      "\n"
     ]
    }
   ],
   "source": [
    "print(classification_report(y1_test, pred3))"
   ]
  },
  {
   "cell_type": "code",
   "execution_count": 22,
   "metadata": {},
   "outputs": [
    {
     "data": {
      "text/plain": [
       "0.63767104877116942"
      ]
     },
     "execution_count": 22,
     "metadata": {},
     "output_type": "execute_result"
    }
   ],
   "source": [
    "roc_auc_score(y1_test, pred3)"
   ]
  },
  {
   "cell_type": "code",
   "execution_count": null,
   "metadata": {
    "collapsed": true
   },
   "outputs": [],
   "source": []
  },
  {
   "cell_type": "code",
   "execution_count": 23,
   "metadata": {
    "collapsed": true
   },
   "outputs": [],
   "source": [
    "X1 = np.matrix(bs[['time_diff','metro_dist']])\n",
    "y1 = bs['member_type']"
   ]
  },
  {
   "cell_type": "code",
   "execution_count": 24,
   "metadata": {},
   "outputs": [
    {
     "data": {
      "text/plain": [
       "((914885, 2), (304962, 2), (914885,), (304962,))"
      ]
     },
     "execution_count": 24,
     "metadata": {},
     "output_type": "execute_result"
    }
   ],
   "source": [
    "X1_train, X1_test, y1_train, y1_test = train_test_split(X1, y1, test_size = 0.25)\n",
    "X1_train.shape, X1_test.shape, y1_train.shape, y1_test.shape"
   ]
  },
  {
   "cell_type": "code",
   "execution_count": 25,
   "metadata": {
    "scrolled": true
   },
   "outputs": [
    {
     "data": {
      "text/plain": [
       "GridSearchCV(cv=3, error_score='raise',\n",
       "       estimator=LogisticRegression(C=1.0, class_weight=None, dual=False, fit_intercept=True,\n",
       "          intercept_scaling=1, max_iter=100, multi_class='ovr', n_jobs=1,\n",
       "          penalty='l2', random_state=None, solver='liblinear', tol=0.0001,\n",
       "          verbose=0, warm_start=False),\n",
       "       fit_params={}, iid=True, n_jobs=1,\n",
       "       param_grid={'C': array([  1.00000e-04,   2.63167e+00,   5.26325e+00,   7.89482e+00,\n",
       "         1.05264e+01,   1.31580e+01,   1.57895e+01,   1.84211e+01,\n",
       "         2.10527e+01,   2.36843e+01,   2.63158e+01,   2.89474e+01,\n",
       "         3.15790e+01,   3.42106e+01,   3.68421e+01,   3.94737e+01,\n",
       "         4.21053e+01,   4.47369e+01,   4.73684e+01,   5.00000e+01])},\n",
       "       pre_dispatch='2*n_jobs', refit=True, return_train_score=True,\n",
       "       scoring=None, verbose=0)"
      ]
     },
     "execution_count": 25,
     "metadata": {},
     "output_type": "execute_result"
    }
   ],
   "source": [
    "c_space = np.linspace(0.0001, 50, 20)\n",
    "param_grid = {'C': c_space}\n",
    "\n",
    "log3 = LogisticRegression()\n",
    "log_gs2 = GridSearchCV(log3, param_grid, cv=3)\n",
    "log_gs2.fit(X1_train, y1_train)"
   ]
  },
  {
   "cell_type": "code",
   "execution_count": 26,
   "metadata": {
    "collapsed": true
   },
   "outputs": [],
   "source": [
    "pred3 = log_gs2.predict(X1_test)\n",
    "score3 = log_gs2.score(X1_test, y1_test)\n",
    "train_score3 = log_gs2.score(X1_train, y1_train)"
   ]
  },
  {
   "cell_type": "code",
   "execution_count": 27,
   "metadata": {
    "scrolled": true
   },
   "outputs": [
    {
     "data": {
      "text/plain": [
       "(0.85954643529357755, 0.85945009482066048)"
      ]
     },
     "execution_count": 27,
     "metadata": {},
     "output_type": "execute_result"
    }
   ],
   "source": [
    "score3, train_score3"
   ]
  },
  {
   "cell_type": "code",
   "execution_count": 28,
   "metadata": {
    "scrolled": true
   },
   "outputs": [
    {
     "data": {
      "text/plain": [
       "array([[ 12428,  38450],\n",
       "       [  4383, 249701]])"
      ]
     },
     "execution_count": 28,
     "metadata": {},
     "output_type": "execute_result"
    }
   ],
   "source": [
    "confusion_matrix(y1_test, pred3)"
   ]
  },
  {
   "cell_type": "code",
   "execution_count": 29,
   "metadata": {
    "scrolled": true
   },
   "outputs": [
    {
     "name": "stdout",
     "output_type": "stream",
     "text": [
      "             precision    recall  f1-score   support\n",
      "\n",
      "          0       0.74      0.24      0.37     50878\n",
      "          1       0.87      0.98      0.92    254084\n",
      "\n",
      "avg / total       0.85      0.86      0.83    304962\n",
      "\n"
     ]
    }
   ],
   "source": [
    "print(classification_report(y1_test, pred3))"
   ]
  },
  {
   "cell_type": "code",
   "execution_count": 30,
   "metadata": {},
   "outputs": [
    {
     "data": {
      "text/plain": [
       "0.61351020370018361"
      ]
     },
     "execution_count": 30,
     "metadata": {},
     "output_type": "execute_result"
    }
   ],
   "source": [
    "roc_auc_score(y1_test, pred3)"
   ]
  },
  {
   "cell_type": "code",
   "execution_count": null,
   "metadata": {
    "collapsed": true
   },
   "outputs": [],
   "source": []
  }
 ],
 "metadata": {
  "kernelspec": {
   "display_name": "Python 3",
   "language": "python",
   "name": "python3"
  },
  "language_info": {
   "codemirror_mode": {
    "name": "ipython",
    "version": 3
   },
   "file_extension": ".py",
   "mimetype": "text/x-python",
   "name": "python",
   "nbconvert_exporter": "python",
   "pygments_lexer": "ipython3",
   "version": "3.6.1"
  }
 },
 "nbformat": 4,
 "nbformat_minor": 2
}
