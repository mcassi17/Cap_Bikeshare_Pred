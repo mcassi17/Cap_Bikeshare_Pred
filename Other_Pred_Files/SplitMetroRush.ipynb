{
 "cells": [
  {
   "cell_type": "code",
   "execution_count": 1,
   "metadata": {
    "collapsed": true
   },
   "outputs": [],
   "source": [
    "import pandas as pd"
   ]
  },
  {
   "cell_type": "code",
   "execution_count": 2,
   "metadata": {
    "collapsed": true
   },
   "outputs": [],
   "source": [
    "bikeshare = pd.read_csv('metro_rush.csv', \n",
    "                        parse_dates=['Start date', 'End date', 'start_date_short', 'end_date_short'])\n",
    "bikeshare.drop('Unnamed: 0', 1, inplace=True)"
   ]
  },
  {
   "cell_type": "code",
   "execution_count": 6,
   "metadata": {},
   "outputs": [
    {
     "name": "stdout",
     "output_type": "stream",
     "text": [
      "            Start date            End date                      start_station  \\\n",
      "14 2011-03-31 23:12:00 2011-03-31 23:26:00         14th & Rhode Island Ave NW   \n",
      "19 2011-03-31 23:03:00 2011-03-31 23:15:00         North Capitol St & F St NW   \n",
      "21 2011-03-31 23:01:00 2011-03-31 23:31:00  Convention Center / 7th & M St NW   \n",
      "22 2011-03-31 22:59:00 2011-03-31 23:06:00           20th St & Florida Ave NW   \n",
      "25 2011-03-31 22:52:00 2011-03-31 23:06:00                     14th & R St NW   \n",
      "\n",
      "    start_station_code                     end_station  end_station_code  \\\n",
      "14             31203.0     Adams Mill & Columbia Rd NW           31104.0   \n",
      "19             31624.0                  18th & M St NW           31221.0   \n",
      "21             31223.0  C & O Canal & Wisconsin Ave NW           31225.0   \n",
      "22             31110.0                  21st & M St NW           31212.0   \n",
      "25             31202.0      Calvert St & Woodley Pl NW           31106.0   \n",
      "\n",
      "   Member Type start_date_short end_date_short  time_diff     ...      \\\n",
      "14      Casual       2011-03-31     2011-03-31     14.233     ...       \n",
      "19      Casual       2011-03-31     2011-03-31     11.550     ...       \n",
      "21      Casual       2011-03-31     2011-03-31     30.650     ...       \n",
      "22      Casual       2011-03-31     2011-03-31      7.283     ...       \n",
      "25      Casual       2011-03-31     2011-03-31     13.200     ...       \n",
      "\n",
      "         hum  windspeed  start_lat  start_lon    end_lat    end_lon     miles  \\\n",
      "14  0.918333   0.217646  38.908600 -77.032300  38.922925 -77.042581  1.132879   \n",
      "19  0.918333   0.217646  38.897446 -77.009890  38.905067 -77.041779  1.797471   \n",
      "21  0.918333   0.217646  38.905737 -77.022270  38.903750 -77.062690  2.182915   \n",
      "22  0.918333   0.217646  38.915400 -77.044600  38.905340 -77.046774  0.703768   \n",
      "25  0.918333   0.217646  38.912939 -77.032085  38.923583 -77.050046  1.214878   \n",
      "\n",
      "        time  rush_hour  metro_dist  \n",
      "14  23:12:00          0    0.514459  \n",
      "19  23:03:00          0    0.141728  \n",
      "21  23:01:00          0    0.015430  \n",
      "22  22:59:00          0    0.303549  \n",
      "25  22:52:00          0    0.309956  \n",
      "\n",
      "[5 rows x 27 columns]\n",
      "(203626, 27)\n"
     ]
    }
   ],
   "source": [
    "casual = bikeshare[bikeshare['Member Type'] == 'Casual']\n",
    "print(casual.head())\n",
    "print(casual.shape)"
   ]
  },
  {
   "cell_type": "code",
   "execution_count": 7,
   "metadata": {},
   "outputs": [
    {
     "name": "stdout",
     "output_type": "stream",
     "text": [
      "           Start date            End date  \\\n",
      "0 2011-03-31 23:58:00 2011-04-01 00:00:00   \n",
      "1 2011-03-31 23:47:00 2011-03-31 23:50:00   \n",
      "2 2011-03-31 23:45:00 2011-03-31 23:50:00   \n",
      "3 2011-03-31 23:34:00 2011-03-31 23:43:00   \n",
      "4 2011-03-31 23:31:00 2011-03-31 23:39:00   \n",
      "\n",
      "                              start_station  start_station_code  \\\n",
      "0                      14th & Harvard St NW             31105.0   \n",
      "1  Lincoln Park / 13th & East Capitol St NE             31619.0   \n",
      "2                            14th & R St NW             31202.0   \n",
      "3                   Park Rd & Holmead Pl NW             31602.0   \n",
      "4    37th & O St NW / Georgetown University             31236.0   \n",
      "\n",
      "                            end_station  end_station_code Member Type  \\\n",
      "0                  16th & Harvard St NW           31103.0  Registered   \n",
      "1                        13th & H St NE           31611.0  Registered   \n",
      "2  Massachusetts Ave & Dupont Circle NW           31200.0  Registered   \n",
      "3                        15th & P St NW           31201.0  Registered   \n",
      "4                        21st & M St NW           31212.0  Registered   \n",
      "\n",
      "  start_date_short end_date_short  time_diff     ...           hum  windspeed  \\\n",
      "0       2011-03-31     2011-04-01      1.833     ...      0.918333   0.217646   \n",
      "1       2011-03-31     2011-03-31      3.317     ...      0.918333   0.217646   \n",
      "2       2011-03-31     2011-03-31      5.733     ...      0.918333   0.217646   \n",
      "3       2011-03-31     2011-03-31      8.700     ...      0.918333   0.217646   \n",
      "4       2011-03-31     2011-03-31      7.850     ...      0.918333   0.217646   \n",
      "\n",
      "   start_lat  start_lon    end_lat    end_lon     miles      time  rush_hour  \\\n",
      "0  38.926800 -77.032200  38.926088 -77.036536  0.238743  23:58:00          0   \n",
      "1  38.890461 -76.988355  38.900022 -76.988422  0.659533  23:47:00          0   \n",
      "2  38.912939 -77.032085  38.910100 -77.044400  0.691996  23:45:00          0   \n",
      "3  38.930800 -77.031500  38.909850 -77.034438  1.453796  23:34:00          0   \n",
      "4  38.907740 -77.071652  38.905340 -77.046774  1.351053  23:31:00          0   \n",
      "\n",
      "   metro_dist  \n",
      "0    0.125465  \n",
      "1    0.586599  \n",
      "2    0.309956  \n",
      "3    0.135451  \n",
      "4    0.810842  \n",
      "\n",
      "[5 rows x 27 columns]\n",
      "(1016221, 27)\n"
     ]
    }
   ],
   "source": [
    "reg = bikeshare[bikeshare['Member Type'] == 'Registered']\n",
    "print(reg.head())\n",
    "print(reg.shape)"
   ]
  },
  {
   "cell_type": "code",
   "execution_count": 8,
   "metadata": {
    "collapsed": true
   },
   "outputs": [],
   "source": [
    "casual.to_csv('casual_metro_rush.csv')"
   ]
  },
  {
   "cell_type": "code",
   "execution_count": 9,
   "metadata": {
    "collapsed": true
   },
   "outputs": [],
   "source": [
    "reg.to_csv('reg_metro_rush.csv')"
   ]
  },
  {
   "cell_type": "code",
   "execution_count": null,
   "metadata": {
    "collapsed": true
   },
   "outputs": [],
   "source": []
  }
 ],
 "metadata": {
  "kernelspec": {
   "display_name": "Python 3",
   "language": "python",
   "name": "python3"
  },
  "language_info": {
   "codemirror_mode": {
    "name": "ipython",
    "version": 3
   },
   "file_extension": ".py",
   "mimetype": "text/x-python",
   "name": "python",
   "nbconvert_exporter": "python",
   "pygments_lexer": "ipython3",
   "version": "3.6.1"
  }
 },
 "nbformat": 4,
 "nbformat_minor": 2
}
