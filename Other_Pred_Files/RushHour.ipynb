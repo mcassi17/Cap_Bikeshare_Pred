{
 "cells": [
  {
   "cell_type": "code",
   "execution_count": 3,
   "metadata": {
    "collapsed": true
   },
   "outputs": [],
   "source": [
    "import pandas as pd\n",
    "import numpy as np\n",
    "import datetime"
   ]
  },
  {
   "cell_type": "code",
   "execution_count": 4,
   "metadata": {},
   "outputs": [],
   "source": [
    "# Load Dataset with all columns\n",
    "# Making the data columns datetime objects with the parse_dates attribute\n",
    "bikeshare= pd.read_csv('/Users/matthewcassi/Documents/Bike-Sharing-Dataset/less_bikeshare_lat_lon.csv', \n",
    "                        parse_dates=['Start date', 'End date', 'start_date_short', 'end_date_short'])\n",
    "# Removing the Unnamed column\n",
    "bikeshare.drop('Unnamed: 0', 1, inplace=True)"
   ]
  },
  {
   "cell_type": "code",
   "execution_count": 5,
   "metadata": {},
   "outputs": [
    {
     "data": {
      "text/html": [
       "<div>\n",
       "<style>\n",
       "    .dataframe thead tr:only-child th {\n",
       "        text-align: right;\n",
       "    }\n",
       "\n",
       "    .dataframe thead th {\n",
       "        text-align: left;\n",
       "    }\n",
       "\n",
       "    .dataframe tbody tr th {\n",
       "        vertical-align: top;\n",
       "    }\n",
       "</style>\n",
       "<table border=\"1\" class=\"dataframe\">\n",
       "  <thead>\n",
       "    <tr style=\"text-align: right;\">\n",
       "      <th></th>\n",
       "      <th>Start date</th>\n",
       "      <th>End date</th>\n",
       "      <th>start_station</th>\n",
       "      <th>start_station_code</th>\n",
       "      <th>end_station</th>\n",
       "      <th>end_station_code</th>\n",
       "      <th>Member Type</th>\n",
       "      <th>start_date_short</th>\n",
       "      <th>end_date_short</th>\n",
       "      <th>time_diff</th>\n",
       "      <th>...</th>\n",
       "      <th>workingday</th>\n",
       "      <th>weathersit</th>\n",
       "      <th>temp</th>\n",
       "      <th>hum</th>\n",
       "      <th>windspeed</th>\n",
       "      <th>start_lat</th>\n",
       "      <th>start_lon</th>\n",
       "      <th>end_lat</th>\n",
       "      <th>end_lon</th>\n",
       "      <th>miles</th>\n",
       "    </tr>\n",
       "  </thead>\n",
       "  <tbody>\n",
       "    <tr>\n",
       "      <th>0</th>\n",
       "      <td>2011-03-31 23:58:00</td>\n",
       "      <td>2011-04-01 00:00:00</td>\n",
       "      <td>14th &amp; Harvard St NW</td>\n",
       "      <td>31105.0</td>\n",
       "      <td>16th &amp; Harvard St NW</td>\n",
       "      <td>31103.0</td>\n",
       "      <td>Registered</td>\n",
       "      <td>2011-03-31</td>\n",
       "      <td>2011-04-01</td>\n",
       "      <td>1.833</td>\n",
       "      <td>...</td>\n",
       "      <td>1</td>\n",
       "      <td>3</td>\n",
       "      <td>0.268333</td>\n",
       "      <td>0.918333</td>\n",
       "      <td>0.217646</td>\n",
       "      <td>38.926800</td>\n",
       "      <td>-77.032200</td>\n",
       "      <td>38.926088</td>\n",
       "      <td>-77.036536</td>\n",
       "      <td>0.238743</td>\n",
       "    </tr>\n",
       "    <tr>\n",
       "      <th>1</th>\n",
       "      <td>2011-03-31 23:47:00</td>\n",
       "      <td>2011-03-31 23:50:00</td>\n",
       "      <td>Lincoln Park / 13th &amp; East Capitol St NE</td>\n",
       "      <td>31619.0</td>\n",
       "      <td>13th &amp; H St NE</td>\n",
       "      <td>31611.0</td>\n",
       "      <td>Registered</td>\n",
       "      <td>2011-03-31</td>\n",
       "      <td>2011-03-31</td>\n",
       "      <td>3.317</td>\n",
       "      <td>...</td>\n",
       "      <td>1</td>\n",
       "      <td>3</td>\n",
       "      <td>0.268333</td>\n",
       "      <td>0.918333</td>\n",
       "      <td>0.217646</td>\n",
       "      <td>38.890461</td>\n",
       "      <td>-76.988355</td>\n",
       "      <td>38.900022</td>\n",
       "      <td>-76.988422</td>\n",
       "      <td>0.659533</td>\n",
       "    </tr>\n",
       "    <tr>\n",
       "      <th>2</th>\n",
       "      <td>2011-03-31 23:45:00</td>\n",
       "      <td>2011-03-31 23:50:00</td>\n",
       "      <td>14th &amp; R St NW</td>\n",
       "      <td>31202.0</td>\n",
       "      <td>Massachusetts Ave &amp; Dupont Circle NW</td>\n",
       "      <td>31200.0</td>\n",
       "      <td>Registered</td>\n",
       "      <td>2011-03-31</td>\n",
       "      <td>2011-03-31</td>\n",
       "      <td>5.733</td>\n",
       "      <td>...</td>\n",
       "      <td>1</td>\n",
       "      <td>3</td>\n",
       "      <td>0.268333</td>\n",
       "      <td>0.918333</td>\n",
       "      <td>0.217646</td>\n",
       "      <td>38.912939</td>\n",
       "      <td>-77.032085</td>\n",
       "      <td>38.910100</td>\n",
       "      <td>-77.044400</td>\n",
       "      <td>0.691996</td>\n",
       "    </tr>\n",
       "    <tr>\n",
       "      <th>3</th>\n",
       "      <td>2011-03-31 23:34:00</td>\n",
       "      <td>2011-03-31 23:43:00</td>\n",
       "      <td>Park Rd &amp; Holmead Pl NW</td>\n",
       "      <td>31602.0</td>\n",
       "      <td>15th &amp; P St NW</td>\n",
       "      <td>31201.0</td>\n",
       "      <td>Registered</td>\n",
       "      <td>2011-03-31</td>\n",
       "      <td>2011-03-31</td>\n",
       "      <td>8.700</td>\n",
       "      <td>...</td>\n",
       "      <td>1</td>\n",
       "      <td>3</td>\n",
       "      <td>0.268333</td>\n",
       "      <td>0.918333</td>\n",
       "      <td>0.217646</td>\n",
       "      <td>38.930800</td>\n",
       "      <td>-77.031500</td>\n",
       "      <td>38.909850</td>\n",
       "      <td>-77.034438</td>\n",
       "      <td>1.453796</td>\n",
       "    </tr>\n",
       "    <tr>\n",
       "      <th>4</th>\n",
       "      <td>2011-03-31 23:31:00</td>\n",
       "      <td>2011-03-31 23:39:00</td>\n",
       "      <td>37th &amp; O St NW / Georgetown University</td>\n",
       "      <td>31236.0</td>\n",
       "      <td>21st &amp; M St NW</td>\n",
       "      <td>31212.0</td>\n",
       "      <td>Registered</td>\n",
       "      <td>2011-03-31</td>\n",
       "      <td>2011-03-31</td>\n",
       "      <td>7.850</td>\n",
       "      <td>...</td>\n",
       "      <td>1</td>\n",
       "      <td>3</td>\n",
       "      <td>0.268333</td>\n",
       "      <td>0.918333</td>\n",
       "      <td>0.217646</td>\n",
       "      <td>38.907740</td>\n",
       "      <td>-77.071652</td>\n",
       "      <td>38.905340</td>\n",
       "      <td>-77.046774</td>\n",
       "      <td>1.351053</td>\n",
       "    </tr>\n",
       "  </tbody>\n",
       "</table>\n",
       "<p>5 rows × 24 columns</p>\n",
       "</div>"
      ],
      "text/plain": [
       "           Start date            End date  \\\n",
       "0 2011-03-31 23:58:00 2011-04-01 00:00:00   \n",
       "1 2011-03-31 23:47:00 2011-03-31 23:50:00   \n",
       "2 2011-03-31 23:45:00 2011-03-31 23:50:00   \n",
       "3 2011-03-31 23:34:00 2011-03-31 23:43:00   \n",
       "4 2011-03-31 23:31:00 2011-03-31 23:39:00   \n",
       "\n",
       "                              start_station  start_station_code  \\\n",
       "0                      14th & Harvard St NW             31105.0   \n",
       "1  Lincoln Park / 13th & East Capitol St NE             31619.0   \n",
       "2                            14th & R St NW             31202.0   \n",
       "3                   Park Rd & Holmead Pl NW             31602.0   \n",
       "4    37th & O St NW / Georgetown University             31236.0   \n",
       "\n",
       "                            end_station  end_station_code Member Type  \\\n",
       "0                  16th & Harvard St NW           31103.0  Registered   \n",
       "1                        13th & H St NE           31611.0  Registered   \n",
       "2  Massachusetts Ave & Dupont Circle NW           31200.0  Registered   \n",
       "3                        15th & P St NW           31201.0  Registered   \n",
       "4                        21st & M St NW           31212.0  Registered   \n",
       "\n",
       "  start_date_short end_date_short  time_diff    ...     workingday  \\\n",
       "0       2011-03-31     2011-04-01      1.833    ...              1   \n",
       "1       2011-03-31     2011-03-31      3.317    ...              1   \n",
       "2       2011-03-31     2011-03-31      5.733    ...              1   \n",
       "3       2011-03-31     2011-03-31      8.700    ...              1   \n",
       "4       2011-03-31     2011-03-31      7.850    ...              1   \n",
       "\n",
       "   weathersit      temp       hum  windspeed  start_lat  start_lon    end_lat  \\\n",
       "0           3  0.268333  0.918333   0.217646  38.926800 -77.032200  38.926088   \n",
       "1           3  0.268333  0.918333   0.217646  38.890461 -76.988355  38.900022   \n",
       "2           3  0.268333  0.918333   0.217646  38.912939 -77.032085  38.910100   \n",
       "3           3  0.268333  0.918333   0.217646  38.930800 -77.031500  38.909850   \n",
       "4           3  0.268333  0.918333   0.217646  38.907740 -77.071652  38.905340   \n",
       "\n",
       "     end_lon     miles  \n",
       "0 -77.036536  0.238743  \n",
       "1 -76.988422  0.659533  \n",
       "2 -77.044400  0.691996  \n",
       "3 -77.034438  1.453796  \n",
       "4 -77.046774  1.351053  \n",
       "\n",
       "[5 rows x 24 columns]"
      ]
     },
     "execution_count": 5,
     "metadata": {},
     "output_type": "execute_result"
    }
   ],
   "source": [
    "bikeshare.head()"
   ]
  },
  {
   "cell_type": "code",
   "execution_count": 6,
   "metadata": {},
   "outputs": [
    {
     "name": "stdout",
     "output_type": "stream",
     "text": [
      "<class 'pandas.core.frame.DataFrame'>\n",
      "RangeIndex: 1219847 entries, 0 to 1219846\n",
      "Data columns (total 24 columns):\n",
      "Start date            1219847 non-null datetime64[ns]\n",
      "End date              1219847 non-null datetime64[ns]\n",
      "start_station         1219847 non-null object\n",
      "start_station_code    939364 non-null float64\n",
      "end_station           1219847 non-null object\n",
      "end_station_code      939364 non-null float64\n",
      "Member Type           1219847 non-null object\n",
      "start_date_short      1219847 non-null datetime64[ns]\n",
      "end_date_short        1219847 non-null datetime64[ns]\n",
      "time_diff             1219847 non-null float64\n",
      "season                1219847 non-null int64\n",
      "mnth                  1219847 non-null int64\n",
      "holiday               1219847 non-null int64\n",
      "weekday               1219847 non-null int64\n",
      "workingday            1219847 non-null int64\n",
      "weathersit            1219847 non-null int64\n",
      "temp                  1219847 non-null float64\n",
      "hum                   1219847 non-null float64\n",
      "windspeed             1219847 non-null float64\n",
      "start_lat             1219847 non-null float64\n",
      "start_lon             1219847 non-null float64\n",
      "end_lat               1219847 non-null float64\n",
      "end_lon               1219847 non-null float64\n",
      "miles                 1219847 non-null float64\n",
      "dtypes: datetime64[ns](4), float64(11), int64(6), object(3)\n",
      "memory usage: 223.4+ MB\n"
     ]
    }
   ],
   "source": [
    "bikeshare.info()"
   ]
  },
  {
   "cell_type": "code",
   "execution_count": 31,
   "metadata": {},
   "outputs": [],
   "source": [
    "bikeshare['time'] = [datetime.time(d.hour, d.minute, d.second) for d in bikeshare['Start date']]"
   ]
  },
  {
   "cell_type": "code",
   "execution_count": 32,
   "metadata": {},
   "outputs": [
    {
     "name": "stdout",
     "output_type": "stream",
     "text": [
      "<class 'pandas.core.frame.DataFrame'>\n",
      "RangeIndex: 1219847 entries, 0 to 1219846\n",
      "Data columns (total 25 columns):\n",
      "Start date            1219847 non-null datetime64[ns]\n",
      "End date              1219847 non-null datetime64[ns]\n",
      "start_station         1219847 non-null object\n",
      "start_station_code    939364 non-null float64\n",
      "end_station           1219847 non-null object\n",
      "end_station_code      939364 non-null float64\n",
      "Member Type           1219847 non-null object\n",
      "start_date_short      1219847 non-null datetime64[ns]\n",
      "end_date_short        1219847 non-null datetime64[ns]\n",
      "time_diff             1219847 non-null float64\n",
      "season                1219847 non-null int64\n",
      "mnth                  1219847 non-null int64\n",
      "holiday               1219847 non-null int64\n",
      "weekday               1219847 non-null int64\n",
      "workingday            1219847 non-null int64\n",
      "weathersit            1219847 non-null int64\n",
      "temp                  1219847 non-null float64\n",
      "hum                   1219847 non-null float64\n",
      "windspeed             1219847 non-null float64\n",
      "start_lat             1219847 non-null float64\n",
      "start_lon             1219847 non-null float64\n",
      "end_lat               1219847 non-null float64\n",
      "end_lon               1219847 non-null float64\n",
      "miles                 1219847 non-null float64\n",
      "time                  1219847 non-null object\n",
      "dtypes: datetime64[ns](4), float64(11), int64(6), object(4)\n",
      "memory usage: 232.7+ MB\n"
     ]
    }
   ],
   "source": [
    "bikeshare.info()"
   ]
  },
  {
   "cell_type": "code",
   "execution_count": 33,
   "metadata": {},
   "outputs": [
    {
     "data": {
      "text/html": [
       "<div>\n",
       "<style>\n",
       "    .dataframe thead tr:only-child th {\n",
       "        text-align: right;\n",
       "    }\n",
       "\n",
       "    .dataframe thead th {\n",
       "        text-align: left;\n",
       "    }\n",
       "\n",
       "    .dataframe tbody tr th {\n",
       "        vertical-align: top;\n",
       "    }\n",
       "</style>\n",
       "<table border=\"1\" class=\"dataframe\">\n",
       "  <thead>\n",
       "    <tr style=\"text-align: right;\">\n",
       "      <th></th>\n",
       "      <th>Start date</th>\n",
       "      <th>End date</th>\n",
       "      <th>start_station</th>\n",
       "      <th>start_station_code</th>\n",
       "      <th>end_station</th>\n",
       "      <th>end_station_code</th>\n",
       "      <th>Member Type</th>\n",
       "      <th>start_date_short</th>\n",
       "      <th>end_date_short</th>\n",
       "      <th>time_diff</th>\n",
       "      <th>...</th>\n",
       "      <th>weathersit</th>\n",
       "      <th>temp</th>\n",
       "      <th>hum</th>\n",
       "      <th>windspeed</th>\n",
       "      <th>start_lat</th>\n",
       "      <th>start_lon</th>\n",
       "      <th>end_lat</th>\n",
       "      <th>end_lon</th>\n",
       "      <th>miles</th>\n",
       "      <th>time</th>\n",
       "    </tr>\n",
       "  </thead>\n",
       "  <tbody>\n",
       "    <tr>\n",
       "      <th>0</th>\n",
       "      <td>2011-03-31 23:58:00</td>\n",
       "      <td>2011-04-01 00:00:00</td>\n",
       "      <td>14th &amp; Harvard St NW</td>\n",
       "      <td>31105.0</td>\n",
       "      <td>16th &amp; Harvard St NW</td>\n",
       "      <td>31103.0</td>\n",
       "      <td>Registered</td>\n",
       "      <td>2011-03-31</td>\n",
       "      <td>2011-04-01</td>\n",
       "      <td>1.833</td>\n",
       "      <td>...</td>\n",
       "      <td>3</td>\n",
       "      <td>0.268333</td>\n",
       "      <td>0.918333</td>\n",
       "      <td>0.217646</td>\n",
       "      <td>38.926800</td>\n",
       "      <td>-77.032200</td>\n",
       "      <td>38.926088</td>\n",
       "      <td>-77.036536</td>\n",
       "      <td>0.238743</td>\n",
       "      <td>23:58:00</td>\n",
       "    </tr>\n",
       "    <tr>\n",
       "      <th>1</th>\n",
       "      <td>2011-03-31 23:47:00</td>\n",
       "      <td>2011-03-31 23:50:00</td>\n",
       "      <td>Lincoln Park / 13th &amp; East Capitol St NE</td>\n",
       "      <td>31619.0</td>\n",
       "      <td>13th &amp; H St NE</td>\n",
       "      <td>31611.0</td>\n",
       "      <td>Registered</td>\n",
       "      <td>2011-03-31</td>\n",
       "      <td>2011-03-31</td>\n",
       "      <td>3.317</td>\n",
       "      <td>...</td>\n",
       "      <td>3</td>\n",
       "      <td>0.268333</td>\n",
       "      <td>0.918333</td>\n",
       "      <td>0.217646</td>\n",
       "      <td>38.890461</td>\n",
       "      <td>-76.988355</td>\n",
       "      <td>38.900022</td>\n",
       "      <td>-76.988422</td>\n",
       "      <td>0.659533</td>\n",
       "      <td>23:47:00</td>\n",
       "    </tr>\n",
       "    <tr>\n",
       "      <th>2</th>\n",
       "      <td>2011-03-31 23:45:00</td>\n",
       "      <td>2011-03-31 23:50:00</td>\n",
       "      <td>14th &amp; R St NW</td>\n",
       "      <td>31202.0</td>\n",
       "      <td>Massachusetts Ave &amp; Dupont Circle NW</td>\n",
       "      <td>31200.0</td>\n",
       "      <td>Registered</td>\n",
       "      <td>2011-03-31</td>\n",
       "      <td>2011-03-31</td>\n",
       "      <td>5.733</td>\n",
       "      <td>...</td>\n",
       "      <td>3</td>\n",
       "      <td>0.268333</td>\n",
       "      <td>0.918333</td>\n",
       "      <td>0.217646</td>\n",
       "      <td>38.912939</td>\n",
       "      <td>-77.032085</td>\n",
       "      <td>38.910100</td>\n",
       "      <td>-77.044400</td>\n",
       "      <td>0.691996</td>\n",
       "      <td>23:45:00</td>\n",
       "    </tr>\n",
       "    <tr>\n",
       "      <th>3</th>\n",
       "      <td>2011-03-31 23:34:00</td>\n",
       "      <td>2011-03-31 23:43:00</td>\n",
       "      <td>Park Rd &amp; Holmead Pl NW</td>\n",
       "      <td>31602.0</td>\n",
       "      <td>15th &amp; P St NW</td>\n",
       "      <td>31201.0</td>\n",
       "      <td>Registered</td>\n",
       "      <td>2011-03-31</td>\n",
       "      <td>2011-03-31</td>\n",
       "      <td>8.700</td>\n",
       "      <td>...</td>\n",
       "      <td>3</td>\n",
       "      <td>0.268333</td>\n",
       "      <td>0.918333</td>\n",
       "      <td>0.217646</td>\n",
       "      <td>38.930800</td>\n",
       "      <td>-77.031500</td>\n",
       "      <td>38.909850</td>\n",
       "      <td>-77.034438</td>\n",
       "      <td>1.453796</td>\n",
       "      <td>23:34:00</td>\n",
       "    </tr>\n",
       "    <tr>\n",
       "      <th>4</th>\n",
       "      <td>2011-03-31 23:31:00</td>\n",
       "      <td>2011-03-31 23:39:00</td>\n",
       "      <td>37th &amp; O St NW / Georgetown University</td>\n",
       "      <td>31236.0</td>\n",
       "      <td>21st &amp; M St NW</td>\n",
       "      <td>31212.0</td>\n",
       "      <td>Registered</td>\n",
       "      <td>2011-03-31</td>\n",
       "      <td>2011-03-31</td>\n",
       "      <td>7.850</td>\n",
       "      <td>...</td>\n",
       "      <td>3</td>\n",
       "      <td>0.268333</td>\n",
       "      <td>0.918333</td>\n",
       "      <td>0.217646</td>\n",
       "      <td>38.907740</td>\n",
       "      <td>-77.071652</td>\n",
       "      <td>38.905340</td>\n",
       "      <td>-77.046774</td>\n",
       "      <td>1.351053</td>\n",
       "      <td>23:31:00</td>\n",
       "    </tr>\n",
       "  </tbody>\n",
       "</table>\n",
       "<p>5 rows × 25 columns</p>\n",
       "</div>"
      ],
      "text/plain": [
       "           Start date            End date  \\\n",
       "0 2011-03-31 23:58:00 2011-04-01 00:00:00   \n",
       "1 2011-03-31 23:47:00 2011-03-31 23:50:00   \n",
       "2 2011-03-31 23:45:00 2011-03-31 23:50:00   \n",
       "3 2011-03-31 23:34:00 2011-03-31 23:43:00   \n",
       "4 2011-03-31 23:31:00 2011-03-31 23:39:00   \n",
       "\n",
       "                              start_station  start_station_code  \\\n",
       "0                      14th & Harvard St NW             31105.0   \n",
       "1  Lincoln Park / 13th & East Capitol St NE             31619.0   \n",
       "2                            14th & R St NW             31202.0   \n",
       "3                   Park Rd & Holmead Pl NW             31602.0   \n",
       "4    37th & O St NW / Georgetown University             31236.0   \n",
       "\n",
       "                            end_station  end_station_code Member Type  \\\n",
       "0                  16th & Harvard St NW           31103.0  Registered   \n",
       "1                        13th & H St NE           31611.0  Registered   \n",
       "2  Massachusetts Ave & Dupont Circle NW           31200.0  Registered   \n",
       "3                        15th & P St NW           31201.0  Registered   \n",
       "4                        21st & M St NW           31212.0  Registered   \n",
       "\n",
       "  start_date_short end_date_short  time_diff    ...     weathersit      temp  \\\n",
       "0       2011-03-31     2011-04-01      1.833    ...              3  0.268333   \n",
       "1       2011-03-31     2011-03-31      3.317    ...              3  0.268333   \n",
       "2       2011-03-31     2011-03-31      5.733    ...              3  0.268333   \n",
       "3       2011-03-31     2011-03-31      8.700    ...              3  0.268333   \n",
       "4       2011-03-31     2011-03-31      7.850    ...              3  0.268333   \n",
       "\n",
       "        hum  windspeed  start_lat  start_lon    end_lat    end_lon     miles  \\\n",
       "0  0.918333   0.217646  38.926800 -77.032200  38.926088 -77.036536  0.238743   \n",
       "1  0.918333   0.217646  38.890461 -76.988355  38.900022 -76.988422  0.659533   \n",
       "2  0.918333   0.217646  38.912939 -77.032085  38.910100 -77.044400  0.691996   \n",
       "3  0.918333   0.217646  38.930800 -77.031500  38.909850 -77.034438  1.453796   \n",
       "4  0.918333   0.217646  38.907740 -77.071652  38.905340 -77.046774  1.351053   \n",
       "\n",
       "       time  \n",
       "0  23:58:00  \n",
       "1  23:47:00  \n",
       "2  23:45:00  \n",
       "3  23:34:00  \n",
       "4  23:31:00  \n",
       "\n",
       "[5 rows x 25 columns]"
      ]
     },
     "execution_count": 33,
     "metadata": {},
     "output_type": "execute_result"
    }
   ],
   "source": [
    "bikeshare.head()"
   ]
  },
  {
   "cell_type": "code",
   "execution_count": 44,
   "metadata": {},
   "outputs": [],
   "source": [
    "rush1 = datetime.time(5,59,59)\n",
    "rush2 = datetime.time(9,30,0)\n",
    "rush3 = datetime.time(3,59,59)\n",
    "rush4 = datetime.time(6,30,0)"
   ]
  },
  {
   "cell_type": "code",
   "execution_count": null,
   "metadata": {},
   "outputs": [],
   "source": [
    "print(rush4)\n",
    "print(type(rush4))"
   ]
  },
  {
   "cell_type": "code",
   "execution_count": 83,
   "metadata": {},
   "outputs": [],
   "source": [
    "def rush(val):\n",
    "    value = 0\n",
    "    if (val['workingday'] == 1):\n",
    "        if(((val['time'] > rush1) & (val['time'] < rush2)) | ((val['time'] > rush3) & (val['time'] < rush4))):\n",
    "            value = 1\n",
    "        else:\n",
    "            value = 0\n",
    "    else:\n",
    "        value = 0\n",
    "    return value"
   ]
  },
  {
   "cell_type": "code",
   "execution_count": 84,
   "metadata": {},
   "outputs": [],
   "source": [
    "bikeshare['rush_hour'] = bikeshare.apply(rush, axis=1)"
   ]
  },
  {
   "cell_type": "code",
   "execution_count": null,
   "metadata": {
    "collapsed": true
   },
   "outputs": [],
   "source": [
    "sum(bikeshare['rush_hour'])"
   ]
  },
  {
   "cell_type": "code",
   "execution_count": 53,
   "metadata": {},
   "outputs": [
    {
     "data": {
      "text/plain": [
       "20093"
      ]
     },
     "execution_count": 53,
     "metadata": {},
     "output_type": "execute_result"
    }
   ],
   "source": [
    "sum(bikeshare[bikeshare['workingday'] == 0]['rush_hour'])"
   ]
  },
  {
   "cell_type": "code",
   "execution_count": 51,
   "metadata": {},
   "outputs": [
    {
     "data": {
      "text/plain": [
       "215167"
      ]
     },
     "execution_count": 51,
     "metadata": {},
     "output_type": "execute_result"
    }
   ],
   "source": [
    "sum(bikeshare['rush_hour'])"
   ]
  },
  {
   "cell_type": "code",
   "execution_count": 71,
   "metadata": {},
   "outputs": [
    {
     "data": {
      "text/plain": [
       "datetime.time"
      ]
     },
     "execution_count": 71,
     "metadata": {},
     "output_type": "execute_result"
    }
   ],
   "source": [
    "type(bikeshare.iloc[1, 24])"
   ]
  },
  {
   "cell_type": "code",
   "execution_count": 85,
   "metadata": {},
   "outputs": [
    {
     "data": {
      "text/plain": [
       "195074"
      ]
     },
     "execution_count": 85,
     "metadata": {},
     "output_type": "execute_result"
    }
   ],
   "source": [
    "sum(bikeshare['rush_hour'])"
   ]
  },
  {
   "cell_type": "code",
   "execution_count": 86,
   "metadata": {},
   "outputs": [
    {
     "data": {
      "text/plain": [
       "195074"
      ]
     },
     "execution_count": 86,
     "metadata": {},
     "output_type": "execute_result"
    }
   ],
   "source": [
    "bikeshare = bikeshare.drop('time', 1)"
   ]
  },
  {
   "cell_type": "code",
   "execution_count": 87,
   "metadata": {
    "collapsed": true
   },
   "outputs": [],
   "source": [
    "bikeshare.to_csv('rush_hour.csv')"
   ]
  },
  {
   "cell_type": "code",
   "execution_count": null,
   "metadata": {
    "collapsed": true
   },
   "outputs": [],
   "source": []
  }
 ],
 "metadata": {
  "kernelspec": {
   "display_name": "Python 3",
   "language": "python",
   "name": "python3"
  },
  "language_info": {
   "codemirror_mode": {
    "name": "ipython",
    "version": 3
   },
   "file_extension": ".py",
   "mimetype": "text/x-python",
   "name": "python",
   "nbconvert_exporter": "python",
   "pygments_lexer": "ipython3",
   "version": "3.6.1"
  }
 },
 "nbformat": 4,
 "nbformat_minor": 2
}
