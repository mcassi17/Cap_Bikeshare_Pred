{
 "cells": [
  {
   "cell_type": "code",
   "execution_count": 1,
   "metadata": {
    "collapsed": true
   },
   "outputs": [],
   "source": [
    "import pandas as pd\n",
    "import numpy as np\n",
    "import matplotlib.pyplot as plt\n",
    "from datetime import datetime \n",
    "import seaborn as sns\n",
    "%matplotlib inline"
   ]
  },
  {
   "cell_type": "code",
   "execution_count": 2,
   "metadata": {
    "collapsed": true
   },
   "outputs": [],
   "source": [
    "from sklearn.model_selection import train_test_split\n",
    "from sklearn.metrics import mean_squared_error\n",
    "from sklearn.metrics import explained_variance_score\n",
    "from sklearn.metrics import r2_score\n",
    "from sklearn.model_selection import cross_val_score\n",
    "from sklearn.utils import shuffle\n",
    "from sklearn.preprocessing import StandardScaler\n",
    "from sklearn.linear_model import Ridge\n",
    "from sklearn.base import TransformerMixin\n",
    "from sklearn.model_selection import GridSearchCV"
   ]
  },
  {
   "cell_type": "code",
   "execution_count": 3,
   "metadata": {
    "collapsed": true
   },
   "outputs": [],
   "source": [
    "def set_data(file):\n",
    "    bikeshare_machine = pd.read_csv(file, \n",
    "                        parse_dates=['Start date', 'End date'])\n",
    "    bikeshare_machine.drop('Unnamed: 0', 1, inplace=True)\n",
    "    included_cols = ['start_station','end_station','Member Type','time_diff','season','mnth','holiday',\n",
    "                     'weekday','workingday','weathersit','temp','hum','windspeed','miles',\n",
    "                     'rush_hour','metro_dist','landmark_dist_start','landmark_dist_end']\n",
    "    bikeshare_machine = bikeshare_machine[included_cols]\n",
    "    bikeshare_machine['season'] = bikeshare_machine['season'].astype('category')\n",
    "    bikeshare_machine['mnth'] = bikeshare_machine['mnth'].astype('category')\n",
    "    bikeshare_machine['holiday'] = bikeshare_machine['holiday'].astype('category')\n",
    "    bikeshare_machine['weekday'] = bikeshare_machine['weekday'].astype('category')\n",
    "    bikeshare_machine['workingday'] = bikeshare_machine['workingday'].astype('category')\n",
    "    bikeshare_machine['weathersit'] = bikeshare_machine['weathersit'].astype('category')\n",
    "    bikeshare_machine['Member Type'] = bikeshare_machine['Member Type'].astype('category')\n",
    "    bikeshare_machine['start_station'] = bikeshare_machine['start_station'].astype('category')\n",
    "    bikeshare_machine['end_station'] = bikeshare_machine['end_station'].astype('category')\n",
    "    bikeshare_machine['rush_hour'] = bikeshare_machine['rush_hour'].astype('category')\n",
    "    col_names = ['start_station', 'end_station','member_type','time_diff','season','month','holiday',\n",
    "             'weekday','work_day','weather_cat','temperature','humidity','windspeed','miles','rush_hour',\n",
    "                'metro_dist','landmark_dist_start','landmark_dist_end']\n",
    "    bikeshare_machine.columns = col_names\n",
    "    tmin = -8\n",
    "    tmax = 39\n",
    "    hum_max = 100\n",
    "    wind_max = 67\n",
    "    bikeshare_machine['temp'] = bikeshare_machine['temperature'] * (tmax - tmin) + tmin\n",
    "    bikeshare_machine['hum'] = bikeshare_machine['humidity'] * 100\n",
    "    bikeshare_machine['wind'] = bikeshare_machine['windspeed'] * 67\n",
    "    bikeshare_machine = pd.get_dummies(bikeshare_machine, \n",
    "                                 columns=['rush_hour','member_type','holiday','work_day'], drop_first=True)\n",
    "    bikeshare_machine = pd.get_dummies(bikeshare_machine, \n",
    "                                 columns=['start_station','end_station','season','month','weekday','weather_cat'])\n",
    "    bikeshare_machine = shuffle(bikeshare_machine)\n",
    "    return bikeshare_machine"
   ]
  },
  {
   "cell_type": "code",
   "execution_count": 4,
   "metadata": {
    "collapsed": true
   },
   "outputs": [],
   "source": [
    "file = '/Users/matthewcassi/Documents/Bike-Sharing-Dataset/Bikeshare_Time_Prediction/Casual_RushMetro/landmark_casual.csv'\n",
    "bikeshare_machine = set_data(file)"
   ]
  },
  {
   "cell_type": "code",
   "execution_count": 5,
   "metadata": {},
   "outputs": [
    {
     "data": {
      "text/html": [
       "<div>\n",
       "<style>\n",
       "    .dataframe thead tr:only-child th {\n",
       "        text-align: right;\n",
       "    }\n",
       "\n",
       "    .dataframe thead th {\n",
       "        text-align: left;\n",
       "    }\n",
       "\n",
       "    .dataframe tbody tr th {\n",
       "        vertical-align: top;\n",
       "    }\n",
       "</style>\n",
       "<table border=\"1\" class=\"dataframe\">\n",
       "  <thead>\n",
       "    <tr style=\"text-align: right;\">\n",
       "      <th></th>\n",
       "      <th>time_diff</th>\n",
       "      <th>miles</th>\n",
       "      <th>metro_dist</th>\n",
       "      <th>landmark_dist_start</th>\n",
       "      <th>landmark_dist_end</th>\n",
       "      <th>temp</th>\n",
       "      <th>hum</th>\n",
       "      <th>wind</th>\n",
       "      <th>rush_hour_1</th>\n",
       "      <th>holiday_1</th>\n",
       "      <th>...</th>\n",
       "      <th>weekday_0</th>\n",
       "      <th>weekday_1</th>\n",
       "      <th>weekday_2</th>\n",
       "      <th>weekday_3</th>\n",
       "      <th>weekday_4</th>\n",
       "      <th>weekday_5</th>\n",
       "      <th>weekday_6</th>\n",
       "      <th>weather_cat_1</th>\n",
       "      <th>weather_cat_2</th>\n",
       "      <th>weather_cat_3</th>\n",
       "    </tr>\n",
       "  </thead>\n",
       "  <tbody>\n",
       "    <tr>\n",
       "      <th>126372</th>\n",
       "      <td>19.567</td>\n",
       "      <td>1.378092</td>\n",
       "      <td>0.181761</td>\n",
       "      <td>0.595943</td>\n",
       "      <td>0.327701</td>\n",
       "      <td>26.466651</td>\n",
       "      <td>60.9167</td>\n",
       "      <td>11.250104</td>\n",
       "      <td>0</td>\n",
       "      <td>0</td>\n",
       "      <td>...</td>\n",
       "      <td>0</td>\n",
       "      <td>0</td>\n",
       "      <td>0</td>\n",
       "      <td>0</td>\n",
       "      <td>0</td>\n",
       "      <td>0</td>\n",
       "      <td>1</td>\n",
       "      <td>1</td>\n",
       "      <td>0</td>\n",
       "      <td>0</td>\n",
       "    </tr>\n",
       "    <tr>\n",
       "      <th>23017</th>\n",
       "      <td>14.917</td>\n",
       "      <td>0.869846</td>\n",
       "      <td>0.669037</td>\n",
       "      <td>0.257095</td>\n",
       "      <td>0.595943</td>\n",
       "      <td>21.845000</td>\n",
       "      <td>74.6250</td>\n",
       "      <td>10.416825</td>\n",
       "      <td>0</td>\n",
       "      <td>0</td>\n",
       "      <td>...</td>\n",
       "      <td>0</td>\n",
       "      <td>1</td>\n",
       "      <td>0</td>\n",
       "      <td>0</td>\n",
       "      <td>0</td>\n",
       "      <td>0</td>\n",
       "      <td>0</td>\n",
       "      <td>0</td>\n",
       "      <td>1</td>\n",
       "      <td>0</td>\n",
       "    </tr>\n",
       "    <tr>\n",
       "      <th>175030</th>\n",
       "      <td>12.800</td>\n",
       "      <td>0.817557</td>\n",
       "      <td>0.129048</td>\n",
       "      <td>0.086349</td>\n",
       "      <td>0.688921</td>\n",
       "      <td>5.277500</td>\n",
       "      <td>31.1250</td>\n",
       "      <td>16.083350</td>\n",
       "      <td>0</td>\n",
       "      <td>0</td>\n",
       "      <td>...</td>\n",
       "      <td>1</td>\n",
       "      <td>0</td>\n",
       "      <td>0</td>\n",
       "      <td>0</td>\n",
       "      <td>0</td>\n",
       "      <td>0</td>\n",
       "      <td>0</td>\n",
       "      <td>1</td>\n",
       "      <td>0</td>\n",
       "      <td>0</td>\n",
       "    </tr>\n",
       "    <tr>\n",
       "      <th>168752</th>\n",
       "      <td>3.683</td>\n",
       "      <td>0.392053</td>\n",
       "      <td>0.252381</td>\n",
       "      <td>1.193484</td>\n",
       "      <td>0.916964</td>\n",
       "      <td>11.270000</td>\n",
       "      <td>75.3750</td>\n",
       "      <td>19.583832</td>\n",
       "      <td>0</td>\n",
       "      <td>0</td>\n",
       "      <td>...</td>\n",
       "      <td>0</td>\n",
       "      <td>0</td>\n",
       "      <td>0</td>\n",
       "      <td>0</td>\n",
       "      <td>0</td>\n",
       "      <td>0</td>\n",
       "      <td>1</td>\n",
       "      <td>0</td>\n",
       "      <td>1</td>\n",
       "      <td>0</td>\n",
       "    </tr>\n",
       "    <tr>\n",
       "      <th>164671</th>\n",
       "      <td>12.883</td>\n",
       "      <td>0.000000</td>\n",
       "      <td>0.096430</td>\n",
       "      <td>0.218430</td>\n",
       "      <td>0.218430</td>\n",
       "      <td>16.518349</td>\n",
       "      <td>70.1250</td>\n",
       "      <td>3.042081</td>\n",
       "      <td>0</td>\n",
       "      <td>0</td>\n",
       "      <td>...</td>\n",
       "      <td>0</td>\n",
       "      <td>0</td>\n",
       "      <td>0</td>\n",
       "      <td>0</td>\n",
       "      <td>0</td>\n",
       "      <td>0</td>\n",
       "      <td>1</td>\n",
       "      <td>1</td>\n",
       "      <td>0</td>\n",
       "      <td>0</td>\n",
       "    </tr>\n",
       "  </tbody>\n",
       "</table>\n",
       "<p>5 rows × 295 columns</p>\n",
       "</div>"
      ],
      "text/plain": [
       "        time_diff     miles  metro_dist  landmark_dist_start  \\\n",
       "126372     19.567  1.378092    0.181761             0.595943   \n",
       "23017      14.917  0.869846    0.669037             0.257095   \n",
       "175030     12.800  0.817557    0.129048             0.086349   \n",
       "168752      3.683  0.392053    0.252381             1.193484   \n",
       "164671     12.883  0.000000    0.096430             0.218430   \n",
       "\n",
       "        landmark_dist_end       temp      hum       wind  rush_hour_1  \\\n",
       "126372           0.327701  26.466651  60.9167  11.250104            0   \n",
       "23017            0.595943  21.845000  74.6250  10.416825            0   \n",
       "175030           0.688921   5.277500  31.1250  16.083350            0   \n",
       "168752           0.916964  11.270000  75.3750  19.583832            0   \n",
       "164671           0.218430  16.518349  70.1250   3.042081            0   \n",
       "\n",
       "        holiday_1      ...        weekday_0  weekday_1  weekday_2  weekday_3  \\\n",
       "126372          0      ...                0          0          0          0   \n",
       "23017           0      ...                0          1          0          0   \n",
       "175030          0      ...                1          0          0          0   \n",
       "168752          0      ...                0          0          0          0   \n",
       "164671          0      ...                0          0          0          0   \n",
       "\n",
       "        weekday_4  weekday_5  weekday_6  weather_cat_1  weather_cat_2  \\\n",
       "126372          0          0          1              1              0   \n",
       "23017           0          0          0              0              1   \n",
       "175030          0          0          0              1              0   \n",
       "168752          0          0          1              0              1   \n",
       "164671          0          0          1              1              0   \n",
       "\n",
       "        weather_cat_3  \n",
       "126372              0  \n",
       "23017               0  \n",
       "175030              0  \n",
       "168752              0  \n",
       "164671              0  \n",
       "\n",
       "[5 rows x 295 columns]"
      ]
     },
     "execution_count": 5,
     "metadata": {},
     "output_type": "execute_result"
    }
   ],
   "source": [
    "bikeshare_machine = bikeshare_machine.drop(['temperature', 'humidity', 'windspeed'], 1)\n",
    "bikeshare_machine = bikeshare_machine.rename(columns = {'member_type_Registered':'member_type'})\n",
    "bikeshare_machine.head()"
   ]
  },
  {
   "cell_type": "code",
   "execution_count": 6,
   "metadata": {
    "collapsed": true
   },
   "outputs": [],
   "source": [
    "class CustomScaler(TransformerMixin):\n",
    "    def __init__(self):\n",
    "        self.scaler = StandardScaler()\n",
    "    \n",
    "    def fit(self, X, y):\n",
    "        self.scaler.fit(X[:, 0:7], y)\n",
    "        return self\n",
    "    \n",
    "    def transform(self, X):\n",
    "        X_head = self.scaler.transform(X[:, 0:7])\n",
    "        return np.concatenate((X_head, X[:, 7:]), axis=1)"
   ]
  },
  {
   "cell_type": "markdown",
   "metadata": {},
   "source": [
    "### Model 1"
   ]
  },
  {
   "cell_type": "code",
   "execution_count": 7,
   "metadata": {
    "collapsed": true
   },
   "outputs": [],
   "source": [
    "# Leave workday, drop weekdays, leave season, drop month\n",
    "# Workday overlaps with workday/not workday and months overlap with seasons\n",
    "remove_cols = ['weekday_0', 'weekday_1','weekday_2','weekday_3','weekday_4','weekday_5','weekday_6', \n",
    "              'month_1','month_2','month_3','month_4','month_5','month_6','month_7','month_8','month_9',\n",
    "              'month_10','month_11','month_12','time_diff']\n",
    "X1 = np.matrix(bikeshare_machine.drop(remove_cols, 1))\n",
    "y1 = bikeshare_machine['time_diff']"
   ]
  },
  {
   "cell_type": "code",
   "execution_count": 8,
   "metadata": {},
   "outputs": [
    {
     "data": {
      "text/plain": [
       "((152719, 275), (50907, 275), (152719,), (50907,))"
      ]
     },
     "execution_count": 8,
     "metadata": {},
     "output_type": "execute_result"
    }
   ],
   "source": [
    "# Split the data into training and testing sets and check the shape\n",
    "X1_train, X1_test, y1_train, y1_test = train_test_split(X1, y1, test_size = 0.25, random_state=17)\n",
    "X1_train.shape, X1_test.shape, y1_train.shape, y1_test.shape"
   ]
  },
  {
   "cell_type": "code",
   "execution_count": 9,
   "metadata": {
    "collapsed": true
   },
   "outputs": [],
   "source": [
    "scale = CustomScaler()\n",
    "scale.fit(X1_train, y1_train)\n",
    "X1_train_scale = scale.transform(X1_train)\n",
    "X1_test_scale = scale.transform(X1_test)"
   ]
  },
  {
   "cell_type": "code",
   "execution_count": 10,
   "metadata": {},
   "outputs": [
    {
     "data": {
      "text/plain": [
       "GridSearchCV(cv=5, error_score='raise',\n",
       "       estimator=Ridge(alpha=1.0, copy_X=True, fit_intercept=True, max_iter=None,\n",
       "   normalize=False, random_state=None, solver='auto', tol=0.001),\n",
       "       fit_params={}, iid=True, n_jobs=1,\n",
       "       param_grid={'alpha': array([ 0.0001])}, pre_dispatch='2*n_jobs',\n",
       "       refit=True, return_train_score=True, scoring=None, verbose=0)"
      ]
     },
     "execution_count": 10,
     "metadata": {},
     "output_type": "execute_result"
    }
   ],
   "source": [
    "alpha = np.arange(0.0001, 20, 25)\n",
    "param_grid = {'alpha': alpha}\n",
    "ridge1 = Ridge(fit_intercept=True)\n",
    "ridge1_gs = GridSearchCV(ridge1, param_grid, cv=5)\n",
    "ridge1_gs.fit(X1_train_scale, y1_train)"
   ]
  },
  {
   "cell_type": "code",
   "execution_count": 11,
   "metadata": {
    "collapsed": true
   },
   "outputs": [],
   "source": [
    "pred4 = ridge1_gs.predict(X1_test_scale)\n",
    "ridge1_r = ridge1_gs.score(X1_test_scale, y1_test)\n",
    "ridge1_mse = mean_squared_error(y1_test, pred4)\n",
    "ridge1_rmse = np.sqrt(ridge1_mse)\n",
    "adjustedr4 = 1 - (1-ridge1_r)*(len(y1_test)-1)/(len(y1_test)-X1_test_scale.shape[1]-1)"
   ]
  },
  {
   "cell_type": "code",
   "execution_count": 12,
   "metadata": {},
   "outputs": [
    {
     "data": {
      "text/plain": [
       "(0.1574992509496338,\n",
       " 277.8563949935139,\n",
       " 16.669025016284362,\n",
       " 0.15292324601216767)"
      ]
     },
     "execution_count": 12,
     "metadata": {},
     "output_type": "execute_result"
    }
   ],
   "source": [
    "ridge1_r, ridge1_mse, ridge1_rmse, adjustedr4"
   ]
  },
  {
   "cell_type": "code",
   "execution_count": null,
   "metadata": {
    "collapsed": true
   },
   "outputs": [],
   "source": []
  }
 ],
 "metadata": {
  "kernelspec": {
   "display_name": "Python 3",
   "language": "python",
   "name": "python3"
  },
  "language_info": {
   "codemirror_mode": {
    "name": "ipython",
    "version": 3
   },
   "file_extension": ".py",
   "mimetype": "text/x-python",
   "name": "python",
   "nbconvert_exporter": "python",
   "pygments_lexer": "ipython3",
   "version": "3.6.1"
  }
 },
 "nbformat": 4,
 "nbformat_minor": 2
}
