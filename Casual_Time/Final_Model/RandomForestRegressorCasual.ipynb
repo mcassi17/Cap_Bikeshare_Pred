{
 "cells": [
  {
   "cell_type": "code",
   "execution_count": 1,
   "metadata": {
    "collapsed": true
   },
   "outputs": [],
   "source": [
    "import pandas as pd\n",
    "import numpy as np\n",
    "import matplotlib.pyplot as plt\n",
    "from datetime import datetime \n",
    "import seaborn as sns\n",
    "%matplotlib inline"
   ]
  },
  {
   "cell_type": "code",
   "execution_count": 9,
   "metadata": {
    "collapsed": true
   },
   "outputs": [],
   "source": [
    "from sklearn.model_selection import train_test_split\n",
    "from sklearn.metrics import mean_squared_error\n",
    "from sklearn.metrics import explained_variance_score\n",
    "from sklearn.model_selection import RandomizedSearchCV\n",
    "from sklearn.metrics import r2_score\n",
    "from sklearn.model_selection import cross_val_score\n",
    "from sklearn.utils import shuffle\n",
    "from sklearn.ensemble import RandomForestRegressor"
   ]
  },
  {
   "cell_type": "code",
   "execution_count": 3,
   "metadata": {
    "collapsed": true
   },
   "outputs": [],
   "source": [
    "def set_data(file):\n",
    "    bikeshare_machine = pd.read_csv(file, \n",
    "                        parse_dates=['Start date', 'End date'])\n",
    "    bikeshare_machine.drop('Unnamed: 0', 1, inplace=True)\n",
    "    included_cols = ['start_station','end_station','Member Type','time_diff','season','mnth','holiday',\n",
    "                     'weekday','workingday','weathersit','temp','hum','windspeed','miles',\n",
    "                     'rush_hour','metro_dist','landmark_dist_start','landmark_dist_end']\n",
    "    bikeshare_machine = bikeshare_machine[included_cols]\n",
    "    bikeshare_machine['season'] = bikeshare_machine['season'].astype('category')\n",
    "    bikeshare_machine['mnth'] = bikeshare_machine['mnth'].astype('category')\n",
    "    bikeshare_machine['holiday'] = bikeshare_machine['holiday'].astype('category')\n",
    "    bikeshare_machine['weekday'] = bikeshare_machine['weekday'].astype('category')\n",
    "    bikeshare_machine['workingday'] = bikeshare_machine['workingday'].astype('category')\n",
    "    bikeshare_machine['weathersit'] = bikeshare_machine['weathersit'].astype('category')\n",
    "    bikeshare_machine['Member Type'] = bikeshare_machine['Member Type'].astype('category')\n",
    "    bikeshare_machine['start_station'] = bikeshare_machine['start_station'].astype('category')\n",
    "    bikeshare_machine['end_station'] = bikeshare_machine['end_station'].astype('category')\n",
    "    bikeshare_machine['rush_hour'] = bikeshare_machine['rush_hour'].astype('category')\n",
    "    col_names = ['start_station', 'end_station','member_type','time_diff','season','month','holiday',\n",
    "             'weekday','work_day','weather_cat','temperature','humidity','windspeed','miles','rush_hour',\n",
    "                'metro_dist','landmark_dist_start','landmark_dist_end']\n",
    "    bikeshare_machine.columns = col_names\n",
    "    tmin = -8\n",
    "    tmax = 39\n",
    "    hum_max = 100\n",
    "    wind_max = 67\n",
    "    bikeshare_machine['temp'] = bikeshare_machine['temperature'] * (tmax - tmin) + tmin\n",
    "    bikeshare_machine['hum'] = bikeshare_machine['humidity'] * 100\n",
    "    bikeshare_machine['wind'] = bikeshare_machine['windspeed'] * 67\n",
    "    bikeshare_machine = pd.get_dummies(bikeshare_machine, \n",
    "                                 columns=['rush_hour','member_type','holiday','work_day'], drop_first=True)\n",
    "    bikeshare_machine = pd.get_dummies(bikeshare_machine, \n",
    "                                 columns=['start_station','end_station','season','month','weekday','weather_cat'])\n",
    "    bikeshare_machine = shuffle(bikeshare_machine)\n",
    "    return bikeshare_machine"
   ]
  },
  {
   "cell_type": "code",
   "execution_count": 4,
   "metadata": {
    "collapsed": true
   },
   "outputs": [],
   "source": [
    "file = 'landmark_casual.csv'\n",
    "bikeshare_machine = set_data(file)"
   ]
  },
  {
   "cell_type": "code",
   "execution_count": 5,
   "metadata": {},
   "outputs": [
    {
     "data": {
      "text/html": [
       "<div>\n",
       "<style>\n",
       "    .dataframe thead tr:only-child th {\n",
       "        text-align: right;\n",
       "    }\n",
       "\n",
       "    .dataframe thead th {\n",
       "        text-align: left;\n",
       "    }\n",
       "\n",
       "    .dataframe tbody tr th {\n",
       "        vertical-align: top;\n",
       "    }\n",
       "</style>\n",
       "<table border=\"1\" class=\"dataframe\">\n",
       "  <thead>\n",
       "    <tr style=\"text-align: right;\">\n",
       "      <th></th>\n",
       "      <th>time_diff</th>\n",
       "      <th>miles</th>\n",
       "      <th>metro_dist</th>\n",
       "      <th>landmark_dist_start</th>\n",
       "      <th>landmark_dist_end</th>\n",
       "      <th>temp</th>\n",
       "      <th>hum</th>\n",
       "      <th>wind</th>\n",
       "      <th>rush_hour_1</th>\n",
       "      <th>holiday_1</th>\n",
       "      <th>...</th>\n",
       "      <th>weekday_0</th>\n",
       "      <th>weekday_1</th>\n",
       "      <th>weekday_2</th>\n",
       "      <th>weekday_3</th>\n",
       "      <th>weekday_4</th>\n",
       "      <th>weekday_5</th>\n",
       "      <th>weekday_6</th>\n",
       "      <th>weather_cat_1</th>\n",
       "      <th>weather_cat_2</th>\n",
       "      <th>weather_cat_3</th>\n",
       "    </tr>\n",
       "  </thead>\n",
       "  <tbody>\n",
       "    <tr>\n",
       "      <th>2650</th>\n",
       "      <td>13.150</td>\n",
       "      <td>1.399672</td>\n",
       "      <td>0.427048</td>\n",
       "      <td>0.466544</td>\n",
       "      <td>0.285821</td>\n",
       "      <td>12.230445</td>\n",
       "      <td>73.7391</td>\n",
       "      <td>19.348461</td>\n",
       "      <td>0</td>\n",
       "      <td>0</td>\n",
       "      <td>...</td>\n",
       "      <td>0</td>\n",
       "      <td>1</td>\n",
       "      <td>0</td>\n",
       "      <td>0</td>\n",
       "      <td>0</td>\n",
       "      <td>0</td>\n",
       "      <td>0</td>\n",
       "      <td>0</td>\n",
       "      <td>1</td>\n",
       "      <td>0</td>\n",
       "    </tr>\n",
       "    <tr>\n",
       "      <th>77236</th>\n",
       "      <td>10.300</td>\n",
       "      <td>0.930921</td>\n",
       "      <td>0.250981</td>\n",
       "      <td>0.661659</td>\n",
       "      <td>0.401587</td>\n",
       "      <td>21.531651</td>\n",
       "      <td>90.2083</td>\n",
       "      <td>8.584375</td>\n",
       "      <td>0</td>\n",
       "      <td>0</td>\n",
       "      <td>...</td>\n",
       "      <td>0</td>\n",
       "      <td>0</td>\n",
       "      <td>0</td>\n",
       "      <td>0</td>\n",
       "      <td>1</td>\n",
       "      <td>0</td>\n",
       "      <td>0</td>\n",
       "      <td>0</td>\n",
       "      <td>1</td>\n",
       "      <td>0</td>\n",
       "    </tr>\n",
       "    <tr>\n",
       "      <th>1062</th>\n",
       "      <td>30.033</td>\n",
       "      <td>0.771894</td>\n",
       "      <td>0.021984</td>\n",
       "      <td>0.327701</td>\n",
       "      <td>0.255462</td>\n",
       "      <td>4.494151</td>\n",
       "      <td>39.4167</td>\n",
       "      <td>14.041257</td>\n",
       "      <td>0</td>\n",
       "      <td>0</td>\n",
       "      <td>...</td>\n",
       "      <td>0</td>\n",
       "      <td>0</td>\n",
       "      <td>0</td>\n",
       "      <td>0</td>\n",
       "      <td>0</td>\n",
       "      <td>0</td>\n",
       "      <td>1</td>\n",
       "      <td>1</td>\n",
       "      <td>0</td>\n",
       "      <td>0</td>\n",
       "    </tr>\n",
       "    <tr>\n",
       "      <th>20913</th>\n",
       "      <td>21.300</td>\n",
       "      <td>2.869497</td>\n",
       "      <td>0.181761</td>\n",
       "      <td>0.595943</td>\n",
       "      <td>0.688921</td>\n",
       "      <td>26.035849</td>\n",
       "      <td>57.3333</td>\n",
       "      <td>14.875675</td>\n",
       "      <td>0</td>\n",
       "      <td>0</td>\n",
       "      <td>...</td>\n",
       "      <td>0</td>\n",
       "      <td>0</td>\n",
       "      <td>0</td>\n",
       "      <td>0</td>\n",
       "      <td>0</td>\n",
       "      <td>1</td>\n",
       "      <td>0</td>\n",
       "      <td>1</td>\n",
       "      <td>0</td>\n",
       "      <td>0</td>\n",
       "    </tr>\n",
       "    <tr>\n",
       "      <th>79242</th>\n",
       "      <td>63.433</td>\n",
       "      <td>1.596905</td>\n",
       "      <td>0.138620</td>\n",
       "      <td>1.024951</td>\n",
       "      <td>0.358069</td>\n",
       "      <td>15.852500</td>\n",
       "      <td>69.5000</td>\n",
       "      <td>11.958361</td>\n",
       "      <td>0</td>\n",
       "      <td>0</td>\n",
       "      <td>...</td>\n",
       "      <td>1</td>\n",
       "      <td>0</td>\n",
       "      <td>0</td>\n",
       "      <td>0</td>\n",
       "      <td>0</td>\n",
       "      <td>0</td>\n",
       "      <td>0</td>\n",
       "      <td>1</td>\n",
       "      <td>0</td>\n",
       "      <td>0</td>\n",
       "    </tr>\n",
       "  </tbody>\n",
       "</table>\n",
       "<p>5 rows × 295 columns</p>\n",
       "</div>"
      ],
      "text/plain": [
       "       time_diff     miles  metro_dist  landmark_dist_start  \\\n",
       "2650      13.150  1.399672    0.427048             0.466544   \n",
       "77236     10.300  0.930921    0.250981             0.661659   \n",
       "1062      30.033  0.771894    0.021984             0.327701   \n",
       "20913     21.300  2.869497    0.181761             0.595943   \n",
       "79242     63.433  1.596905    0.138620             1.024951   \n",
       "\n",
       "       landmark_dist_end       temp      hum       wind  rush_hour_1  \\\n",
       "2650            0.285821  12.230445  73.7391  19.348461            0   \n",
       "77236           0.401587  21.531651  90.2083   8.584375            0   \n",
       "1062            0.255462   4.494151  39.4167  14.041257            0   \n",
       "20913           0.688921  26.035849  57.3333  14.875675            0   \n",
       "79242           0.358069  15.852500  69.5000  11.958361            0   \n",
       "\n",
       "       holiday_1      ...        weekday_0  weekday_1  weekday_2  weekday_3  \\\n",
       "2650           0      ...                0          1          0          0   \n",
       "77236          0      ...                0          0          0          0   \n",
       "1062           0      ...                0          0          0          0   \n",
       "20913          0      ...                0          0          0          0   \n",
       "79242          0      ...                1          0          0          0   \n",
       "\n",
       "       weekday_4  weekday_5  weekday_6  weather_cat_1  weather_cat_2  \\\n",
       "2650           0          0          0              0              1   \n",
       "77236          1          0          0              0              1   \n",
       "1062           0          0          1              1              0   \n",
       "20913          0          1          0              1              0   \n",
       "79242          0          0          0              1              0   \n",
       "\n",
       "       weather_cat_3  \n",
       "2650               0  \n",
       "77236              0  \n",
       "1062               0  \n",
       "20913              0  \n",
       "79242              0  \n",
       "\n",
       "[5 rows x 295 columns]"
      ]
     },
     "execution_count": 5,
     "metadata": {},
     "output_type": "execute_result"
    }
   ],
   "source": [
    "bikeshare_machine = bikeshare_machine.drop(['temperature', 'humidity', 'windspeed'], 1)\n",
    "bikeshare_machine = bikeshare_machine.rename(columns = {'member_type_Registered':'member_type'})\n",
    "bikeshare_machine.head()"
   ]
  },
  {
   "cell_type": "markdown",
   "metadata": {},
   "source": [
    "### Model 1"
   ]
  },
  {
   "cell_type": "code",
   "execution_count": 6,
   "metadata": {
    "collapsed": true
   },
   "outputs": [],
   "source": [
    "# Leave workday, drop weekdays, leave season, drop month\n",
    "# Workday overlaps with workday/not workday and months overlap with seasons\n",
    "remove_cols = ['time_diff']\n",
    "X1 = np.matrix(bikeshare_machine.drop(remove_cols, 1))\n",
    "y1 = bikeshare_machine['time_diff']"
   ]
  },
  {
   "cell_type": "code",
   "execution_count": 7,
   "metadata": {},
   "outputs": [
    {
     "data": {
      "text/plain": [
       "((152719, 294), (50907, 294), (152719,), (50907,))"
      ]
     },
     "execution_count": 7,
     "metadata": {},
     "output_type": "execute_result"
    }
   ],
   "source": [
    "# Split the data into training and testing sets and check the shape\n",
    "X1_train, X1_test, y1_train, y1_test = train_test_split(X1, y1, test_size = 0.25)\n",
    "X1_train.shape, X1_test.shape, y1_train.shape, y1_test.shape"
   ]
  },
  {
   "cell_type": "code",
   "execution_count": 10,
   "metadata": {},
   "outputs": [
    {
     "data": {
      "text/plain": [
       "RandomizedSearchCV(cv=3, error_score='raise',\n",
       "          estimator=RandomForestRegressor(bootstrap=True, criterion='mse', max_depth=None,\n",
       "           max_features='auto', max_leaf_nodes=None,\n",
       "           min_impurity_decrease=0.0, min_impurity_split=None,\n",
       "           min_samples_leaf=1, min_samples_split=2,\n",
       "           min_weight_fraction_leaf=0.0, n_estimators=100, n_jobs=-1,\n",
       "           oob_score=False, random_state=None, verbose=0, warm_start=False),\n",
       "          fit_params=None, iid=True, n_iter=3, n_jobs=1,\n",
       "          param_distributions={'min_samples_leaf': [50, 75, 100, 125, 150]},\n",
       "          pre_dispatch='2*n_jobs', random_state=None, refit=True,\n",
       "          return_train_score=True, scoring=None, verbose=0)"
      ]
     },
     "execution_count": 10,
     "metadata": {},
     "output_type": "execute_result"
    }
   ],
   "source": [
    "min_leaf_samples = [50,75,100,125,150]\n",
    "param_grid = {'min_samples_leaf':min_leaf_samples}\n",
    "rf = RandomForestRegressor(n_estimators=100, n_jobs=-1)\n",
    "gs = RandomizedSearchCV(rf, param_grid, n_iter=3, cv=3)\n",
    "gs.fit(X1_train, y1_train)"
   ]
  },
  {
   "cell_type": "code",
   "execution_count": 11,
   "metadata": {
    "collapsed": true
   },
   "outputs": [],
   "source": [
    "pred1 = gs.predict(X1_test)\n",
    "model1_r = gs.score(X1_test, y1_test)\n",
    "model1_mse = mean_squared_error(y1_test, pred1)\n",
    "model1_rmse = np.sqrt(model1_mse)\n",
    "adjustedr1 = 1 - (1-model1_r)*(len(y1_test)-1)/(len(y1_test)-X1_test.shape[1]-1)"
   ]
  },
  {
   "cell_type": "code",
   "execution_count": 12,
   "metadata": {},
   "outputs": [
    {
     "data": {
      "text/plain": [
       "(0.34086939601436272,\n",
       " 0.33704057285835665,\n",
       " 219.8660320551954,\n",
       " 14.827880227975792)"
      ]
     },
     "execution_count": 12,
     "metadata": {},
     "output_type": "execute_result"
    }
   ],
   "source": [
    "model1_r, adjustedr1, model1_mse, model1_rmse"
   ]
  },
  {
   "cell_type": "code",
   "execution_count": null,
   "metadata": {
    "collapsed": true
   },
   "outputs": [],
   "source": []
  }
 ],
 "metadata": {
  "kernelspec": {
   "display_name": "Python 3",
   "language": "python",
   "name": "python3"
  },
  "language_info": {
   "codemirror_mode": {
    "name": "ipython",
    "version": 3
   },
   "file_extension": ".py",
   "mimetype": "text/x-python",
   "name": "python",
   "nbconvert_exporter": "python",
   "pygments_lexer": "ipython3",
   "version": "3.6.2"
  }
 },
 "nbformat": 4,
 "nbformat_minor": 2
}
