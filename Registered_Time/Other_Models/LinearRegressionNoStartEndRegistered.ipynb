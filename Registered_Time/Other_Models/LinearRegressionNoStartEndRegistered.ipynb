{
 "cells": [
  {
   "cell_type": "code",
   "execution_count": 1,
   "metadata": {
    "collapsed": true
   },
   "outputs": [],
   "source": [
    "import pandas as pd\n",
    "import numpy as np\n",
    "import matplotlib.pyplot as plt\n",
    "from datetime import datetime \n",
    "import seaborn as sns\n",
    "%matplotlib inline"
   ]
  },
  {
   "cell_type": "code",
   "execution_count": 2,
   "metadata": {},
   "outputs": [
    {
     "name": "stderr",
     "output_type": "stream",
     "text": [
      "/anaconda/lib/python3.6/site-packages/statsmodels/compat/pandas.py:56: FutureWarning: The pandas.core.datetools module is deprecated and will be removed in a future version. Please use the pandas.tseries module instead.\n",
      "  from pandas.core import datetools\n"
     ]
    }
   ],
   "source": [
    "from sklearn.model_selection import train_test_split\n",
    "from sklearn.linear_model import LinearRegression\n",
    "from sklearn.metrics import mean_squared_error\n",
    "from sklearn.metrics import explained_variance_score\n",
    "from sklearn.model_selection import GridSearchCV\n",
    "from sklearn.linear_model import Ridge\n",
    "from sklearn.linear_model import Lasso\n",
    "from sklearn.linear_model import ElasticNet\n",
    "from sklearn.metrics import r2_score\n",
    "from sklearn.model_selection import cross_val_score\n",
    "from sklearn.model_selection import cross_val_predict\n",
    "from sklearn.linear_model import LassoCV\n",
    "from sklearn.linear_model import RidgeCV\n",
    "from sklearn.utils import shuffle\n",
    "import statsmodels.api as sm"
   ]
  },
  {
   "cell_type": "code",
   "execution_count": 3,
   "metadata": {
    "collapsed": true
   },
   "outputs": [],
   "source": [
    "def set_data(file):\n",
    "    bikeshare_machine = pd.read_csv(file, \n",
    "                        parse_dates=['Start date', 'End date', 'start_date_short', 'end_date_short'])\n",
    "    bikeshare_machine.drop('Unnamed: 0', 1, inplace=True)\n",
    "    included_cols = ['Member Type','time_diff','season','mnth','holiday',\n",
    "                     'weekday','workingday','weathersit','temp','hum','windspeed','miles',\n",
    "                     'rush_hour','metro_dist']\n",
    "    bikeshare_machine = bikeshare_machine[included_cols]\n",
    "    bikeshare_machine['season'] = bikeshare_machine['season'].astype('category')\n",
    "    bikeshare_machine['mnth'] = bikeshare_machine['mnth'].astype('category')\n",
    "    bikeshare_machine['holiday'] = bikeshare_machine['holiday'].astype('category')\n",
    "    bikeshare_machine['weekday'] = bikeshare_machine['weekday'].astype('category')\n",
    "    bikeshare_machine['workingday'] = bikeshare_machine['workingday'].astype('category')\n",
    "    bikeshare_machine['weathersit'] = bikeshare_machine['weathersit'].astype('category')\n",
    "    bikeshare_machine['Member Type'] = bikeshare_machine['Member Type'].astype('category')\n",
    "    bikeshare_machine['rush_hour'] = bikeshare_machine['rush_hour'].astype('category')\n",
    "    col_names = ['member_type','time_diff','season','month','holiday',\n",
    "             'weekday','work_day','weather_cat','temperature','humidity','windspeed','miles','rush_hour',\n",
    "                'metro_dist']\n",
    "    bikeshare_machine.columns = col_names\n",
    "    tmin = -8\n",
    "    tmax = 39\n",
    "    hum_max = 100\n",
    "    wind_max = 67\n",
    "    bikeshare_machine['temp'] = bikeshare_machine['temperature'] * (tmax - tmin) + tmin\n",
    "    bikeshare_machine['hum'] = bikeshare_machine['humidity'] * 100\n",
    "    bikeshare_machine['wind'] = bikeshare_machine['windspeed'] * 67\n",
    "    bikeshare_machine = pd.get_dummies(bikeshare_machine, \n",
    "                                 columns=['member_type','holiday','work_day'], drop_first=True)\n",
    "    bikeshare_machine = pd.get_dummies(bikeshare_machine, \n",
    "                                 columns=['season','month','weekday','weather_cat'])\n",
    "    bikeshare_machine = shuffle(bikeshare_machine)\n",
    "    return bikeshare_machine"
   ]
  },
  {
   "cell_type": "code",
   "execution_count": 4,
   "metadata": {
    "collapsed": true
   },
   "outputs": [],
   "source": [
    "file = '/Users/matthewcassi/Documents/Bike-Sharing-Dataset/Bikeshare_Time_Prediction/reg_metro_rush.csv'\n",
    "bikeshare_machine = set_data(file)"
   ]
  },
  {
   "cell_type": "code",
   "execution_count": 5,
   "metadata": {},
   "outputs": [
    {
     "data": {
      "text/html": [
       "<div>\n",
       "<style>\n",
       "    .dataframe thead tr:only-child th {\n",
       "        text-align: right;\n",
       "    }\n",
       "\n",
       "    .dataframe thead th {\n",
       "        text-align: left;\n",
       "    }\n",
       "\n",
       "    .dataframe tbody tr th {\n",
       "        vertical-align: top;\n",
       "    }\n",
       "</style>\n",
       "<table border=\"1\" class=\"dataframe\">\n",
       "  <thead>\n",
       "    <tr style=\"text-align: right;\">\n",
       "      <th></th>\n",
       "      <th>time_diff</th>\n",
       "      <th>miles</th>\n",
       "      <th>rush_hour</th>\n",
       "      <th>metro_dist</th>\n",
       "      <th>temp</th>\n",
       "      <th>hum</th>\n",
       "      <th>wind</th>\n",
       "      <th>holiday_1</th>\n",
       "      <th>work_day_1</th>\n",
       "      <th>season_1</th>\n",
       "      <th>...</th>\n",
       "      <th>weekday_0</th>\n",
       "      <th>weekday_1</th>\n",
       "      <th>weekday_2</th>\n",
       "      <th>weekday_3</th>\n",
       "      <th>weekday_4</th>\n",
       "      <th>weekday_5</th>\n",
       "      <th>weekday_6</th>\n",
       "      <th>weather_cat_1</th>\n",
       "      <th>weather_cat_2</th>\n",
       "      <th>weather_cat_3</th>\n",
       "    </tr>\n",
       "  </thead>\n",
       "  <tbody>\n",
       "    <tr>\n",
       "      <th>945796</th>\n",
       "      <td>12.617</td>\n",
       "      <td>1.432146</td>\n",
       "      <td>0</td>\n",
       "      <td>0.141728</td>\n",
       "      <td>13.933349</td>\n",
       "      <td>48.9167</td>\n",
       "      <td>13.916771</td>\n",
       "      <td>0</td>\n",
       "      <td>1</td>\n",
       "      <td>1</td>\n",
       "      <td>...</td>\n",
       "      <td>0</td>\n",
       "      <td>1</td>\n",
       "      <td>0</td>\n",
       "      <td>0</td>\n",
       "      <td>0</td>\n",
       "      <td>0</td>\n",
       "      <td>0</td>\n",
       "      <td>1</td>\n",
       "      <td>0</td>\n",
       "      <td>0</td>\n",
       "    </tr>\n",
       "    <tr>\n",
       "      <th>871228</th>\n",
       "      <td>6.717</td>\n",
       "      <td>0.943895</td>\n",
       "      <td>1</td>\n",
       "      <td>0.722611</td>\n",
       "      <td>7.000849</td>\n",
       "      <td>50.8750</td>\n",
       "      <td>9.458993</td>\n",
       "      <td>0</td>\n",
       "      <td>1</td>\n",
       "      <td>1</td>\n",
       "      <td>...</td>\n",
       "      <td>0</td>\n",
       "      <td>0</td>\n",
       "      <td>1</td>\n",
       "      <td>0</td>\n",
       "      <td>0</td>\n",
       "      <td>0</td>\n",
       "      <td>0</td>\n",
       "      <td>0</td>\n",
       "      <td>1</td>\n",
       "      <td>0</td>\n",
       "    </tr>\n",
       "    <tr>\n",
       "      <th>530669</th>\n",
       "      <td>25.450</td>\n",
       "      <td>1.615939</td>\n",
       "      <td>0</td>\n",
       "      <td>0.138620</td>\n",
       "      <td>23.999151</td>\n",
       "      <td>47.6250</td>\n",
       "      <td>16.124689</td>\n",
       "      <td>0</td>\n",
       "      <td>1</td>\n",
       "      <td>0</td>\n",
       "      <td>...</td>\n",
       "      <td>0</td>\n",
       "      <td>0</td>\n",
       "      <td>0</td>\n",
       "      <td>0</td>\n",
       "      <td>1</td>\n",
       "      <td>0</td>\n",
       "      <td>0</td>\n",
       "      <td>1</td>\n",
       "      <td>0</td>\n",
       "      <td>0</td>\n",
       "    </tr>\n",
       "    <tr>\n",
       "      <th>603645</th>\n",
       "      <td>3.650</td>\n",
       "      <td>0.463464</td>\n",
       "      <td>0</td>\n",
       "      <td>0.048442</td>\n",
       "      <td>2.379151</td>\n",
       "      <td>49.0000</td>\n",
       "      <td>4.458294</td>\n",
       "      <td>0</td>\n",
       "      <td>0</td>\n",
       "      <td>0</td>\n",
       "      <td>...</td>\n",
       "      <td>1</td>\n",
       "      <td>0</td>\n",
       "      <td>0</td>\n",
       "      <td>0</td>\n",
       "      <td>0</td>\n",
       "      <td>0</td>\n",
       "      <td>0</td>\n",
       "      <td>1</td>\n",
       "      <td>0</td>\n",
       "      <td>0</td>\n",
       "    </tr>\n",
       "    <tr>\n",
       "      <th>294924</th>\n",
       "      <td>11.417</td>\n",
       "      <td>1.167419</td>\n",
       "      <td>0</td>\n",
       "      <td>0.023451</td>\n",
       "      <td>19.965000</td>\n",
       "      <td>61.4167</td>\n",
       "      <td>16.208975</td>\n",
       "      <td>0</td>\n",
       "      <td>1</td>\n",
       "      <td>0</td>\n",
       "      <td>...</td>\n",
       "      <td>0</td>\n",
       "      <td>0</td>\n",
       "      <td>0</td>\n",
       "      <td>1</td>\n",
       "      <td>0</td>\n",
       "      <td>0</td>\n",
       "      <td>0</td>\n",
       "      <td>1</td>\n",
       "      <td>0</td>\n",
       "      <td>0</td>\n",
       "    </tr>\n",
       "  </tbody>\n",
       "</table>\n",
       "<p>5 rows × 35 columns</p>\n",
       "</div>"
      ],
      "text/plain": [
       "        time_diff     miles rush_hour  metro_dist       temp      hum  \\\n",
       "945796     12.617  1.432146         0    0.141728  13.933349  48.9167   \n",
       "871228      6.717  0.943895         1    0.722611   7.000849  50.8750   \n",
       "530669     25.450  1.615939         0    0.138620  23.999151  47.6250   \n",
       "603645      3.650  0.463464         0    0.048442   2.379151  49.0000   \n",
       "294924     11.417  1.167419         0    0.023451  19.965000  61.4167   \n",
       "\n",
       "             wind  holiday_1  work_day_1  season_1      ...        weekday_0  \\\n",
       "945796  13.916771          0           1         1      ...                0   \n",
       "871228   9.458993          0           1         1      ...                0   \n",
       "530669  16.124689          0           1         0      ...                0   \n",
       "603645   4.458294          0           0         0      ...                1   \n",
       "294924  16.208975          0           1         0      ...                0   \n",
       "\n",
       "        weekday_1  weekday_2  weekday_3  weekday_4  weekday_5  weekday_6  \\\n",
       "945796          1          0          0          0          0          0   \n",
       "871228          0          1          0          0          0          0   \n",
       "530669          0          0          0          1          0          0   \n",
       "603645          0          0          0          0          0          0   \n",
       "294924          0          0          1          0          0          0   \n",
       "\n",
       "        weather_cat_1  weather_cat_2  weather_cat_3  \n",
       "945796              1              0              0  \n",
       "871228              0              1              0  \n",
       "530669              1              0              0  \n",
       "603645              1              0              0  \n",
       "294924              1              0              0  \n",
       "\n",
       "[5 rows x 35 columns]"
      ]
     },
     "execution_count": 5,
     "metadata": {},
     "output_type": "execute_result"
    }
   ],
   "source": [
    "bikeshare_machine = bikeshare_machine.drop(['temperature', 'humidity', 'windspeed'], 1)\n",
    "bikeshare_machine = bikeshare_machine.rename(columns = {'member_type_Registered':'member_type'})\n",
    "bikeshare_machine.head()"
   ]
  },
  {
   "cell_type": "markdown",
   "metadata": {},
   "source": [
    "### Model 1 - Remove Some Variables that are correlated"
   ]
  },
  {
   "cell_type": "code",
   "execution_count": 6,
   "metadata": {
    "collapsed": true
   },
   "outputs": [],
   "source": [
    "# Leave workday, drop weekdays, leave season, drop month\n",
    "# Workday overlaps with workday/not workday and months overlap with seasons\n",
    "remove_cols = ['weekday_0', 'weekday_1','weekday_2','weekday_3','weekday_4','weekday_5','weekday_6', \n",
    "              'month_1','month_2','month_3','month_4','month_5','month_6','month_7','month_8','month_9',\n",
    "              'month_10','month_11','month_12','time_diff']\n",
    "X1 = np.matrix(bikeshare_machine.drop(remove_cols, 1))\n",
    "y1 = bikeshare_machine['time_diff']"
   ]
  },
  {
   "cell_type": "code",
   "execution_count": 7,
   "metadata": {},
   "outputs": [
    {
     "data": {
      "text/plain": [
       "((762165, 15), (254056, 15), (762165,), (254056,))"
      ]
     },
     "execution_count": 7,
     "metadata": {},
     "output_type": "execute_result"
    }
   ],
   "source": [
    "# Split the data into training and testing sets and check the shape\n",
    "X1_train, X1_test, y1_train, y1_test = train_test_split(X1, y1, test_size = 0.25, random_state=17)\n",
    "X1_train.shape, X1_test.shape, y1_train.shape, y1_test.shape"
   ]
  },
  {
   "cell_type": "code",
   "execution_count": 8,
   "metadata": {},
   "outputs": [
    {
     "data": {
      "text/plain": [
       "LinearRegression(copy_X=True, fit_intercept=True, n_jobs=1, normalize=False)"
      ]
     },
     "execution_count": 8,
     "metadata": {},
     "output_type": "execute_result"
    }
   ],
   "source": [
    "# Fit model\n",
    "model1 = LinearRegression()\n",
    "model1.fit(X1_train, y1_train)"
   ]
  },
  {
   "cell_type": "code",
   "execution_count": 9,
   "metadata": {
    "collapsed": true
   },
   "outputs": [],
   "source": [
    "pred1 = model1.predict(X1_test)\n",
    "cvscores_model1 = cross_val_score(model1, X1_train, y1_train, cv=5)\n",
    "model1_r = model1.score(X1_test, y1_test)\n",
    "model1_mse = mean_squared_error(y1_test, pred1)\n",
    "model1_rmse = np.sqrt(model1_mse)\n",
    "adjustedr1 = 1 - (1-model1_r)*(len(y1_test)-1)/(len(y1_test)-X1_test.shape[1]-1)"
   ]
  },
  {
   "cell_type": "code",
   "execution_count": 10,
   "metadata": {},
   "outputs": [
    {
     "data": {
      "text/plain": [
       "(array([ 0.43440672,  0.43370357,  0.43572838,  0.42814748,  0.43895602]),\n",
       " 0.432489932795034,\n",
       " 0.43245642369800963,\n",
       " 36.639360085688857,\n",
       " 6.0530455215278911)"
      ]
     },
     "execution_count": 10,
     "metadata": {},
     "output_type": "execute_result"
    }
   ],
   "source": [
    "cvscores_model1, model1_r, adjustedr1, model1_mse, model1_rmse"
   ]
  },
  {
   "cell_type": "code",
   "execution_count": 11,
   "metadata": {},
   "outputs": [
    {
     "data": {
      "text/html": [
       "<table class=\"simpletable\">\n",
       "<caption>OLS Regression Results</caption>\n",
       "<tr>\n",
       "  <th>Dep. Variable:</th>        <td>time_diff</td>    <th>  R-squared:         </th>  <td>   0.434</td>  \n",
       "</tr>\n",
       "<tr>\n",
       "  <th>Model:</th>                   <td>OLS</td>       <th>  Adj. R-squared:    </th>  <td>   0.434</td>  \n",
       "</tr>\n",
       "<tr>\n",
       "  <th>Method:</th>             <td>Least Squares</td>  <th>  F-statistic:       </th>  <td>4.499e+04</td> \n",
       "</tr>\n",
       "<tr>\n",
       "  <th>Date:</th>             <td>Fri, 15 Dec 2017</td> <th>  Prob (F-statistic):</th>   <td>  0.00</td>   \n",
       "</tr>\n",
       "<tr>\n",
       "  <th>Time:</th>                 <td>17:17:51</td>     <th>  Log-Likelihood:    </th> <td>-2.4515e+06</td>\n",
       "</tr>\n",
       "<tr>\n",
       "  <th>No. Observations:</th>      <td>762165</td>      <th>  AIC:               </th>  <td>4.903e+06</td> \n",
       "</tr>\n",
       "<tr>\n",
       "  <th>Df Residuals:</th>          <td>762151</td>      <th>  BIC:               </th>  <td>4.903e+06</td> \n",
       "</tr>\n",
       "<tr>\n",
       "  <th>Df Model:</th>              <td>    13</td>      <th>                     </th>      <td> </td>     \n",
       "</tr>\n",
       "<tr>\n",
       "  <th>Covariance Type:</th>      <td>nonrobust</td>    <th>                     </th>      <td> </td>     \n",
       "</tr>\n",
       "</table>\n",
       "<table class=\"simpletable\">\n",
       "<tr>\n",
       "   <td></td>      <th>coef</th>     <th>std err</th>      <th>t</th>      <th>P>|t|</th>  <th>[0.025</th>    <th>0.975]</th>  \n",
       "</tr>\n",
       "<tr>\n",
       "  <th>x1</th>  <td>    7.2026</td> <td>    0.010</td> <td>  754.461</td> <td> 0.000</td> <td>    7.184</td> <td>    7.221</td>\n",
       "</tr>\n",
       "<tr>\n",
       "  <th>x2</th>  <td>   -1.4757</td> <td>    0.019</td> <td>  -78.303</td> <td> 0.000</td> <td>   -1.513</td> <td>   -1.439</td>\n",
       "</tr>\n",
       "<tr>\n",
       "  <th>x3</th>  <td>   -0.3579</td> <td>    0.031</td> <td>  -11.456</td> <td> 0.000</td> <td>   -0.419</td> <td>   -0.297</td>\n",
       "</tr>\n",
       "<tr>\n",
       "  <th>x4</th>  <td>    0.0600</td> <td>    0.001</td> <td>   41.629</td> <td> 0.000</td> <td>    0.057</td> <td>    0.063</td>\n",
       "</tr>\n",
       "<tr>\n",
       "  <th>x5</th>  <td>   -0.0014</td> <td>    0.001</td> <td>   -2.010</td> <td> 0.044</td> <td>   -0.003</td> <td>-3.41e-05</td>\n",
       "</tr>\n",
       "<tr>\n",
       "  <th>x6</th>  <td>   -0.0145</td> <td>    0.001</td> <td>   -9.797</td> <td> 0.000</td> <td>   -0.017</td> <td>   -0.012</td>\n",
       "</tr>\n",
       "<tr>\n",
       "  <th>x7</th>  <td>   -0.3863</td> <td>    0.050</td> <td>   -7.682</td> <td> 0.000</td> <td>   -0.485</td> <td>   -0.288</td>\n",
       "</tr>\n",
       "<tr>\n",
       "  <th>x8</th>  <td>   -0.6973</td> <td>    0.017</td> <td>  -40.922</td> <td> 0.000</td> <td>   -0.731</td> <td>   -0.664</td>\n",
       "</tr>\n",
       "<tr>\n",
       "  <th>x9</th>  <td>    1.3449</td> <td>    0.029</td> <td>   46.360</td> <td> 0.000</td> <td>    1.288</td> <td>    1.402</td>\n",
       "</tr>\n",
       "<tr>\n",
       "  <th>x10</th> <td>    1.9931</td> <td>    0.032</td> <td>   62.288</td> <td> 0.000</td> <td>    1.930</td> <td>    2.056</td>\n",
       "</tr>\n",
       "<tr>\n",
       "  <th>x11</th> <td>    1.3854</td> <td>    0.034</td> <td>   40.410</td> <td> 0.000</td> <td>    1.318</td> <td>    1.453</td>\n",
       "</tr>\n",
       "<tr>\n",
       "  <th>x12</th> <td>    1.3882</td> <td>    0.031</td> <td>   45.033</td> <td> 0.000</td> <td>    1.328</td> <td>    1.449</td>\n",
       "</tr>\n",
       "<tr>\n",
       "  <th>x13</th> <td>    2.3284</td> <td>    0.029</td> <td>   80.075</td> <td> 0.000</td> <td>    2.271</td> <td>    2.385</td>\n",
       "</tr>\n",
       "<tr>\n",
       "  <th>x14</th> <td>    2.1084</td> <td>    0.037</td> <td>   56.878</td> <td> 0.000</td> <td>    2.036</td> <td>    2.181</td>\n",
       "</tr>\n",
       "<tr>\n",
       "  <th>x15</th> <td>    1.6749</td> <td>    0.063</td> <td>   26.606</td> <td> 0.000</td> <td>    1.551</td> <td>    1.798</td>\n",
       "</tr>\n",
       "</table>\n",
       "<table class=\"simpletable\">\n",
       "<tr>\n",
       "  <th>Omnibus:</th>       <td>717278.485</td> <th>  Durbin-Watson:     </th>   <td>   2.001</td>  \n",
       "</tr>\n",
       "<tr>\n",
       "  <th>Prob(Omnibus):</th>   <td> 0.000</td>   <th>  Jarque-Bera (JB):  </th> <td>36491492.680</td>\n",
       "</tr>\n",
       "<tr>\n",
       "  <th>Skew:</th>            <td> 4.553</td>   <th>  Prob(JB):          </th>   <td>    0.00</td>  \n",
       "</tr>\n",
       "<tr>\n",
       "  <th>Kurtosis:</th>        <td>35.652</td>   <th>  Cond. No.          </th>   <td>1.44e+17</td>  \n",
       "</tr>\n",
       "</table>"
      ],
      "text/plain": [
       "<class 'statsmodels.iolib.summary.Summary'>\n",
       "\"\"\"\n",
       "                            OLS Regression Results                            \n",
       "==============================================================================\n",
       "Dep. Variable:              time_diff   R-squared:                       0.434\n",
       "Model:                            OLS   Adj. R-squared:                  0.434\n",
       "Method:                 Least Squares   F-statistic:                 4.499e+04\n",
       "Date:                Fri, 15 Dec 2017   Prob (F-statistic):               0.00\n",
       "Time:                        17:17:51   Log-Likelihood:            -2.4515e+06\n",
       "No. Observations:              762165   AIC:                         4.903e+06\n",
       "Df Residuals:                  762151   BIC:                         4.903e+06\n",
       "Df Model:                          13                                         \n",
       "Covariance Type:            nonrobust                                         \n",
       "==============================================================================\n",
       "                 coef    std err          t      P>|t|      [0.025      0.975]\n",
       "------------------------------------------------------------------------------\n",
       "x1             7.2026      0.010    754.461      0.000       7.184       7.221\n",
       "x2            -1.4757      0.019    -78.303      0.000      -1.513      -1.439\n",
       "x3            -0.3579      0.031    -11.456      0.000      -0.419      -0.297\n",
       "x4             0.0600      0.001     41.629      0.000       0.057       0.063\n",
       "x5            -0.0014      0.001     -2.010      0.044      -0.003   -3.41e-05\n",
       "x6            -0.0145      0.001     -9.797      0.000      -0.017      -0.012\n",
       "x7            -0.3863      0.050     -7.682      0.000      -0.485      -0.288\n",
       "x8            -0.6973      0.017    -40.922      0.000      -0.731      -0.664\n",
       "x9             1.3449      0.029     46.360      0.000       1.288       1.402\n",
       "x10            1.9931      0.032     62.288      0.000       1.930       2.056\n",
       "x11            1.3854      0.034     40.410      0.000       1.318       1.453\n",
       "x12            1.3882      0.031     45.033      0.000       1.328       1.449\n",
       "x13            2.3284      0.029     80.075      0.000       2.271       2.385\n",
       "x14            2.1084      0.037     56.878      0.000       2.036       2.181\n",
       "x15            1.6749      0.063     26.606      0.000       1.551       1.798\n",
       "==============================================================================\n",
       "Omnibus:                   717278.485   Durbin-Watson:                   2.001\n",
       "Prob(Omnibus):                  0.000   Jarque-Bera (JB):         36491492.680\n",
       "Skew:                           4.553   Prob(JB):                         0.00\n",
       "Kurtosis:                      35.652   Cond. No.                     1.44e+17\n",
       "==============================================================================\n",
       "\n",
       "Warnings:\n",
       "[1] Standard Errors assume that the covariance matrix of the errors is correctly specified.\n",
       "[2] The smallest eigenvalue is 1.68e-25. This might indicate that there are\n",
       "strong multicollinearity problems or that the design matrix is singular.\n",
       "\"\"\""
      ]
     },
     "execution_count": 11,
     "metadata": {},
     "output_type": "execute_result"
    }
   ],
   "source": [
    "model1_sm = sm.OLS(y1_train, X1_train.astype(float)).fit()\n",
    "model1_sm.summary()"
   ]
  },
  {
   "cell_type": "code",
   "execution_count": null,
   "metadata": {
    "collapsed": true
   },
   "outputs": [],
   "source": []
  },
  {
   "cell_type": "markdown",
   "metadata": {},
   "source": [
    "### Model 2 - Try reverse of Model 1"
   ]
  },
  {
   "cell_type": "code",
   "execution_count": 12,
   "metadata": {
    "collapsed": true
   },
   "outputs": [],
   "source": [
    "# Drop workday, leave weekdays, drop season, leave month\n",
    "# Workday overlaps with workday/not workday and months overlap with seasons\n",
    "remove_cols = ['work_day_1','season_1', 'season_2', 'season_3', 'season_4','time_diff']\n",
    "X2 = np.matrix(bikeshare_machine.drop(remove_cols, 1))\n",
    "y2 = bikeshare_machine['time_diff']"
   ]
  },
  {
   "cell_type": "code",
   "execution_count": 13,
   "metadata": {},
   "outputs": [
    {
     "data": {
      "text/plain": [
       "((762165, 29), (254056, 29), (762165,), (254056,))"
      ]
     },
     "execution_count": 13,
     "metadata": {},
     "output_type": "execute_result"
    }
   ],
   "source": [
    "# Split the data into training and testing sets and check the shape\n",
    "X2_train, X2_test, y2_train, y2_test = train_test_split(X2, y2, test_size = 0.25, random_state=17)\n",
    "X2_train.shape, X2_test.shape, y2_train.shape, y2_test.shape"
   ]
  },
  {
   "cell_type": "code",
   "execution_count": 14,
   "metadata": {},
   "outputs": [
    {
     "data": {
      "text/plain": [
       "LinearRegression(copy_X=True, fit_intercept=True, n_jobs=1, normalize=False)"
      ]
     },
     "execution_count": 14,
     "metadata": {},
     "output_type": "execute_result"
    }
   ],
   "source": [
    "# Fit model\n",
    "model2 = LinearRegression()\n",
    "model2.fit(X2_train, y2_train)"
   ]
  },
  {
   "cell_type": "code",
   "execution_count": 15,
   "metadata": {
    "collapsed": true
   },
   "outputs": [],
   "source": [
    "pred2 = model2.predict(X2_test)\n",
    "cvscores_model2 = cross_val_score(model2, X2_train, y2_train, cv=5)\n",
    "model2_r = model2.score(X2_test, y2_test)\n",
    "model2_mse = mean_squared_error(y2_test, pred2)\n",
    "model2_rmse = np.sqrt(model2_mse)\n",
    "adjustedr2 = 1 - (1-model2_r)*(len(y2_test)-1)/(len(y2_test)-X2_test.shape[1]-1)"
   ]
  },
  {
   "cell_type": "code",
   "execution_count": 16,
   "metadata": {},
   "outputs": [
    {
     "data": {
      "text/plain": [
       "(array([ 0.43521129,  0.43424466,  0.43651821,  0.42866985,  0.43967397]),\n",
       " 0.43321995840028504,\n",
       " 0.43315525391646692,\n",
       " 36.592228461831851,\n",
       " 6.0491510529851915)"
      ]
     },
     "execution_count": 16,
     "metadata": {},
     "output_type": "execute_result"
    }
   ],
   "source": [
    "cvscores_model2, model2_r, adjustedr2, model2_mse, model2_rmse"
   ]
  },
  {
   "cell_type": "code",
   "execution_count": 17,
   "metadata": {},
   "outputs": [
    {
     "data": {
      "text/html": [
       "<table class=\"simpletable\">\n",
       "<caption>OLS Regression Results</caption>\n",
       "<tr>\n",
       "  <th>Dep. Variable:</th>        <td>time_diff</td>    <th>  R-squared:         </th>  <td>   0.435</td>  \n",
       "</tr>\n",
       "<tr>\n",
       "  <th>Model:</th>                   <td>OLS</td>       <th>  Adj. R-squared:    </th>  <td>   0.435</td>  \n",
       "</tr>\n",
       "<tr>\n",
       "  <th>Method:</th>             <td>Least Squares</td>  <th>  F-statistic:       </th>  <td>2.256e+04</td> \n",
       "</tr>\n",
       "<tr>\n",
       "  <th>Date:</th>             <td>Fri, 15 Dec 2017</td> <th>  Prob (F-statistic):</th>   <td>  0.00</td>   \n",
       "</tr>\n",
       "<tr>\n",
       "  <th>Time:</th>                 <td>17:18:13</td>     <th>  Log-Likelihood:    </th> <td>-2.4511e+06</td>\n",
       "</tr>\n",
       "<tr>\n",
       "  <th>No. Observations:</th>      <td>762165</td>      <th>  AIC:               </th>  <td>4.902e+06</td> \n",
       "</tr>\n",
       "<tr>\n",
       "  <th>Df Residuals:</th>          <td>762138</td>      <th>  BIC:               </th>  <td>4.903e+06</td> \n",
       "</tr>\n",
       "<tr>\n",
       "  <th>Df Model:</th>              <td>    26</td>      <th>                     </th>      <td> </td>     \n",
       "</tr>\n",
       "<tr>\n",
       "  <th>Covariance Type:</th>      <td>nonrobust</td>    <th>                     </th>      <td> </td>     \n",
       "</tr>\n",
       "</table>\n",
       "<table class=\"simpletable\">\n",
       "<tr>\n",
       "   <td></td>      <th>coef</th>     <th>std err</th>      <th>t</th>      <th>P>|t|</th>  <th>[0.025</th>    <th>0.975]</th>  \n",
       "</tr>\n",
       "<tr>\n",
       "  <th>x1</th>  <td>    7.1984</td> <td>    0.010</td> <td>  754.247</td> <td> 0.000</td> <td>    7.180</td> <td>    7.217</td>\n",
       "</tr>\n",
       "<tr>\n",
       "  <th>x2</th>  <td>   -1.4702</td> <td>    0.019</td> <td>  -78.043</td> <td> 0.000</td> <td>   -1.507</td> <td>   -1.433</td>\n",
       "</tr>\n",
       "<tr>\n",
       "  <th>x3</th>  <td>   -0.3523</td> <td>    0.031</td> <td>  -11.280</td> <td> 0.000</td> <td>   -0.413</td> <td>   -0.291</td>\n",
       "</tr>\n",
       "<tr>\n",
       "  <th>x4</th>  <td>    0.0542</td> <td>    0.002</td> <td>   26.231</td> <td> 0.000</td> <td>    0.050</td> <td>    0.058</td>\n",
       "</tr>\n",
       "<tr>\n",
       "  <th>x5</th>  <td>   -0.0044</td> <td>    0.001</td> <td>   -5.982</td> <td> 0.000</td> <td>   -0.006</td> <td>   -0.003</td>\n",
       "</tr>\n",
       "<tr>\n",
       "  <th>x6</th>  <td>   -0.0187</td> <td>    0.002</td> <td>  -12.252</td> <td> 0.000</td> <td>   -0.022</td> <td>   -0.016</td>\n",
       "</tr>\n",
       "<tr>\n",
       "  <th>x7</th>  <td>    0.2203</td> <td>    0.051</td> <td>    4.315</td> <td> 0.000</td> <td>    0.120</td> <td>    0.320</td>\n",
       "</tr>\n",
       "<tr>\n",
       "  <th>x8</th>  <td>    0.2466</td> <td>    0.031</td> <td>    8.020</td> <td> 0.000</td> <td>    0.186</td> <td>    0.307</td>\n",
       "</tr>\n",
       "<tr>\n",
       "  <th>x9</th>  <td>    0.1269</td> <td>    0.026</td> <td>    4.801</td> <td> 0.000</td> <td>    0.075</td> <td>    0.179</td>\n",
       "</tr>\n",
       "<tr>\n",
       "  <th>x10</th> <td>    0.4908</td> <td>    0.021</td> <td>   23.476</td> <td> 0.000</td> <td>    0.450</td> <td>    0.532</td>\n",
       "</tr>\n",
       "<tr>\n",
       "  <th>x11</th> <td>    1.2013</td> <td>    0.031</td> <td>   38.363</td> <td> 0.000</td> <td>    1.140</td> <td>    1.263</td>\n",
       "</tr>\n",
       "<tr>\n",
       "  <th>x12</th> <td>    1.3430</td> <td>    0.029</td> <td>   46.992</td> <td> 0.000</td> <td>    1.287</td> <td>    1.399</td>\n",
       "</tr>\n",
       "<tr>\n",
       "  <th>x13</th> <td>    0.7118</td> <td>    0.032</td> <td>   22.201</td> <td> 0.000</td> <td>    0.649</td> <td>    0.775</td>\n",
       "</tr>\n",
       "<tr>\n",
       "  <th>x14</th> <td>    0.3135</td> <td>    0.037</td> <td>    8.479</td> <td> 0.000</td> <td>    0.241</td> <td>    0.386</td>\n",
       "</tr>\n",
       "<tr>\n",
       "  <th>x15</th> <td>    0.3851</td> <td>    0.033</td> <td>   11.563</td> <td> 0.000</td> <td>    0.320</td> <td>    0.450</td>\n",
       "</tr>\n",
       "<tr>\n",
       "  <th>x16</th> <td>    0.4119</td> <td>    0.030</td> <td>   13.669</td> <td> 0.000</td> <td>    0.353</td> <td>    0.471</td>\n",
       "</tr>\n",
       "<tr>\n",
       "  <th>x17</th> <td>    0.4655</td> <td>    0.027</td> <td>   17.352</td> <td> 0.000</td> <td>    0.413</td> <td>    0.518</td>\n",
       "</tr>\n",
       "<tr>\n",
       "  <th>x18</th> <td>    0.3520</td> <td>    0.029</td> <td>   12.056</td> <td> 0.000</td> <td>    0.295</td> <td>    0.409</td>\n",
       "</tr>\n",
       "<tr>\n",
       "  <th>x19</th> <td>    0.1389</td> <td>    0.032</td> <td>    4.397</td> <td> 0.000</td> <td>    0.077</td> <td>    0.201</td>\n",
       "</tr>\n",
       "<tr>\n",
       "  <th>x20</th> <td>    1.2403</td> <td>    0.026</td> <td>   48.023</td> <td> 0.000</td> <td>    1.190</td> <td>    1.291</td>\n",
       "</tr>\n",
       "<tr>\n",
       "  <th>x21</th> <td>    0.7311</td> <td>    0.025</td> <td>   29.210</td> <td> 0.000</td> <td>    0.682</td> <td>    0.780</td>\n",
       "</tr>\n",
       "<tr>\n",
       "  <th>x22</th> <td>    0.6742</td> <td>    0.024</td> <td>   28.462</td> <td> 0.000</td> <td>    0.628</td> <td>    0.721</td>\n",
       "</tr>\n",
       "<tr>\n",
       "  <th>x23</th> <td>    0.5900</td> <td>    0.025</td> <td>   24.069</td> <td> 0.000</td> <td>    0.542</td> <td>    0.638</td>\n",
       "</tr>\n",
       "<tr>\n",
       "  <th>x24</th> <td>    0.6879</td> <td>    0.024</td> <td>   28.113</td> <td> 0.000</td> <td>    0.640</td> <td>    0.736</td>\n",
       "</tr>\n",
       "<tr>\n",
       "  <th>x25</th> <td>    0.7613</td> <td>    0.023</td> <td>   33.258</td> <td> 0.000</td> <td>    0.716</td> <td>    0.806</td>\n",
       "</tr>\n",
       "<tr>\n",
       "  <th>x26</th> <td>    1.5023</td> <td>    0.025</td> <td>   60.955</td> <td> 0.000</td> <td>    1.454</td> <td>    1.551</td>\n",
       "</tr>\n",
       "<tr>\n",
       "  <th>x27</th> <td>    2.2988</td> <td>    0.032</td> <td>   71.197</td> <td> 0.000</td> <td>    2.236</td> <td>    2.362</td>\n",
       "</tr>\n",
       "<tr>\n",
       "  <th>x28</th> <td>    2.1111</td> <td>    0.040</td> <td>   52.396</td> <td> 0.000</td> <td>    2.032</td> <td>    2.190</td>\n",
       "</tr>\n",
       "<tr>\n",
       "  <th>x29</th> <td>    1.7772</td> <td>    0.066</td> <td>   27.084</td> <td> 0.000</td> <td>    1.649</td> <td>    1.906</td>\n",
       "</tr>\n",
       "</table>\n",
       "<table class=\"simpletable\">\n",
       "<tr>\n",
       "  <th>Omnibus:</th>       <td>717497.767</td> <th>  Durbin-Watson:     </th>   <td>   2.001</td>  \n",
       "</tr>\n",
       "<tr>\n",
       "  <th>Prob(Omnibus):</th>   <td> 0.000</td>   <th>  Jarque-Bera (JB):  </th> <td>36582124.361</td>\n",
       "</tr>\n",
       "<tr>\n",
       "  <th>Skew:</th>            <td> 4.554</td>   <th>  Prob(JB):          </th>   <td>    0.00</td>  \n",
       "</tr>\n",
       "<tr>\n",
       "  <th>Kurtosis:</th>        <td>35.695</td>   <th>  Cond. No.          </th>   <td>1.21e+16</td>  \n",
       "</tr>\n",
       "</table>"
      ],
      "text/plain": [
       "<class 'statsmodels.iolib.summary.Summary'>\n",
       "\"\"\"\n",
       "                            OLS Regression Results                            \n",
       "==============================================================================\n",
       "Dep. Variable:              time_diff   R-squared:                       0.435\n",
       "Model:                            OLS   Adj. R-squared:                  0.435\n",
       "Method:                 Least Squares   F-statistic:                 2.256e+04\n",
       "Date:                Fri, 15 Dec 2017   Prob (F-statistic):               0.00\n",
       "Time:                        17:18:13   Log-Likelihood:            -2.4511e+06\n",
       "No. Observations:              762165   AIC:                         4.902e+06\n",
       "Df Residuals:                  762138   BIC:                         4.903e+06\n",
       "Df Model:                          26                                         \n",
       "Covariance Type:            nonrobust                                         \n",
       "==============================================================================\n",
       "                 coef    std err          t      P>|t|      [0.025      0.975]\n",
       "------------------------------------------------------------------------------\n",
       "x1             7.1984      0.010    754.247      0.000       7.180       7.217\n",
       "x2            -1.4702      0.019    -78.043      0.000      -1.507      -1.433\n",
       "x3            -0.3523      0.031    -11.280      0.000      -0.413      -0.291\n",
       "x4             0.0542      0.002     26.231      0.000       0.050       0.058\n",
       "x5            -0.0044      0.001     -5.982      0.000      -0.006      -0.003\n",
       "x6            -0.0187      0.002    -12.252      0.000      -0.022      -0.016\n",
       "x7             0.2203      0.051      4.315      0.000       0.120       0.320\n",
       "x8             0.2466      0.031      8.020      0.000       0.186       0.307\n",
       "x9             0.1269      0.026      4.801      0.000       0.075       0.179\n",
       "x10            0.4908      0.021     23.476      0.000       0.450       0.532\n",
       "x11            1.2013      0.031     38.363      0.000       1.140       1.263\n",
       "x12            1.3430      0.029     46.992      0.000       1.287       1.399\n",
       "x13            0.7118      0.032     22.201      0.000       0.649       0.775\n",
       "x14            0.3135      0.037      8.479      0.000       0.241       0.386\n",
       "x15            0.3851      0.033     11.563      0.000       0.320       0.450\n",
       "x16            0.4119      0.030     13.669      0.000       0.353       0.471\n",
       "x17            0.4655      0.027     17.352      0.000       0.413       0.518\n",
       "x18            0.3520      0.029     12.056      0.000       0.295       0.409\n",
       "x19            0.1389      0.032      4.397      0.000       0.077       0.201\n",
       "x20            1.2403      0.026     48.023      0.000       1.190       1.291\n",
       "x21            0.7311      0.025     29.210      0.000       0.682       0.780\n",
       "x22            0.6742      0.024     28.462      0.000       0.628       0.721\n",
       "x23            0.5900      0.025     24.069      0.000       0.542       0.638\n",
       "x24            0.6879      0.024     28.113      0.000       0.640       0.736\n",
       "x25            0.7613      0.023     33.258      0.000       0.716       0.806\n",
       "x26            1.5023      0.025     60.955      0.000       1.454       1.551\n",
       "x27            2.2988      0.032     71.197      0.000       2.236       2.362\n",
       "x28            2.1111      0.040     52.396      0.000       2.032       2.190\n",
       "x29            1.7772      0.066     27.084      0.000       1.649       1.906\n",
       "==============================================================================\n",
       "Omnibus:                   717497.767   Durbin-Watson:                   2.001\n",
       "Prob(Omnibus):                  0.000   Jarque-Bera (JB):         36582124.361\n",
       "Skew:                           4.554   Prob(JB):                         0.00\n",
       "Kurtosis:                      35.695   Cond. No.                     1.21e+16\n",
       "==============================================================================\n",
       "\n",
       "Warnings:\n",
       "[1] Standard Errors assume that the covariance matrix of the errors is correctly specified.\n",
       "[2] The smallest eigenvalue is 2.39e-23. This might indicate that there are\n",
       "strong multicollinearity problems or that the design matrix is singular.\n",
       "\"\"\""
      ]
     },
     "execution_count": 17,
     "metadata": {},
     "output_type": "execute_result"
    }
   ],
   "source": [
    "# Use statsmodel to check the statistical side of the model\n",
    "model2_sm = sm.OLS(y2_train, X2_train.astype(float)).fit()\n",
    "model2_sm.summary()"
   ]
  },
  {
   "cell_type": "code",
   "execution_count": null,
   "metadata": {
    "collapsed": true
   },
   "outputs": [],
   "source": []
  },
  {
   "cell_type": "markdown",
   "metadata": {},
   "source": [
    "### Model 3 - All variables"
   ]
  },
  {
   "cell_type": "code",
   "execution_count": 18,
   "metadata": {
    "collapsed": true
   },
   "outputs": [],
   "source": [
    "# Keep all but time_diff\n",
    "X3 = np.matrix(bikeshare_machine.drop('time_diff', 1))\n",
    "y3 = bikeshare_machine['time_diff']"
   ]
  },
  {
   "cell_type": "code",
   "execution_count": 19,
   "metadata": {},
   "outputs": [
    {
     "data": {
      "text/plain": [
       "((762165, 34), (254056, 34), (762165,), (254056,))"
      ]
     },
     "execution_count": 19,
     "metadata": {},
     "output_type": "execute_result"
    }
   ],
   "source": [
    "# Split the data into training and testing sets and check the shape\n",
    "X3_train, X3_test, y3_train, y3_test = train_test_split(X3, y3, test_size = 0.25, random_state=17)\n",
    "X3_train.shape, X3_test.shape, y3_train.shape, y3_test.shape"
   ]
  },
  {
   "cell_type": "code",
   "execution_count": 20,
   "metadata": {},
   "outputs": [
    {
     "data": {
      "text/plain": [
       "LinearRegression(copy_X=True, fit_intercept=True, n_jobs=1, normalize=False)"
      ]
     },
     "execution_count": 20,
     "metadata": {},
     "output_type": "execute_result"
    }
   ],
   "source": [
    "# Fit model\n",
    "model3 = LinearRegression()\n",
    "model3.fit(X3_train, y3_train)"
   ]
  },
  {
   "cell_type": "code",
   "execution_count": 21,
   "metadata": {
    "collapsed": true
   },
   "outputs": [],
   "source": [
    "pred3 = model3.predict(X3_test)\n",
    "cvscores_model3 = cross_val_score(model3, X3_train, y3_train, cv=5)\n",
    "model3_r = model3.score(X3_test, y3_test)\n",
    "model3_mse = mean_squared_error(y3_test, pred3)\n",
    "model3_rmse = np.sqrt(model3_mse)\n",
    "adjustedr3 = 1 - (1-model3_r)*(len(y3_test)-1)/(len(y3_test)-X3_test.shape[1]-1)"
   ]
  },
  {
   "cell_type": "code",
   "execution_count": 22,
   "metadata": {},
   "outputs": [
    {
     "data": {
      "text/plain": [
       "(array([ 0.43521259,  0.43425207,  0.43651618,  0.42865573,  0.43966349]),\n",
       " 0.43322095485720424,\n",
       " 0.43314509306808102,\n",
       " 36.592164128975078,\n",
       " 6.0491457354716687)"
      ]
     },
     "execution_count": 22,
     "metadata": {},
     "output_type": "execute_result"
    }
   ],
   "source": [
    "cvscores_model3, model3_r, adjustedr3, model3_mse, model3_rmse"
   ]
  },
  {
   "cell_type": "code",
   "execution_count": 23,
   "metadata": {},
   "outputs": [
    {
     "data": {
      "text/html": [
       "<table class=\"simpletable\">\n",
       "<caption>OLS Regression Results</caption>\n",
       "<tr>\n",
       "  <th>Dep. Variable:</th>        <td>time_diff</td>    <th>  R-squared:         </th>  <td>   0.435</td>  \n",
       "</tr>\n",
       "<tr>\n",
       "  <th>Model:</th>                   <td>OLS</td>       <th>  Adj. R-squared:    </th>  <td>   0.435</td>  \n",
       "</tr>\n",
       "<tr>\n",
       "  <th>Method:</th>             <td>Least Squares</td>  <th>  F-statistic:       </th>  <td>2.023e+04</td> \n",
       "</tr>\n",
       "<tr>\n",
       "  <th>Date:</th>             <td>Fri, 15 Dec 2017</td> <th>  Prob (F-statistic):</th>   <td>  0.00</td>   \n",
       "</tr>\n",
       "<tr>\n",
       "  <th>Time:</th>                 <td>17:18:38</td>     <th>  Log-Likelihood:    </th> <td>-2.4511e+06</td>\n",
       "</tr>\n",
       "<tr>\n",
       "  <th>No. Observations:</th>      <td>762165</td>      <th>  AIC:               </th>  <td>4.902e+06</td> \n",
       "</tr>\n",
       "<tr>\n",
       "  <th>Df Residuals:</th>          <td>762135</td>      <th>  BIC:               </th>  <td>4.903e+06</td> \n",
       "</tr>\n",
       "<tr>\n",
       "  <th>Df Model:</th>              <td>    29</td>      <th>                     </th>      <td> </td>     \n",
       "</tr>\n",
       "<tr>\n",
       "  <th>Covariance Type:</th>      <td>nonrobust</td>    <th>                     </th>      <td> </td>     \n",
       "</tr>\n",
       "</table>\n",
       "<table class=\"simpletable\">\n",
       "<tr>\n",
       "   <td></td>      <th>coef</th>     <th>std err</th>      <th>t</th>      <th>P>|t|</th>  <th>[0.025</th>    <th>0.975]</th>  \n",
       "</tr>\n",
       "<tr>\n",
       "  <th>x1</th>  <td>    7.1983</td> <td>    0.010</td> <td>  754.236</td> <td> 0.000</td> <td>    7.180</td> <td>    7.217</td>\n",
       "</tr>\n",
       "<tr>\n",
       "  <th>x2</th>  <td>   -1.4702</td> <td>    0.019</td> <td>  -78.038</td> <td> 0.000</td> <td>   -1.507</td> <td>   -1.433</td>\n",
       "</tr>\n",
       "<tr>\n",
       "  <th>x3</th>  <td>   -0.3523</td> <td>    0.031</td> <td>  -11.282</td> <td> 0.000</td> <td>   -0.414</td> <td>   -0.291</td>\n",
       "</tr>\n",
       "<tr>\n",
       "  <th>x4</th>  <td>    0.0542</td> <td>    0.002</td> <td>   26.192</td> <td> 0.000</td> <td>    0.050</td> <td>    0.058</td>\n",
       "</tr>\n",
       "<tr>\n",
       "  <th>x5</th>  <td>   -0.0044</td> <td>    0.001</td> <td>   -5.913</td> <td> 0.000</td> <td>   -0.006</td> <td>   -0.003</td>\n",
       "</tr>\n",
       "<tr>\n",
       "  <th>x6</th>  <td>   -0.0187</td> <td>    0.002</td> <td>  -12.225</td> <td> 0.000</td> <td>   -0.022</td> <td>   -0.016</td>\n",
       "</tr>\n",
       "<tr>\n",
       "  <th>x7</th>  <td>    0.6758</td> <td>    0.040</td> <td>   16.689</td> <td> 0.000</td> <td>    0.596</td> <td>    0.755</td>\n",
       "</tr>\n",
       "<tr>\n",
       "  <th>x8</th>  <td>    0.4571</td> <td>    0.021</td> <td>   21.633</td> <td> 0.000</td> <td>    0.416</td> <td>    0.498</td>\n",
       "</tr>\n",
       "<tr>\n",
       "  <th>x9</th>  <td>    0.9235</td> <td>    0.034</td> <td>   27.288</td> <td> 0.000</td> <td>    0.857</td> <td>    0.990</td>\n",
       "</tr>\n",
       "<tr>\n",
       "  <th>x10</th> <td>    0.9880</td> <td>    0.031</td> <td>   31.610</td> <td> 0.000</td> <td>    0.927</td> <td>    1.049</td>\n",
       "</tr>\n",
       "<tr>\n",
       "  <th>x11</th> <td>    1.0141</td> <td>    0.034</td> <td>   30.183</td> <td> 0.000</td> <td>    0.948</td> <td>    1.080</td>\n",
       "</tr>\n",
       "<tr>\n",
       "  <th>x12</th> <td>    0.9408</td> <td>    0.037</td> <td>   25.338</td> <td> 0.000</td> <td>    0.868</td> <td>    1.014</td>\n",
       "</tr>\n",
       "<tr>\n",
       "  <th>x13</th> <td>    0.0964</td> <td>    0.041</td> <td>    2.328</td> <td> 0.020</td> <td>    0.015</td> <td>    0.178</td>\n",
       "</tr>\n",
       "<tr>\n",
       "  <th>x14</th> <td>   -0.0230</td> <td>    0.038</td> <td>   -0.599</td> <td> 0.549</td> <td>   -0.098</td> <td>    0.052</td>\n",
       "</tr>\n",
       "<tr>\n",
       "  <th>x15</th> <td>    0.3169</td> <td>    0.029</td> <td>   10.953</td> <td> 0.000</td> <td>    0.260</td> <td>    0.374</td>\n",
       "</tr>\n",
       "<tr>\n",
       "  <th>x16</th> <td>    0.9872</td> <td>    0.039</td> <td>   25.175</td> <td> 0.000</td> <td>    0.910</td> <td>    1.064</td>\n",
       "</tr>\n",
       "<tr>\n",
       "  <th>x17</th> <td>    1.1286</td> <td>    0.037</td> <td>   30.470</td> <td> 0.000</td> <td>    1.056</td> <td>    1.201</td>\n",
       "</tr>\n",
       "<tr>\n",
       "  <th>x18</th> <td>    0.4892</td> <td>    0.035</td> <td>   13.921</td> <td> 0.000</td> <td>    0.420</td> <td>    0.558</td>\n",
       "</tr>\n",
       "<tr>\n",
       "  <th>x19</th> <td>    0.0736</td> <td>    0.045</td> <td>    1.619</td> <td> 0.105</td> <td>   -0.015</td> <td>    0.163</td>\n",
       "</tr>\n",
       "<tr>\n",
       "  <th>x20</th> <td>    0.1452</td> <td>    0.043</td> <td>    3.399</td> <td> 0.001</td> <td>    0.061</td> <td>    0.229</td>\n",
       "</tr>\n",
       "<tr>\n",
       "  <th>x21</th> <td>    0.1931</td> <td>    0.035</td> <td>    5.479</td> <td> 0.000</td> <td>    0.124</td> <td>    0.262</td>\n",
       "</tr>\n",
       "<tr>\n",
       "  <th>x22</th> <td>    0.2984</td> <td>    0.042</td> <td>    7.171</td> <td> 0.000</td> <td>    0.217</td> <td>    0.380</td>\n",
       "</tr>\n",
       "<tr>\n",
       "  <th>x23</th> <td>    0.1849</td> <td>    0.043</td> <td>    4.255</td> <td> 0.000</td> <td>    0.100</td> <td>    0.270</td>\n",
       "</tr>\n",
       "<tr>\n",
       "  <th>x24</th> <td>   -0.0242</td> <td>    0.039</td> <td>   -0.627</td> <td> 0.531</td> <td>   -0.100</td> <td>    0.051</td>\n",
       "</tr>\n",
       "<tr>\n",
       "  <th>x25</th> <td>    1.2358</td> <td>    0.028</td> <td>   44.319</td> <td> 0.000</td> <td>    1.181</td> <td>    1.290</td>\n",
       "</tr>\n",
       "<tr>\n",
       "  <th>x26</th> <td>    0.2692</td> <td>    0.018</td> <td>   15.319</td> <td> 0.000</td> <td>    0.235</td> <td>    0.304</td>\n",
       "</tr>\n",
       "<tr>\n",
       "  <th>x27</th> <td>    0.2122</td> <td>    0.018</td> <td>   11.804</td> <td> 0.000</td> <td>    0.177</td> <td>    0.247</td>\n",
       "</tr>\n",
       "<tr>\n",
       "  <th>x28</th> <td>    0.1270</td> <td>    0.018</td> <td>    6.869</td> <td> 0.000</td> <td>    0.091</td> <td>    0.163</td>\n",
       "</tr>\n",
       "<tr>\n",
       "  <th>x29</th> <td>    0.2249</td> <td>    0.018</td> <td>   12.294</td> <td> 0.000</td> <td>    0.189</td> <td>    0.261</td>\n",
       "</tr>\n",
       "<tr>\n",
       "  <th>x30</th> <td>    0.2995</td> <td>    0.017</td> <td>   17.232</td> <td> 0.000</td> <td>    0.265</td> <td>    0.334</td>\n",
       "</tr>\n",
       "<tr>\n",
       "  <th>x31</th> <td>    1.4977</td> <td>    0.027</td> <td>   56.151</td> <td> 0.000</td> <td>    1.445</td> <td>    1.550</td>\n",
       "</tr>\n",
       "<tr>\n",
       "  <th>x32</th> <td>    1.5289</td> <td>    0.020</td> <td>   74.728</td> <td> 0.000</td> <td>    1.489</td> <td>    1.569</td>\n",
       "</tr>\n",
       "<tr>\n",
       "  <th>x33</th> <td>    1.3394</td> <td>    0.027</td> <td>   49.913</td> <td> 0.000</td> <td>    1.287</td> <td>    1.392</td>\n",
       "</tr>\n",
       "<tr>\n",
       "  <th>x34</th> <td>    0.9981</td> <td>    0.052</td> <td>   19.208</td> <td> 0.000</td> <td>    0.896</td> <td>    1.100</td>\n",
       "</tr>\n",
       "</table>\n",
       "<table class=\"simpletable\">\n",
       "<tr>\n",
       "  <th>Omnibus:</th>       <td>717486.372</td> <th>  Durbin-Watson:     </th>   <td>   2.001</td>  \n",
       "</tr>\n",
       "<tr>\n",
       "  <th>Prob(Omnibus):</th>   <td> 0.000</td>   <th>  Jarque-Bera (JB):  </th> <td>36579884.050</td>\n",
       "</tr>\n",
       "<tr>\n",
       "  <th>Skew:</th>            <td> 4.554</td>   <th>  Prob(JB):          </th>   <td>    0.00</td>  \n",
       "</tr>\n",
       "<tr>\n",
       "  <th>Kurtosis:</th>        <td>35.694</td>   <th>  Cond. No.          </th>   <td>1.21e+16</td>  \n",
       "</tr>\n",
       "</table>"
      ],
      "text/plain": [
       "<class 'statsmodels.iolib.summary.Summary'>\n",
       "\"\"\"\n",
       "                            OLS Regression Results                            \n",
       "==============================================================================\n",
       "Dep. Variable:              time_diff   R-squared:                       0.435\n",
       "Model:                            OLS   Adj. R-squared:                  0.435\n",
       "Method:                 Least Squares   F-statistic:                 2.023e+04\n",
       "Date:                Fri, 15 Dec 2017   Prob (F-statistic):               0.00\n",
       "Time:                        17:18:38   Log-Likelihood:            -2.4511e+06\n",
       "No. Observations:              762165   AIC:                         4.902e+06\n",
       "Df Residuals:                  762135   BIC:                         4.903e+06\n",
       "Df Model:                          29                                         \n",
       "Covariance Type:            nonrobust                                         \n",
       "==============================================================================\n",
       "                 coef    std err          t      P>|t|      [0.025      0.975]\n",
       "------------------------------------------------------------------------------\n",
       "x1             7.1983      0.010    754.236      0.000       7.180       7.217\n",
       "x2            -1.4702      0.019    -78.038      0.000      -1.507      -1.433\n",
       "x3            -0.3523      0.031    -11.282      0.000      -0.414      -0.291\n",
       "x4             0.0542      0.002     26.192      0.000       0.050       0.058\n",
       "x5            -0.0044      0.001     -5.913      0.000      -0.006      -0.003\n",
       "x6            -0.0187      0.002    -12.225      0.000      -0.022      -0.016\n",
       "x7             0.6758      0.040     16.689      0.000       0.596       0.755\n",
       "x8             0.4571      0.021     21.633      0.000       0.416       0.498\n",
       "x9             0.9235      0.034     27.288      0.000       0.857       0.990\n",
       "x10            0.9880      0.031     31.610      0.000       0.927       1.049\n",
       "x11            1.0141      0.034     30.183      0.000       0.948       1.080\n",
       "x12            0.9408      0.037     25.338      0.000       0.868       1.014\n",
       "x13            0.0964      0.041      2.328      0.020       0.015       0.178\n",
       "x14           -0.0230      0.038     -0.599      0.549      -0.098       0.052\n",
       "x15            0.3169      0.029     10.953      0.000       0.260       0.374\n",
       "x16            0.9872      0.039     25.175      0.000       0.910       1.064\n",
       "x17            1.1286      0.037     30.470      0.000       1.056       1.201\n",
       "x18            0.4892      0.035     13.921      0.000       0.420       0.558\n",
       "x19            0.0736      0.045      1.619      0.105      -0.015       0.163\n",
       "x20            0.1452      0.043      3.399      0.001       0.061       0.229\n",
       "x21            0.1931      0.035      5.479      0.000       0.124       0.262\n",
       "x22            0.2984      0.042      7.171      0.000       0.217       0.380\n",
       "x23            0.1849      0.043      4.255      0.000       0.100       0.270\n",
       "x24           -0.0242      0.039     -0.627      0.531      -0.100       0.051\n",
       "x25            1.2358      0.028     44.319      0.000       1.181       1.290\n",
       "x26            0.2692      0.018     15.319      0.000       0.235       0.304\n",
       "x27            0.2122      0.018     11.804      0.000       0.177       0.247\n",
       "x28            0.1270      0.018      6.869      0.000       0.091       0.163\n",
       "x29            0.2249      0.018     12.294      0.000       0.189       0.261\n",
       "x30            0.2995      0.017     17.232      0.000       0.265       0.334\n",
       "x31            1.4977      0.027     56.151      0.000       1.445       1.550\n",
       "x32            1.5289      0.020     74.728      0.000       1.489       1.569\n",
       "x33            1.3394      0.027     49.913      0.000       1.287       1.392\n",
       "x34            0.9981      0.052     19.208      0.000       0.896       1.100\n",
       "==============================================================================\n",
       "Omnibus:                   717486.372   Durbin-Watson:                   2.001\n",
       "Prob(Omnibus):                  0.000   Jarque-Bera (JB):         36579884.050\n",
       "Skew:                           4.554   Prob(JB):                         0.00\n",
       "Kurtosis:                      35.694   Cond. No.                     1.21e+16\n",
       "==============================================================================\n",
       "\n",
       "Warnings:\n",
       "[1] Standard Errors assume that the covariance matrix of the errors is correctly specified.\n",
       "[2] The smallest eigenvalue is 2.39e-23. This might indicate that there are\n",
       "strong multicollinearity problems or that the design matrix is singular.\n",
       "\"\"\""
      ]
     },
     "execution_count": 23,
     "metadata": {},
     "output_type": "execute_result"
    }
   ],
   "source": [
    "# Use statsmodel to check the statistical side of the model\n",
    "model3_sm = sm.OLS(y3_train, X3_train.astype(float)).fit()\n",
    "model3_sm.summary()"
   ]
  },
  {
   "cell_type": "code",
   "execution_count": null,
   "metadata": {
    "collapsed": true
   },
   "outputs": [],
   "source": []
  },
  {
   "cell_type": "markdown",
   "metadata": {},
   "source": [
    "### Model 4 - Ridge with Round 1"
   ]
  },
  {
   "cell_type": "code",
   "execution_count": 24,
   "metadata": {},
   "outputs": [
    {
     "data": {
      "text/plain": [
       "GridSearchCV(cv=5, error_score='raise',\n",
       "       estimator=Ridge(alpha=1.0, copy_X=True, fit_intercept=True, max_iter=None,\n",
       "   normalize=False, random_state=None, solver='auto', tol=0.001),\n",
       "       fit_params={}, iid=True, n_jobs=1,\n",
       "       param_grid={'alpha': array([ 0.0001])}, pre_dispatch='2*n_jobs',\n",
       "       refit=True, return_train_score=True, scoring=None, verbose=0)"
      ]
     },
     "execution_count": 24,
     "metadata": {},
     "output_type": "execute_result"
    }
   ],
   "source": [
    "# Fit the model with 5 folds\n",
    "alpha = np.arange(0.0001, 20, 25)\n",
    "param_grid = {'alpha': alpha}\n",
    "ridge1 = Ridge(fit_intercept=True)\n",
    "ridge1_gs = GridSearchCV(ridge1, param_grid, cv=5)\n",
    "ridge1_gs.fit(X1_train, y1_train)"
   ]
  },
  {
   "cell_type": "code",
   "execution_count": 25,
   "metadata": {
    "collapsed": true
   },
   "outputs": [],
   "source": [
    "pred4 = ridge1_gs.predict(X1_test)\n",
    "ridge1_r = ridge1_gs.score(X1_test, y1_test)\n",
    "ridge1_mse = mean_squared_error(y1_test, pred4)\n",
    "ridge1_rmse = np.sqrt(ridge1_mse)\n",
    "adjustedr4 = 1 - (1-ridge1_r)*(len(y1_test)-1)/(len(y1_test)-X1_test.shape[1]-1)"
   ]
  },
  {
   "cell_type": "code",
   "execution_count": 26,
   "metadata": {},
   "outputs": [
    {
     "data": {
      "text/plain": [
       "(0.43248993279578829,\n",
       " 36.639360085640156,\n",
       " 6.0530455215238677,\n",
       " 0.43245642369876391)"
      ]
     },
     "execution_count": 26,
     "metadata": {},
     "output_type": "execute_result"
    }
   ],
   "source": [
    "ridge1_r, ridge1_mse, ridge1_rmse, adjustedr4"
   ]
  },
  {
   "cell_type": "code",
   "execution_count": null,
   "metadata": {
    "collapsed": true
   },
   "outputs": [],
   "source": []
  },
  {
   "cell_type": "markdown",
   "metadata": {
    "collapsed": true
   },
   "source": [
    "### Ridge with Round 2"
   ]
  },
  {
   "cell_type": "code",
   "execution_count": 27,
   "metadata": {},
   "outputs": [
    {
     "data": {
      "text/plain": [
       "GridSearchCV(cv=5, error_score='raise',\n",
       "       estimator=Ridge(alpha=1.0, copy_X=True, fit_intercept=True, max_iter=None,\n",
       "   normalize=False, random_state=None, solver='auto', tol=0.001),\n",
       "       fit_params={}, iid=True, n_jobs=1,\n",
       "       param_grid={'alpha': array([ 0.0001])}, pre_dispatch='2*n_jobs',\n",
       "       refit=True, return_train_score=True, scoring=None, verbose=0)"
      ]
     },
     "execution_count": 27,
     "metadata": {},
     "output_type": "execute_result"
    }
   ],
   "source": [
    "# Fit the model with 5 folds\n",
    "alpha = np.arange(0.0001, 20, 25)\n",
    "param_grid = {'alpha': alpha}\n",
    "ridge2 = Ridge(fit_intercept=True)\n",
    "ridge2_gs = GridSearchCV(ridge2, param_grid, cv=5)\n",
    "ridge2_gs.fit(X2_train, y2_train)"
   ]
  },
  {
   "cell_type": "code",
   "execution_count": 28,
   "metadata": {
    "collapsed": true
   },
   "outputs": [],
   "source": [
    "pred5 = ridge2_gs.predict(X2_test)\n",
    "ridge2_r = ridge2_gs.score(X2_test, y2_test)\n",
    "ridge2_mse = mean_squared_error(y2_test, pred5)\n",
    "ridge2_rmse = np.sqrt(ridge2_mse)\n",
    "adjustedr5 = 1 - (1-ridge2_r)*(len(y2_test)-1)/(len(y2_test)-X2_test.shape[1]-1)"
   ]
  },
  {
   "cell_type": "code",
   "execution_count": 29,
   "metadata": {},
   "outputs": [
    {
     "data": {
      "text/plain": [
       "(0.43321995840138683,\n",
       " 36.592228461760719,\n",
       " 6.0491510529793118,\n",
       " 0.43315525391756871)"
      ]
     },
     "execution_count": 29,
     "metadata": {},
     "output_type": "execute_result"
    }
   ],
   "source": [
    "ridge2_r, ridge2_mse, ridge2_rmse, adjustedr5"
   ]
  },
  {
   "cell_type": "code",
   "execution_count": null,
   "metadata": {
    "collapsed": true
   },
   "outputs": [],
   "source": []
  },
  {
   "cell_type": "markdown",
   "metadata": {
    "collapsed": true
   },
   "source": [
    "### Ridge with all data"
   ]
  },
  {
   "cell_type": "code",
   "execution_count": 30,
   "metadata": {},
   "outputs": [
    {
     "data": {
      "text/plain": [
       "GridSearchCV(cv=5, error_score='raise',\n",
       "       estimator=Ridge(alpha=1.0, copy_X=True, fit_intercept=True, max_iter=None,\n",
       "   normalize=False, random_state=None, solver='auto', tol=0.001),\n",
       "       fit_params={}, iid=True, n_jobs=1,\n",
       "       param_grid={'alpha': array([ 0.0001])}, pre_dispatch='2*n_jobs',\n",
       "       refit=True, return_train_score=True, scoring=None, verbose=0)"
      ]
     },
     "execution_count": 30,
     "metadata": {},
     "output_type": "execute_result"
    }
   ],
   "source": [
    "# Fit the model with 5 folds\n",
    "alpha = np.arange(0.0001, 20, 25)\n",
    "param_grid = {'alpha': alpha}\n",
    "ridge3 = Ridge(fit_intercept=True)\n",
    "ridge3_gs = GridSearchCV(ridge3, param_grid, cv=5)\n",
    "ridge3_gs.fit(X3_train, y3_train)"
   ]
  },
  {
   "cell_type": "code",
   "execution_count": 31,
   "metadata": {
    "collapsed": true
   },
   "outputs": [],
   "source": [
    "pred6 = ridge3_gs.predict(X3_test)\n",
    "ridge3_r = ridge3_gs.score(X3_test, y3_test)\n",
    "ridge3_mse = mean_squared_error(y3_test, pred6)\n",
    "ridge3_rmse = np.sqrt(ridge3_mse)\n",
    "adjustedr6 = 1 - (1-ridge3_r)*(len(y3_test)-1)/(len(y3_test)-X3_test.shape[1]-1)"
   ]
  },
  {
   "cell_type": "code",
   "execution_count": 32,
   "metadata": {},
   "outputs": [
    {
     "data": {
      "text/plain": [
       "(0.4332209548577356,\n",
       " 36.592164128940773,\n",
       " 6.0491457354688336,\n",
       " 0.43314509306861249)"
      ]
     },
     "execution_count": 32,
     "metadata": {},
     "output_type": "execute_result"
    }
   ],
   "source": [
    "ridge3_r, ridge3_mse, ridge3_rmse, adjustedr6"
   ]
  },
  {
   "cell_type": "code",
   "execution_count": null,
   "metadata": {
    "collapsed": true
   },
   "outputs": [],
   "source": []
  },
  {
   "cell_type": "code",
   "execution_count": null,
   "metadata": {
    "collapsed": true
   },
   "outputs": [],
   "source": []
  }
 ],
 "metadata": {
  "kernelspec": {
   "display_name": "Python 3",
   "language": "python",
   "name": "python3"
  },
  "language_info": {
   "codemirror_mode": {
    "name": "ipython",
    "version": 3
   },
   "file_extension": ".py",
   "mimetype": "text/x-python",
   "name": "python",
   "nbconvert_exporter": "python",
   "pygments_lexer": "ipython3",
   "version": "3.6.1"
  }
 },
 "nbformat": 4,
 "nbformat_minor": 2
}
